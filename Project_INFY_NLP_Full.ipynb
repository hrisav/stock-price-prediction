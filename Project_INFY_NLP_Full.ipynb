{
  "nbformat": 4,
  "nbformat_minor": 0,
  "metadata": {
    "colab": {
      "name": "Project INFY NLP Full.ipynb",
      "provenance": [],
      "collapsed_sections": []
    },
    "kernelspec": {
      "name": "python3",
      "display_name": "Python 3"
    },
    "language_info": {
      "name": "python"
    }
  },
  "cells": [
    {
      "cell_type": "code",
      "metadata": {
        "id": "Dgw2_QuvwnjE"
      },
      "source": [
        "import pandas as pd\n",
        "import numpy as np\n",
        "import matplotlib.pyplot as plt\n",
        "import seaborn as sns\n",
        "plt.style.use('fivethirtyeight')\n",
        "\n",
        "import warnings\n",
        "warnings.filterwarnings('ignore')"
      ],
      "execution_count": null,
      "outputs": []
    },
    {
      "cell_type": "code",
      "metadata": {
        "id": "0tegUKIi1uzo"
      },
      "source": [
        "import re\n",
        "import nltk\n",
        "from nltk.stem import PorterStemmer # for stemming\n",
        "from nltk.corpus import stopwords\n",
        "from nltk.sentiment.vader import SentimentIntensityAnalyzer\n",
        "import unicodedata"
      ],
      "execution_count": null,
      "outputs": []
    },
    {
      "cell_type": "code",
      "metadata": {
        "colab": {
          "base_uri": "https://localhost:8080/"
        },
        "id": "mCjLwhOQ2jZb",
        "outputId": "afff53b0-3342-45f7-bd7b-50d61a2c63f8"
      },
      "source": [
        "nltk.download('stopwords')"
      ],
      "execution_count": null,
      "outputs": [
        {
          "output_type": "stream",
          "text": [
            "[nltk_data] Downloading package stopwords to /root/nltk_data...\n",
            "[nltk_data]   Package stopwords is already up-to-date!\n"
          ],
          "name": "stdout"
        },
        {
          "output_type": "execute_result",
          "data": {
            "text/plain": [
              "True"
            ]
          },
          "metadata": {
            "tags": []
          },
          "execution_count": 3
        }
      ]
    },
    {
      "cell_type": "code",
      "metadata": {
        "colab": {
          "base_uri": "https://localhost:8080/"
        },
        "id": "xeJaku472kvl",
        "outputId": "38b18243-6dca-4b20-f546-fd4a05b67fca"
      },
      "source": [
        "nltk.download('punkt')"
      ],
      "execution_count": null,
      "outputs": [
        {
          "output_type": "stream",
          "text": [
            "[nltk_data] Downloading package punkt to /root/nltk_data...\n",
            "[nltk_data]   Package punkt is already up-to-date!\n"
          ],
          "name": "stdout"
        },
        {
          "output_type": "execute_result",
          "data": {
            "text/plain": [
              "True"
            ]
          },
          "metadata": {
            "tags": []
          },
          "execution_count": 4
        }
      ]
    },
    {
      "cell_type": "code",
      "metadata": {
        "colab": {
          "base_uri": "https://localhost:8080/"
        },
        "id": "iJoqepijKC90",
        "outputId": "239e00d7-ad4b-4250-9391-d60986fe63aa"
      },
      "source": [
        "nltk.download('vader_lexicon')"
      ],
      "execution_count": null,
      "outputs": [
        {
          "output_type": "stream",
          "text": [
            "[nltk_data] Downloading package vader_lexicon to /root/nltk_data...\n"
          ],
          "name": "stdout"
        },
        {
          "output_type": "execute_result",
          "data": {
            "text/plain": [
              "True"
            ]
          },
          "metadata": {
            "tags": []
          },
          "execution_count": 34
        }
      ]
    },
    {
      "cell_type": "code",
      "metadata": {
        "id": "bc8T8WnowL_J"
      },
      "source": [
        "import requests\n",
        "url = 'https://raw.githubusercontent.com/raviyadav14697/Stock-Price-Prediction-using-News-Headlines-Twitter-Sentiment-Analysis-and-Historical-Data/master/news/input/finalsortedmoneycontrol.csv'\n",
        "res = requests.get(url, allow_redirects=True)\n",
        "with open('infy_news.csv','wb') as file:\n",
        "    file.write(res.content)"
      ],
      "execution_count": null,
      "outputs": []
    },
    {
      "cell_type": "code",
      "metadata": {
        "colab": {
          "base_uri": "https://localhost:8080/"
        },
        "id": "Z021aIvE0uQb",
        "outputId": "51d3de92-10c9-4ed2-ba71-b62642a6e3a0"
      },
      "source": [
        "!gdown https://drive.google.com/uc?id=1blqEPpxXOEsN0keV7yeCm-nLC37GhKBe"
      ],
      "execution_count": null,
      "outputs": [
        {
          "output_type": "stream",
          "text": [
            "Downloading...\n",
            "From: https://drive.google.com/uc?id=1blqEPpxXOEsN0keV7yeCm-nLC37GhKBe\n",
            "To: /content/infy_news.csv\n",
            "\r  0% 0.00/361k [00:00<?, ?B/s]\r100% 361k/361k [00:00<00:00, 51.6MB/s]\n"
          ],
          "name": "stdout"
        }
      ]
    },
    {
      "cell_type": "code",
      "metadata": {
        "colab": {
          "base_uri": "https://localhost:8080/",
          "height": 194
        },
        "id": "ALUoRhscwZ0l",
        "outputId": "121164d5-0cf7-4d72-ddf4-f7406b4e5c80"
      },
      "source": [
        "infy_news = pd.read_csv('infy_news.csv')\n",
        "infy_news.head()"
      ],
      "execution_count": null,
      "outputs": [
        {
          "output_type": "execute_result",
          "data": {
            "text/html": [
              "<div>\n",
              "<style scoped>\n",
              "    .dataframe tbody tr th:only-of-type {\n",
              "        vertical-align: middle;\n",
              "    }\n",
              "\n",
              "    .dataframe tbody tr th {\n",
              "        vertical-align: top;\n",
              "    }\n",
              "\n",
              "    .dataframe thead th {\n",
              "        text-align: right;\n",
              "    }\n",
              "</style>\n",
              "<table border=\"1\" class=\"dataframe\">\n",
              "  <thead>\n",
              "    <tr style=\"text-align: right;\">\n",
              "      <th></th>\n",
              "      <th>time</th>\n",
              "      <th>date</th>\n",
              "      <th>Source</th>\n",
              "      <th>News Headlines</th>\n",
              "    </tr>\n",
              "  </thead>\n",
              "  <tbody>\n",
              "    <tr>\n",
              "      <th>0</th>\n",
              "      <td>3.38 pm</td>\n",
              "      <td>2009-01-01</td>\n",
              "      <td>Moneycontrol.com</td>\n",
              "      <td>Infy Q3 PAT seen at Rs 1572 cr: KRChoksey</td>\n",
              "    </tr>\n",
              "    <tr>\n",
              "      <th>1</th>\n",
              "      <td>9.05 am</td>\n",
              "      <td>2009-01-01</td>\n",
              "      <td>Business Line</td>\n",
              "      <td>Corporate houses seek CISF protection</td>\n",
              "    </tr>\n",
              "    <tr>\n",
              "      <th>2</th>\n",
              "      <td>8.44 pm</td>\n",
              "      <td>2009-01-05</td>\n",
              "      <td>Moneycontrol.com</td>\n",
              "      <td>Hold Infosys Tech, TCS, Satyam: Emkay Global</td>\n",
              "    </tr>\n",
              "    <tr>\n",
              "      <th>3</th>\n",
              "      <td>1.00 pm</td>\n",
              "      <td>2009-01-05</td>\n",
              "      <td>Moneycontrol.com</td>\n",
              "      <td>Infosys' Dec qtr PAT seen at Rs 1491 cr: Angel</td>\n",
              "    </tr>\n",
              "    <tr>\n",
              "      <th>4</th>\n",
              "      <td>8.53 am</td>\n",
              "      <td>2009-01-06</td>\n",
              "      <td>Business Line</td>\n",
              "      <td>IT majors may miss Q3 revenue forecast: CLSA</td>\n",
              "    </tr>\n",
              "  </tbody>\n",
              "</table>\n",
              "</div>"
            ],
            "text/plain": [
              "       time  ...                                    News Headlines\n",
              "0  3.38 pm   ...       Infy Q3 PAT seen at Rs 1572 cr: KRChoksey  \n",
              "1  9.05 am   ...          Corporate houses seek CISF protection   \n",
              "2  8.44 pm   ...   Hold Infosys Tech, TCS, Satyam: Emkay Global   \n",
              "3  1.00 pm   ...  Infosys' Dec qtr PAT seen at Rs 1491 cr: Angel  \n",
              "4  8.53 am   ...   IT majors may miss Q3 revenue forecast: CLSA   \n",
              "\n",
              "[5 rows x 4 columns]"
            ]
          },
          "metadata": {
            "tags": []
          },
          "execution_count": 6
        }
      ]
    },
    {
      "cell_type": "code",
      "metadata": {
        "colab": {
          "base_uri": "https://localhost:8080/",
          "height": 194
        },
        "id": "uwl7GcOrwrC7",
        "outputId": "8737eec8-c176-46d8-ced7-c0b275785502"
      },
      "source": [
        "infy_news.tail()"
      ],
      "execution_count": null,
      "outputs": [
        {
          "output_type": "execute_result",
          "data": {
            "text/html": [
              "<div>\n",
              "<style scoped>\n",
              "    .dataframe tbody tr th:only-of-type {\n",
              "        vertical-align: middle;\n",
              "    }\n",
              "\n",
              "    .dataframe tbody tr th {\n",
              "        vertical-align: top;\n",
              "    }\n",
              "\n",
              "    .dataframe thead th {\n",
              "        text-align: right;\n",
              "    }\n",
              "</style>\n",
              "<table border=\"1\" class=\"dataframe\">\n",
              "  <thead>\n",
              "    <tr style=\"text-align: right;\">\n",
              "      <th></th>\n",
              "      <th>time</th>\n",
              "      <th>date</th>\n",
              "      <th>Source</th>\n",
              "      <th>News Headlines</th>\n",
              "    </tr>\n",
              "  </thead>\n",
              "  <tbody>\n",
              "    <tr>\n",
              "      <th>4223</th>\n",
              "      <td>2.48 pm</td>\n",
              "      <td>2018-01-22</td>\n",
              "      <td>PTI</td>\n",
              "      <td>Infosys selected as tech partner by A S Watson...</td>\n",
              "    </tr>\n",
              "    <tr>\n",
              "      <th>4224</th>\n",
              "      <td>2.59 pm</td>\n",
              "      <td>2018-01-22</td>\n",
              "      <td>PTI</td>\n",
              "      <td>Startups will flourish if regulations are ease...</td>\n",
              "    </tr>\n",
              "    <tr>\n",
              "      <th>4225</th>\n",
              "      <td>7.27 pm</td>\n",
              "      <td>2018-01-22</td>\n",
              "      <td>Moneycontrol.com</td>\n",
              "      <td>News highlights of the day: 'India's Osama' ma...</td>\n",
              "    </tr>\n",
              "    <tr>\n",
              "      <th>4226</th>\n",
              "      <td>12.22 pm</td>\n",
              "      <td>2018-01-24</td>\n",
              "      <td>CNBC-TV18</td>\n",
              "      <td>Buy Infosys, TCS, Mphasis, Polaris, Tata Elxsi...</td>\n",
              "    </tr>\n",
              "    <tr>\n",
              "      <th>4227</th>\n",
              "      <td>9.49 am</td>\n",
              "      <td>2018-01-25</td>\n",
              "      <td>Moneycontrol.com</td>\n",
              "      <td>No high beta but quality to lead rally in 2018...</td>\n",
              "    </tr>\n",
              "  </tbody>\n",
              "</table>\n",
              "</div>"
            ],
            "text/plain": [
              "           time  ...                                     News Headlines\n",
              "4223   2.48 pm   ...  Infosys selected as tech partner by A S Watson...\n",
              "4224   2.59 pm   ...  Startups will flourish if regulations are ease...\n",
              "4225   7.27 pm   ...  News highlights of the day: 'India's Osama' ma...\n",
              "4226  12.22 pm   ...  Buy Infosys, TCS, Mphasis, Polaris, Tata Elxsi...\n",
              "4227   9.49 am   ...  No high beta but quality to lead rally in 2018...\n",
              "\n",
              "[5 rows x 4 columns]"
            ]
          },
          "metadata": {
            "tags": []
          },
          "execution_count": 7
        }
      ]
    },
    {
      "cell_type": "code",
      "metadata": {
        "id": "SnWQUCIAxJ-8"
      },
      "source": [
        "infy_news = infy_news.rename(columns={'News Headlines': 'headlines'})"
      ],
      "execution_count": null,
      "outputs": []
    },
    {
      "cell_type": "code",
      "metadata": {
        "colab": {
          "base_uri": "https://localhost:8080/",
          "height": 194
        },
        "id": "QOPsf1rzz6R-",
        "outputId": "130900e1-0ce1-4ad3-c2cc-5002dd6dd62d"
      },
      "source": [
        "infy_news.drop(['time', 'Source'], axis = 1, inplace = True)\n",
        "infy_news.head()"
      ],
      "execution_count": null,
      "outputs": [
        {
          "output_type": "execute_result",
          "data": {
            "text/html": [
              "<div>\n",
              "<style scoped>\n",
              "    .dataframe tbody tr th:only-of-type {\n",
              "        vertical-align: middle;\n",
              "    }\n",
              "\n",
              "    .dataframe tbody tr th {\n",
              "        vertical-align: top;\n",
              "    }\n",
              "\n",
              "    .dataframe thead th {\n",
              "        text-align: right;\n",
              "    }\n",
              "</style>\n",
              "<table border=\"1\" class=\"dataframe\">\n",
              "  <thead>\n",
              "    <tr style=\"text-align: right;\">\n",
              "      <th></th>\n",
              "      <th>date</th>\n",
              "      <th>headlines</th>\n",
              "    </tr>\n",
              "  </thead>\n",
              "  <tbody>\n",
              "    <tr>\n",
              "      <th>0</th>\n",
              "      <td>2009-01-01</td>\n",
              "      <td>Infy Q3 PAT seen at Rs 1572 cr: KRChoksey</td>\n",
              "    </tr>\n",
              "    <tr>\n",
              "      <th>1</th>\n",
              "      <td>2009-01-01</td>\n",
              "      <td>Corporate houses seek CISF protection</td>\n",
              "    </tr>\n",
              "    <tr>\n",
              "      <th>2</th>\n",
              "      <td>2009-01-05</td>\n",
              "      <td>Hold Infosys Tech, TCS, Satyam: Emkay Global</td>\n",
              "    </tr>\n",
              "    <tr>\n",
              "      <th>3</th>\n",
              "      <td>2009-01-05</td>\n",
              "      <td>Infosys' Dec qtr PAT seen at Rs 1491 cr: Angel</td>\n",
              "    </tr>\n",
              "    <tr>\n",
              "      <th>4</th>\n",
              "      <td>2009-01-06</td>\n",
              "      <td>IT majors may miss Q3 revenue forecast: CLSA</td>\n",
              "    </tr>\n",
              "  </tbody>\n",
              "</table>\n",
              "</div>"
            ],
            "text/plain": [
              "         date                                         headlines\n",
              "0  2009-01-01       Infy Q3 PAT seen at Rs 1572 cr: KRChoksey  \n",
              "1  2009-01-01          Corporate houses seek CISF protection   \n",
              "2  2009-01-05   Hold Infosys Tech, TCS, Satyam: Emkay Global   \n",
              "3  2009-01-05  Infosys' Dec qtr PAT seen at Rs 1491 cr: Angel  \n",
              "4  2009-01-06   IT majors may miss Q3 revenue forecast: CLSA   "
            ]
          },
          "metadata": {
            "tags": []
          },
          "execution_count": 9
        }
      ]
    },
    {
      "cell_type": "code",
      "metadata": {
        "colab": {
          "base_uri": "https://localhost:8080/"
        },
        "id": "enfvRwGf0ZX_",
        "outputId": "e80fafb1-550f-473f-ac86-b1b046535b9d"
      },
      "source": [
        "infy_news.info()"
      ],
      "execution_count": null,
      "outputs": [
        {
          "output_type": "stream",
          "text": [
            "<class 'pandas.core.frame.DataFrame'>\n",
            "RangeIndex: 4228 entries, 0 to 4227\n",
            "Data columns (total 2 columns):\n",
            " #   Column     Non-Null Count  Dtype \n",
            "---  ------     --------------  ----- \n",
            " 0   date       4228 non-null   object\n",
            " 1   headlines  4228 non-null   object\n",
            "dtypes: object(2)\n",
            "memory usage: 66.2+ KB\n"
          ],
          "name": "stdout"
        }
      ]
    },
    {
      "cell_type": "code",
      "metadata": {
        "id": "I2K0w8lx0lm_"
      },
      "source": [
        "def clean(headlines):\n",
        "    headlines = re.sub('[^a-zA-Z0-9]', ' ', headlines)\n",
        "    headlines = headlines.lower()\n",
        "    return headlines"
      ],
      "execution_count": null,
      "outputs": []
    },
    {
      "cell_type": "code",
      "metadata": {
        "colab": {
          "base_uri": "https://localhost:8080/",
          "height": 194
        },
        "id": "lkWOTQJu0lp3",
        "outputId": "48a9a33d-f0b1-4979-f647-ad8d108259d7"
      },
      "source": [
        "infy_news['cleaned'] = pd.DataFrame(infy_news['headlines'].apply(lambda x: clean(x)))\n",
        "infy_news.head()"
      ],
      "execution_count": null,
      "outputs": [
        {
          "output_type": "execute_result",
          "data": {
            "text/html": [
              "<div>\n",
              "<style scoped>\n",
              "    .dataframe tbody tr th:only-of-type {\n",
              "        vertical-align: middle;\n",
              "    }\n",
              "\n",
              "    .dataframe tbody tr th {\n",
              "        vertical-align: top;\n",
              "    }\n",
              "\n",
              "    .dataframe thead th {\n",
              "        text-align: right;\n",
              "    }\n",
              "</style>\n",
              "<table border=\"1\" class=\"dataframe\">\n",
              "  <thead>\n",
              "    <tr style=\"text-align: right;\">\n",
              "      <th></th>\n",
              "      <th>date</th>\n",
              "      <th>headlines</th>\n",
              "      <th>cleaned</th>\n",
              "    </tr>\n",
              "  </thead>\n",
              "  <tbody>\n",
              "    <tr>\n",
              "      <th>0</th>\n",
              "      <td>2009-01-01</td>\n",
              "      <td>Infy Q3 PAT seen at Rs 1572 cr: KRChoksey</td>\n",
              "      <td>infy q3 pat seen at rs 1572 cr  krchoksey</td>\n",
              "    </tr>\n",
              "    <tr>\n",
              "      <th>1</th>\n",
              "      <td>2009-01-01</td>\n",
              "      <td>Corporate houses seek CISF protection</td>\n",
              "      <td>corporate houses seek cisf protection</td>\n",
              "    </tr>\n",
              "    <tr>\n",
              "      <th>2</th>\n",
              "      <td>2009-01-05</td>\n",
              "      <td>Hold Infosys Tech, TCS, Satyam: Emkay Global</td>\n",
              "      <td>hold infosys tech  tcs  satyam  emkay global</td>\n",
              "    </tr>\n",
              "    <tr>\n",
              "      <th>3</th>\n",
              "      <td>2009-01-05</td>\n",
              "      <td>Infosys' Dec qtr PAT seen at Rs 1491 cr: Angel</td>\n",
              "      <td>infosys  dec qtr pat seen at rs 1491 cr  angel</td>\n",
              "    </tr>\n",
              "    <tr>\n",
              "      <th>4</th>\n",
              "      <td>2009-01-06</td>\n",
              "      <td>IT majors may miss Q3 revenue forecast: CLSA</td>\n",
              "      <td>it majors may miss q3 revenue forecast  clsa</td>\n",
              "    </tr>\n",
              "  </tbody>\n",
              "</table>\n",
              "</div>"
            ],
            "text/plain": [
              "         date  ...                                           cleaned\n",
              "0  2009-01-01  ...       infy q3 pat seen at rs 1572 cr  krchoksey  \n",
              "1  2009-01-01  ...          corporate houses seek cisf protection   \n",
              "2  2009-01-05  ...   hold infosys tech  tcs  satyam  emkay global   \n",
              "3  2009-01-05  ...  infosys  dec qtr pat seen at rs 1491 cr  angel  \n",
              "4  2009-01-06  ...   it majors may miss q3 revenue forecast  clsa   \n",
              "\n",
              "[5 rows x 3 columns]"
            ]
          },
          "metadata": {
            "tags": []
          },
          "execution_count": 12
        }
      ]
    },
    {
      "cell_type": "code",
      "metadata": {
        "id": "Ib-pMTkh1z10"
      },
      "source": [
        "infy_news['stemmed'] = ''"
      ],
      "execution_count": null,
      "outputs": []
    },
    {
      "cell_type": "code",
      "metadata": {
        "id": "Vy96Q8hV2K-Q"
      },
      "source": [
        "stemmer = PorterStemmer()\n",
        "\n",
        "for i in range(len(infy_news['cleaned'])):\n",
        "    words = nltk.word_tokenize(infy_news['cleaned'][i])\n",
        "    words = [stemmer.stem(word) for word in words if word not in set(stopwords.words('english'))]\n",
        "    infy_news['stemmed'][i] = ' '.join(words)"
      ],
      "execution_count": null,
      "outputs": []
    },
    {
      "cell_type": "code",
      "metadata": {
        "colab": {
          "base_uri": "https://localhost:8080/",
          "height": 340
        },
        "id": "8kl1vTT57xS8",
        "outputId": "670ea657-3f4f-4ad2-8555-4f94a81d7bee"
      },
      "source": [
        "infy_news.head(10)"
      ],
      "execution_count": null,
      "outputs": [
        {
          "output_type": "execute_result",
          "data": {
            "text/html": [
              "<div>\n",
              "<style scoped>\n",
              "    .dataframe tbody tr th:only-of-type {\n",
              "        vertical-align: middle;\n",
              "    }\n",
              "\n",
              "    .dataframe tbody tr th {\n",
              "        vertical-align: top;\n",
              "    }\n",
              "\n",
              "    .dataframe thead th {\n",
              "        text-align: right;\n",
              "    }\n",
              "</style>\n",
              "<table border=\"1\" class=\"dataframe\">\n",
              "  <thead>\n",
              "    <tr style=\"text-align: right;\">\n",
              "      <th></th>\n",
              "      <th>date</th>\n",
              "      <th>headlines</th>\n",
              "      <th>cleaned</th>\n",
              "      <th>stemmed</th>\n",
              "    </tr>\n",
              "  </thead>\n",
              "  <tbody>\n",
              "    <tr>\n",
              "      <th>0</th>\n",
              "      <td>2009-01-01</td>\n",
              "      <td>Infy Q3 PAT seen at Rs 1572 cr: KRChoksey</td>\n",
              "      <td>infy q3 pat seen at rs 1572 cr  krchoksey</td>\n",
              "      <td>infi q3 pat seen rs 1572 cr krchoksey</td>\n",
              "    </tr>\n",
              "    <tr>\n",
              "      <th>1</th>\n",
              "      <td>2009-01-01</td>\n",
              "      <td>Corporate houses seek CISF protection</td>\n",
              "      <td>corporate houses seek cisf protection</td>\n",
              "      <td>corpor hous seek cisf protect</td>\n",
              "    </tr>\n",
              "    <tr>\n",
              "      <th>2</th>\n",
              "      <td>2009-01-05</td>\n",
              "      <td>Hold Infosys Tech, TCS, Satyam: Emkay Global</td>\n",
              "      <td>hold infosys tech  tcs  satyam  emkay global</td>\n",
              "      <td>hold infosi tech tc satyam emkay global</td>\n",
              "    </tr>\n",
              "    <tr>\n",
              "      <th>3</th>\n",
              "      <td>2009-01-05</td>\n",
              "      <td>Infosys' Dec qtr PAT seen at Rs 1491 cr: Angel</td>\n",
              "      <td>infosys  dec qtr pat seen at rs 1491 cr  angel</td>\n",
              "      <td>infosi dec qtr pat seen rs 1491 cr angel</td>\n",
              "    </tr>\n",
              "    <tr>\n",
              "      <th>4</th>\n",
              "      <td>2009-01-06</td>\n",
              "      <td>IT majors may miss Q3 revenue forecast: CLSA</td>\n",
              "      <td>it majors may miss q3 revenue forecast  clsa</td>\n",
              "      <td>major may miss q3 revenu forecast clsa</td>\n",
              "    </tr>\n",
              "    <tr>\n",
              "      <th>5</th>\n",
              "      <td>2009-01-06</td>\n",
              "      <td>Infosys Q3 PAT seen at Rs 1501.01 cr: Reliance...</td>\n",
              "      <td>infosys q3 pat seen at rs 1501 01 cr  reliance...</td>\n",
              "      <td>infosi q3 pat seen rs 1501 01 cr relianc money</td>\n",
              "    </tr>\n",
              "    <tr>\n",
              "      <th>6</th>\n",
              "      <td>2009-01-06</td>\n",
              "      <td>Infosys Tech Q3 PAT seen up at Rs 1520.6 cr: E...</td>\n",
              "      <td>infosys tech q3 pat seen up at rs 1520 6 cr  e...</td>\n",
              "      <td>infosi tech q3 pat seen rs 1520 6 cr emkay</td>\n",
              "    </tr>\n",
              "    <tr>\n",
              "      <th>7</th>\n",
              "      <td>2009-01-07</td>\n",
              "      <td>Satyam scam: Infosys, peers react</td>\n",
              "      <td>satyam scam  infosys  peers react</td>\n",
              "      <td>satyam scam infosi peer react</td>\n",
              "    </tr>\n",
              "    <tr>\n",
              "      <th>8</th>\n",
              "      <td>2009-01-07</td>\n",
              "      <td>Security fears may deter new outsourcing custo...</td>\n",
              "      <td>security fears may deter new outsourcing custo...</td>\n",
              "      <td>secur fear may deter new outsourc custom</td>\n",
              "    </tr>\n",
              "    <tr>\n",
              "      <th>9</th>\n",
              "      <td>2009-01-08</td>\n",
              "      <td>Infy Dec qtr PAT seen at Rs 5607 cr: Religare</td>\n",
              "      <td>infy dec qtr pat seen at rs 5607 cr  religare</td>\n",
              "      <td>infi dec qtr pat seen rs 5607 cr religar</td>\n",
              "    </tr>\n",
              "  </tbody>\n",
              "</table>\n",
              "</div>"
            ],
            "text/plain": [
              "         date  ...                                         stemmed\n",
              "0  2009-01-01  ...           infi q3 pat seen rs 1572 cr krchoksey\n",
              "1  2009-01-01  ...                   corpor hous seek cisf protect\n",
              "2  2009-01-05  ...         hold infosi tech tc satyam emkay global\n",
              "3  2009-01-05  ...        infosi dec qtr pat seen rs 1491 cr angel\n",
              "4  2009-01-06  ...          major may miss q3 revenu forecast clsa\n",
              "5  2009-01-06  ...  infosi q3 pat seen rs 1501 01 cr relianc money\n",
              "6  2009-01-06  ...      infosi tech q3 pat seen rs 1520 6 cr emkay\n",
              "7  2009-01-07  ...                   satyam scam infosi peer react\n",
              "8  2009-01-07  ...        secur fear may deter new outsourc custom\n",
              "9  2009-01-08  ...        infi dec qtr pat seen rs 5607 cr religar\n",
              "\n",
              "[10 rows x 4 columns]"
            ]
          },
          "metadata": {
            "tags": []
          },
          "execution_count": 15
        }
      ]
    },
    {
      "cell_type": "code",
      "metadata": {
        "colab": {
          "base_uri": "https://localhost:8080/",
          "height": 194
        },
        "id": "fBDvDdqJ7-2Y",
        "outputId": "6399ad63-8c9a-4732-b869-dccf5b96028a"
      },
      "source": [
        "infy_news2 = infy_news.groupby(['date'])['cleaned'].apply(' '.join).reset_index()\n",
        "infy_news2.head()"
      ],
      "execution_count": null,
      "outputs": [
        {
          "output_type": "execute_result",
          "data": {
            "text/html": [
              "<div>\n",
              "<style scoped>\n",
              "    .dataframe tbody tr th:only-of-type {\n",
              "        vertical-align: middle;\n",
              "    }\n",
              "\n",
              "    .dataframe tbody tr th {\n",
              "        vertical-align: top;\n",
              "    }\n",
              "\n",
              "    .dataframe thead th {\n",
              "        text-align: right;\n",
              "    }\n",
              "</style>\n",
              "<table border=\"1\" class=\"dataframe\">\n",
              "  <thead>\n",
              "    <tr style=\"text-align: right;\">\n",
              "      <th></th>\n",
              "      <th>date</th>\n",
              "      <th>cleaned</th>\n",
              "    </tr>\n",
              "  </thead>\n",
              "  <tbody>\n",
              "    <tr>\n",
              "      <th>0</th>\n",
              "      <td>2009-01-01</td>\n",
              "      <td>infy q3 pat seen at rs 1572 cr  krchoksey   co...</td>\n",
              "    </tr>\n",
              "    <tr>\n",
              "      <th>1</th>\n",
              "      <td>2009-01-05</td>\n",
              "      <td>hold infosys tech  tcs  satyam  emkay global  ...</td>\n",
              "    </tr>\n",
              "    <tr>\n",
              "      <th>2</th>\n",
              "      <td>2009-01-06</td>\n",
              "      <td>it majors may miss q3 revenue forecast  clsa  ...</td>\n",
              "    </tr>\n",
              "    <tr>\n",
              "      <th>3</th>\n",
              "      <td>2009-01-07</td>\n",
              "      <td>satyam scam  infosys  peers react   security f...</td>\n",
              "    </tr>\n",
              "    <tr>\n",
              "      <th>4</th>\n",
              "      <td>2009-01-08</td>\n",
              "      <td>infy dec qtr pat seen at rs 5607 cr  religare ...</td>\n",
              "    </tr>\n",
              "  </tbody>\n",
              "</table>\n",
              "</div>"
            ],
            "text/plain": [
              "         date                                            cleaned\n",
              "0  2009-01-01  infy q3 pat seen at rs 1572 cr  krchoksey   co...\n",
              "1  2009-01-05  hold infosys tech  tcs  satyam  emkay global  ...\n",
              "2  2009-01-06  it majors may miss q3 revenue forecast  clsa  ...\n",
              "3  2009-01-07  satyam scam  infosys  peers react   security f...\n",
              "4  2009-01-08  infy dec qtr pat seen at rs 5607 cr  religare ..."
            ]
          },
          "metadata": {
            "tags": []
          },
          "execution_count": 16
        }
      ]
    },
    {
      "cell_type": "code",
      "metadata": {
        "colab": {
          "base_uri": "https://localhost:8080/",
          "height": 36
        },
        "id": "_SdTPZ9n9Thi",
        "outputId": "5a14a7ad-7b1d-4dad-edd0-f2ee558e572f"
      },
      "source": [
        "infy_news2['cleaned'][2]"
      ],
      "execution_count": null,
      "outputs": [
        {
          "output_type": "execute_result",
          "data": {
            "application/vnd.google.colaboratory.intrinsic+json": {
              "type": "string"
            },
            "text/plain": [
              "'it majors may miss q3 revenue forecast  clsa    infosys q3 pat seen at rs 1501 01 cr  reliance money   infosys tech q3 pat seen up at rs 1520 6 cr  emkay  '"
            ]
          },
          "metadata": {
            "tags": []
          },
          "execution_count": 17
        }
      ]
    },
    {
      "cell_type": "code",
      "metadata": {
        "id": "wMyKys0MCOXo"
      },
      "source": [
        "infy_news2['cleaned'] = infy_news2['cleaned'].apply(lambda x: re.sub(' +', ' ', x))"
      ],
      "execution_count": null,
      "outputs": []
    },
    {
      "cell_type": "code",
      "metadata": {
        "colab": {
          "base_uri": "https://localhost:8080/",
          "height": 36
        },
        "id": "Q5fanakQ_WwO",
        "outputId": "850c632e-1492-4229-898e-a197356f3080"
      },
      "source": [
        "infy_news2['cleaned'][2]"
      ],
      "execution_count": null,
      "outputs": [
        {
          "output_type": "execute_result",
          "data": {
            "application/vnd.google.colaboratory.intrinsic+json": {
              "type": "string"
            },
            "text/plain": [
              "'it majors may miss q3 revenue forecast clsa infosys q3 pat seen at rs 1501 01 cr reliance money infosys tech q3 pat seen up at rs 1520 6 cr emkay '"
            ]
          },
          "metadata": {
            "tags": []
          },
          "execution_count": 19
        }
      ]
    },
    {
      "cell_type": "code",
      "metadata": {
        "id": "_ioLcSPk9a9p"
      },
      "source": [
        "infy_news2['date'] = infy_news2['date'].apply(lambda x: (x[8:]+'-'+x[5:7]+'-'+x[:4]))"
      ],
      "execution_count": null,
      "outputs": []
    },
    {
      "cell_type": "code",
      "metadata": {
        "colab": {
          "base_uri": "https://localhost:8080/",
          "height": 194
        },
        "id": "00wRtMlzD4rL",
        "outputId": "b28f75ea-5fae-449f-bf74-c2974251b2d9"
      },
      "source": [
        "infy_news2.head()"
      ],
      "execution_count": null,
      "outputs": [
        {
          "output_type": "execute_result",
          "data": {
            "text/html": [
              "<div>\n",
              "<style scoped>\n",
              "    .dataframe tbody tr th:only-of-type {\n",
              "        vertical-align: middle;\n",
              "    }\n",
              "\n",
              "    .dataframe tbody tr th {\n",
              "        vertical-align: top;\n",
              "    }\n",
              "\n",
              "    .dataframe thead th {\n",
              "        text-align: right;\n",
              "    }\n",
              "</style>\n",
              "<table border=\"1\" class=\"dataframe\">\n",
              "  <thead>\n",
              "    <tr style=\"text-align: right;\">\n",
              "      <th></th>\n",
              "      <th>date</th>\n",
              "      <th>cleaned</th>\n",
              "    </tr>\n",
              "  </thead>\n",
              "  <tbody>\n",
              "    <tr>\n",
              "      <th>0</th>\n",
              "      <td>01-01-2009</td>\n",
              "      <td>infy q3 pat seen at rs 1572 cr krchoksey corpo...</td>\n",
              "    </tr>\n",
              "    <tr>\n",
              "      <th>1</th>\n",
              "      <td>05-01-2009</td>\n",
              "      <td>hold infosys tech tcs satyam emkay global info...</td>\n",
              "    </tr>\n",
              "    <tr>\n",
              "      <th>2</th>\n",
              "      <td>06-01-2009</td>\n",
              "      <td>it majors may miss q3 revenue forecast clsa in...</td>\n",
              "    </tr>\n",
              "    <tr>\n",
              "      <th>3</th>\n",
              "      <td>07-01-2009</td>\n",
              "      <td>satyam scam infosys peers react security fears...</td>\n",
              "    </tr>\n",
              "    <tr>\n",
              "      <th>4</th>\n",
              "      <td>08-01-2009</td>\n",
              "      <td>infy dec qtr pat seen at rs 5607 cr religare w...</td>\n",
              "    </tr>\n",
              "  </tbody>\n",
              "</table>\n",
              "</div>"
            ],
            "text/plain": [
              "         date                                            cleaned\n",
              "0  01-01-2009  infy q3 pat seen at rs 1572 cr krchoksey corpo...\n",
              "1  05-01-2009  hold infosys tech tcs satyam emkay global info...\n",
              "2  06-01-2009  it majors may miss q3 revenue forecast clsa in...\n",
              "3  07-01-2009  satyam scam infosys peers react security fears...\n",
              "4  08-01-2009  infy dec qtr pat seen at rs 5607 cr religare w..."
            ]
          },
          "metadata": {
            "tags": []
          },
          "execution_count": 21
        }
      ]
    },
    {
      "cell_type": "code",
      "metadata": {
        "colab": {
          "base_uri": "https://localhost:8080/"
        },
        "id": "4Kz2SnvU_6Cx",
        "outputId": "a0f52c47-2178-4893-eff1-3d07223bbbe2"
      },
      "source": [
        "!gdown https://drive.google.com/uc?id=18A9cmTDKhFYYprFhzJ_RfqgMLdXkUsqz"
      ],
      "execution_count": null,
      "outputs": [
        {
          "output_type": "stream",
          "text": [
            "Downloading...\n",
            "From: https://drive.google.com/uc?id=18A9cmTDKhFYYprFhzJ_RfqgMLdXkUsqz\n",
            "To: /content/INFY_2009-2018.csv\n",
            "\r  0% 0.00/127k [00:00<?, ?B/s]\r100% 127k/127k [00:00<00:00, 37.7MB/s]\n"
          ],
          "name": "stdout"
        }
      ]
    },
    {
      "cell_type": "code",
      "metadata": {
        "colab": {
          "base_uri": "https://localhost:8080/",
          "height": 194
        },
        "id": "Klrxtv0CA1Ds",
        "outputId": "9fc55d21-573d-4966-c598-4a334e9ba38f"
      },
      "source": [
        "infy_stock = pd.read_csv('INFY_2009-2018.csv')\n",
        "infy_stock.head()"
      ],
      "execution_count": null,
      "outputs": [
        {
          "output_type": "execute_result",
          "data": {
            "text/html": [
              "<div>\n",
              "<style scoped>\n",
              "    .dataframe tbody tr th:only-of-type {\n",
              "        vertical-align: middle;\n",
              "    }\n",
              "\n",
              "    .dataframe tbody tr th {\n",
              "        vertical-align: top;\n",
              "    }\n",
              "\n",
              "    .dataframe thead th {\n",
              "        text-align: right;\n",
              "    }\n",
              "</style>\n",
              "<table border=\"1\" class=\"dataframe\">\n",
              "  <thead>\n",
              "    <tr style=\"text-align: right;\">\n",
              "      <th></th>\n",
              "      <th>Date</th>\n",
              "      <th>Open</th>\n",
              "      <th>High</th>\n",
              "      <th>Low</th>\n",
              "      <th>Close</th>\n",
              "      <th>Adj Close</th>\n",
              "      <th>Volume</th>\n",
              "    </tr>\n",
              "  </thead>\n",
              "  <tbody>\n",
              "    <tr>\n",
              "      <th>0</th>\n",
              "      <td>02-01-2009</td>\n",
              "      <td>3.06375</td>\n",
              "      <td>3.15625</td>\n",
              "      <td>3.02000</td>\n",
              "      <td>3.14375</td>\n",
              "      <td>2.402604</td>\n",
              "      <td>14917600</td>\n",
              "    </tr>\n",
              "    <tr>\n",
              "      <th>1</th>\n",
              "      <td>05-01-2009</td>\n",
              "      <td>3.09750</td>\n",
              "      <td>3.26750</td>\n",
              "      <td>3.09750</td>\n",
              "      <td>3.24875</td>\n",
              "      <td>2.482850</td>\n",
              "      <td>20835200</td>\n",
              "    </tr>\n",
              "    <tr>\n",
              "      <th>2</th>\n",
              "      <td>06-01-2009</td>\n",
              "      <td>3.25000</td>\n",
              "      <td>3.37375</td>\n",
              "      <td>3.22125</td>\n",
              "      <td>3.32500</td>\n",
              "      <td>2.541124</td>\n",
              "      <td>30572000</td>\n",
              "    </tr>\n",
              "    <tr>\n",
              "      <th>3</th>\n",
              "      <td>07-01-2009</td>\n",
              "      <td>3.16625</td>\n",
              "      <td>3.53875</td>\n",
              "      <td>3.14375</td>\n",
              "      <td>3.36750</td>\n",
              "      <td>2.573604</td>\n",
              "      <td>51324800</td>\n",
              "    </tr>\n",
              "    <tr>\n",
              "      <th>4</th>\n",
              "      <td>08-01-2009</td>\n",
              "      <td>3.33375</td>\n",
              "      <td>3.40625</td>\n",
              "      <td>3.28500</td>\n",
              "      <td>3.33000</td>\n",
              "      <td>2.544945</td>\n",
              "      <td>22020800</td>\n",
              "    </tr>\n",
              "  </tbody>\n",
              "</table>\n",
              "</div>"
            ],
            "text/plain": [
              "         Date     Open     High      Low    Close  Adj Close    Volume\n",
              "0  02-01-2009  3.06375  3.15625  3.02000  3.14375   2.402604  14917600\n",
              "1  05-01-2009  3.09750  3.26750  3.09750  3.24875   2.482850  20835200\n",
              "2  06-01-2009  3.25000  3.37375  3.22125  3.32500   2.541124  30572000\n",
              "3  07-01-2009  3.16625  3.53875  3.14375  3.36750   2.573604  51324800\n",
              "4  08-01-2009  3.33375  3.40625  3.28500  3.33000   2.544945  22020800"
            ]
          },
          "metadata": {
            "tags": []
          },
          "execution_count": 23
        }
      ]
    },
    {
      "cell_type": "code",
      "metadata": {
        "colab": {
          "base_uri": "https://localhost:8080/"
        },
        "id": "87HWyFo2BFEJ",
        "outputId": "62398040-f6ef-490b-ae5c-ec734d686d04"
      },
      "source": [
        "infy_stock.shape"
      ],
      "execution_count": null,
      "outputs": [
        {
          "output_type": "execute_result",
          "data": {
            "text/plain": [
              "(2286, 7)"
            ]
          },
          "metadata": {
            "tags": []
          },
          "execution_count": 24
        }
      ]
    },
    {
      "cell_type": "code",
      "metadata": {
        "colab": {
          "base_uri": "https://localhost:8080/"
        },
        "id": "um6bIdpeBFQH",
        "outputId": "5828cc21-55ac-420d-8f09-9617e3e3cf81"
      },
      "source": [
        "infy_news2.shape"
      ],
      "execution_count": null,
      "outputs": [
        {
          "output_type": "execute_result",
          "data": {
            "text/plain": [
              "(1590, 2)"
            ]
          },
          "metadata": {
            "tags": []
          },
          "execution_count": 25
        }
      ]
    },
    {
      "cell_type": "code",
      "metadata": {
        "id": "lOQ-Uri_EZyP"
      },
      "source": [
        "infy_stock.drop(['Open', 'High', 'Low', 'Adj Close', 'Volume'], axis = 1, inplace = True)"
      ],
      "execution_count": null,
      "outputs": []
    },
    {
      "cell_type": "code",
      "metadata": {
        "id": "TAWIP1I8GA25"
      },
      "source": [
        "infy_stock = infy_stock.rename(columns={'Date': 'date'})"
      ],
      "execution_count": null,
      "outputs": []
    },
    {
      "cell_type": "code",
      "metadata": {
        "colab": {
          "base_uri": "https://localhost:8080/",
          "height": 194
        },
        "id": "z2_hjiAMEZ1Y",
        "outputId": "e82e9fc4-004b-42e9-8db7-da8e7285403c"
      },
      "source": [
        "infy_final = pd.merge(infy_news2, infy_stock, how='left', on=['date'])\n",
        "infy_final.head()"
      ],
      "execution_count": null,
      "outputs": [
        {
          "output_type": "execute_result",
          "data": {
            "text/html": [
              "<div>\n",
              "<style scoped>\n",
              "    .dataframe tbody tr th:only-of-type {\n",
              "        vertical-align: middle;\n",
              "    }\n",
              "\n",
              "    .dataframe tbody tr th {\n",
              "        vertical-align: top;\n",
              "    }\n",
              "\n",
              "    .dataframe thead th {\n",
              "        text-align: right;\n",
              "    }\n",
              "</style>\n",
              "<table border=\"1\" class=\"dataframe\">\n",
              "  <thead>\n",
              "    <tr style=\"text-align: right;\">\n",
              "      <th></th>\n",
              "      <th>date</th>\n",
              "      <th>cleaned</th>\n",
              "      <th>Close</th>\n",
              "    </tr>\n",
              "  </thead>\n",
              "  <tbody>\n",
              "    <tr>\n",
              "      <th>0</th>\n",
              "      <td>01-01-2009</td>\n",
              "      <td>infy q3 pat seen at rs 1572 cr krchoksey corpo...</td>\n",
              "      <td>NaN</td>\n",
              "    </tr>\n",
              "    <tr>\n",
              "      <th>1</th>\n",
              "      <td>05-01-2009</td>\n",
              "      <td>hold infosys tech tcs satyam emkay global info...</td>\n",
              "      <td>3.24875</td>\n",
              "    </tr>\n",
              "    <tr>\n",
              "      <th>2</th>\n",
              "      <td>06-01-2009</td>\n",
              "      <td>it majors may miss q3 revenue forecast clsa in...</td>\n",
              "      <td>3.32500</td>\n",
              "    </tr>\n",
              "    <tr>\n",
              "      <th>3</th>\n",
              "      <td>07-01-2009</td>\n",
              "      <td>satyam scam infosys peers react security fears...</td>\n",
              "      <td>3.36750</td>\n",
              "    </tr>\n",
              "    <tr>\n",
              "      <th>4</th>\n",
              "      <td>08-01-2009</td>\n",
              "      <td>infy dec qtr pat seen at rs 5607 cr religare w...</td>\n",
              "      <td>3.33000</td>\n",
              "    </tr>\n",
              "  </tbody>\n",
              "</table>\n",
              "</div>"
            ],
            "text/plain": [
              "         date                                            cleaned    Close\n",
              "0  01-01-2009  infy q3 pat seen at rs 1572 cr krchoksey corpo...      NaN\n",
              "1  05-01-2009  hold infosys tech tcs satyam emkay global info...  3.24875\n",
              "2  06-01-2009  it majors may miss q3 revenue forecast clsa in...  3.32500\n",
              "3  07-01-2009  satyam scam infosys peers react security fears...  3.36750\n",
              "4  08-01-2009  infy dec qtr pat seen at rs 5607 cr religare w...  3.33000"
            ]
          },
          "metadata": {
            "tags": []
          },
          "execution_count": 29
        }
      ]
    },
    {
      "cell_type": "code",
      "metadata": {
        "colab": {
          "base_uri": "https://localhost:8080/"
        },
        "id": "7Cj5LHdWBc5F",
        "outputId": "61ac7f14-b71b-49ea-a4c2-62f67289b7a4"
      },
      "source": [
        "infy_final.isnull().sum()"
      ],
      "execution_count": null,
      "outputs": [
        {
          "output_type": "execute_result",
          "data": {
            "text/plain": [
              "date         0\n",
              "cleaned      0\n",
              "Close      190\n",
              "dtype: int64"
            ]
          },
          "metadata": {
            "tags": []
          },
          "execution_count": 31
        }
      ]
    },
    {
      "cell_type": "code",
      "metadata": {
        "colab": {
          "base_uri": "https://localhost:8080/",
          "height": 194
        },
        "id": "Iw34d6-BHDgt",
        "outputId": "e51c3aa9-0bce-4b50-dfe8-866b9e2df533"
      },
      "source": [
        "infy_final.tail()"
      ],
      "execution_count": null,
      "outputs": [
        {
          "output_type": "execute_result",
          "data": {
            "text/html": [
              "<div>\n",
              "<style scoped>\n",
              "    .dataframe tbody tr th:only-of-type {\n",
              "        vertical-align: middle;\n",
              "    }\n",
              "\n",
              "    .dataframe tbody tr th {\n",
              "        vertical-align: top;\n",
              "    }\n",
              "\n",
              "    .dataframe thead th {\n",
              "        text-align: right;\n",
              "    }\n",
              "</style>\n",
              "<table border=\"1\" class=\"dataframe\">\n",
              "  <thead>\n",
              "    <tr style=\"text-align: right;\">\n",
              "      <th></th>\n",
              "      <th>date</th>\n",
              "      <th>cleaned</th>\n",
              "      <th>Close</th>\n",
              "    </tr>\n",
              "  </thead>\n",
              "  <tbody>\n",
              "    <tr>\n",
              "      <th>1585</th>\n",
              "      <td>16-01-2018</td>\n",
              "      <td>news highlights of the day airasia india says ...</td>\n",
              "      <td>8.890</td>\n",
              "    </tr>\n",
              "    <tr>\n",
              "      <th>1586</th>\n",
              "      <td>17-01-2018</td>\n",
              "      <td>it shares surge higher tcs infosys hcl tech to...</td>\n",
              "      <td>9.060</td>\n",
              "    </tr>\n",
              "    <tr>\n",
              "      <th>1587</th>\n",
              "      <td>22-01-2018</td>\n",
              "      <td>infosys selected as tech partner by a s watson...</td>\n",
              "      <td>9.145</td>\n",
              "    </tr>\n",
              "    <tr>\n",
              "      <th>1588</th>\n",
              "      <td>24-01-2018</td>\n",
              "      <td>buy infosys tcs mphasis polaris tata elxsi min...</td>\n",
              "      <td>9.230</td>\n",
              "    </tr>\n",
              "    <tr>\n",
              "      <th>1589</th>\n",
              "      <td>25-01-2018</td>\n",
              "      <td>no high beta but quality to lead rally in 2018...</td>\n",
              "      <td>9.225</td>\n",
              "    </tr>\n",
              "  </tbody>\n",
              "</table>\n",
              "</div>"
            ],
            "text/plain": [
              "            date                                            cleaned  Close\n",
              "1585  16-01-2018  news highlights of the day airasia india says ...  8.890\n",
              "1586  17-01-2018  it shares surge higher tcs infosys hcl tech to...  9.060\n",
              "1587  22-01-2018  infosys selected as tech partner by a s watson...  9.145\n",
              "1588  24-01-2018  buy infosys tcs mphasis polaris tata elxsi min...  9.230\n",
              "1589  25-01-2018  no high beta but quality to lead rally in 2018...  9.225"
            ]
          },
          "metadata": {
            "tags": []
          },
          "execution_count": 32
        }
      ]
    },
    {
      "cell_type": "code",
      "metadata": {
        "colab": {
          "base_uri": "https://localhost:8080/",
          "height": 194
        },
        "id": "cBpRlVbxHC1I",
        "outputId": "ee6252dc-b8d9-4cc3-9871-4b981915d806"
      },
      "source": [
        "infy_final['Close'] = infy_final['Close'].bfill(axis ='rows')\n",
        "infy_final.head()"
      ],
      "execution_count": null,
      "outputs": [
        {
          "output_type": "execute_result",
          "data": {
            "text/html": [
              "<div>\n",
              "<style scoped>\n",
              "    .dataframe tbody tr th:only-of-type {\n",
              "        vertical-align: middle;\n",
              "    }\n",
              "\n",
              "    .dataframe tbody tr th {\n",
              "        vertical-align: top;\n",
              "    }\n",
              "\n",
              "    .dataframe thead th {\n",
              "        text-align: right;\n",
              "    }\n",
              "</style>\n",
              "<table border=\"1\" class=\"dataframe\">\n",
              "  <thead>\n",
              "    <tr style=\"text-align: right;\">\n",
              "      <th></th>\n",
              "      <th>date</th>\n",
              "      <th>cleaned</th>\n",
              "      <th>Close</th>\n",
              "    </tr>\n",
              "  </thead>\n",
              "  <tbody>\n",
              "    <tr>\n",
              "      <th>0</th>\n",
              "      <td>01-01-2009</td>\n",
              "      <td>infy q3 pat seen at rs 1572 cr krchoksey corpo...</td>\n",
              "      <td>3.24875</td>\n",
              "    </tr>\n",
              "    <tr>\n",
              "      <th>1</th>\n",
              "      <td>05-01-2009</td>\n",
              "      <td>hold infosys tech tcs satyam emkay global info...</td>\n",
              "      <td>3.24875</td>\n",
              "    </tr>\n",
              "    <tr>\n",
              "      <th>2</th>\n",
              "      <td>06-01-2009</td>\n",
              "      <td>it majors may miss q3 revenue forecast clsa in...</td>\n",
              "      <td>3.32500</td>\n",
              "    </tr>\n",
              "    <tr>\n",
              "      <th>3</th>\n",
              "      <td>07-01-2009</td>\n",
              "      <td>satyam scam infosys peers react security fears...</td>\n",
              "      <td>3.36750</td>\n",
              "    </tr>\n",
              "    <tr>\n",
              "      <th>4</th>\n",
              "      <td>08-01-2009</td>\n",
              "      <td>infy dec qtr pat seen at rs 5607 cr religare w...</td>\n",
              "      <td>3.33000</td>\n",
              "    </tr>\n",
              "  </tbody>\n",
              "</table>\n",
              "</div>"
            ],
            "text/plain": [
              "         date                                            cleaned    Close\n",
              "0  01-01-2009  infy q3 pat seen at rs 1572 cr krchoksey corpo...  3.24875\n",
              "1  05-01-2009  hold infosys tech tcs satyam emkay global info...  3.24875\n",
              "2  06-01-2009  it majors may miss q3 revenue forecast clsa in...  3.32500\n",
              "3  07-01-2009  satyam scam infosys peers react security fears...  3.36750\n",
              "4  08-01-2009  infy dec qtr pat seen at rs 5607 cr religare w...  3.33000"
            ]
          },
          "metadata": {
            "tags": []
          },
          "execution_count": 33
        }
      ]
    },
    {
      "cell_type": "code",
      "metadata": {
        "colab": {
          "base_uri": "https://localhost:8080/",
          "height": 194
        },
        "id": "8sjp99pdICZm",
        "outputId": "6a3b1c23-9b11-47d8-cc11-018db4c1d480"
      },
      "source": [
        "infy_final['Compound'] = ''\n",
        "infy_final['Negative'] = ''\n",
        "infy_final['Neutral'] = ''\n",
        "infy_final['Positive'] = ''\n",
        "infy_final.head()"
      ],
      "execution_count": null,
      "outputs": [
        {
          "output_type": "execute_result",
          "data": {
            "text/html": [
              "<div>\n",
              "<style scoped>\n",
              "    .dataframe tbody tr th:only-of-type {\n",
              "        vertical-align: middle;\n",
              "    }\n",
              "\n",
              "    .dataframe tbody tr th {\n",
              "        vertical-align: top;\n",
              "    }\n",
              "\n",
              "    .dataframe thead th {\n",
              "        text-align: right;\n",
              "    }\n",
              "</style>\n",
              "<table border=\"1\" class=\"dataframe\">\n",
              "  <thead>\n",
              "    <tr style=\"text-align: right;\">\n",
              "      <th></th>\n",
              "      <th>date</th>\n",
              "      <th>cleaned</th>\n",
              "      <th>Close</th>\n",
              "      <th>Compound</th>\n",
              "      <th>Negative</th>\n",
              "      <th>Neutral</th>\n",
              "      <th>Positive</th>\n",
              "    </tr>\n",
              "  </thead>\n",
              "  <tbody>\n",
              "    <tr>\n",
              "      <th>0</th>\n",
              "      <td>01-01-2009</td>\n",
              "      <td>infy q3 pat seen at rs 1572 cr krchoksey corpo...</td>\n",
              "      <td>3.24875</td>\n",
              "      <td></td>\n",
              "      <td></td>\n",
              "      <td></td>\n",
              "      <td></td>\n",
              "    </tr>\n",
              "    <tr>\n",
              "      <th>1</th>\n",
              "      <td>05-01-2009</td>\n",
              "      <td>hold infosys tech tcs satyam emkay global info...</td>\n",
              "      <td>3.24875</td>\n",
              "      <td></td>\n",
              "      <td></td>\n",
              "      <td></td>\n",
              "      <td></td>\n",
              "    </tr>\n",
              "    <tr>\n",
              "      <th>2</th>\n",
              "      <td>06-01-2009</td>\n",
              "      <td>it majors may miss q3 revenue forecast clsa in...</td>\n",
              "      <td>3.32500</td>\n",
              "      <td></td>\n",
              "      <td></td>\n",
              "      <td></td>\n",
              "      <td></td>\n",
              "    </tr>\n",
              "    <tr>\n",
              "      <th>3</th>\n",
              "      <td>07-01-2009</td>\n",
              "      <td>satyam scam infosys peers react security fears...</td>\n",
              "      <td>3.36750</td>\n",
              "      <td></td>\n",
              "      <td></td>\n",
              "      <td></td>\n",
              "      <td></td>\n",
              "    </tr>\n",
              "    <tr>\n",
              "      <th>4</th>\n",
              "      <td>08-01-2009</td>\n",
              "      <td>infy dec qtr pat seen at rs 5607 cr religare w...</td>\n",
              "      <td>3.33000</td>\n",
              "      <td></td>\n",
              "      <td></td>\n",
              "      <td></td>\n",
              "      <td></td>\n",
              "    </tr>\n",
              "  </tbody>\n",
              "</table>\n",
              "</div>"
            ],
            "text/plain": [
              "         date  ... Positive\n",
              "0  01-01-2009  ...         \n",
              "1  05-01-2009  ...         \n",
              "2  06-01-2009  ...         \n",
              "3  07-01-2009  ...         \n",
              "4  08-01-2009  ...         \n",
              "\n",
              "[5 rows x 7 columns]"
            ]
          },
          "metadata": {
            "tags": []
          },
          "execution_count": 35
        }
      ]
    },
    {
      "cell_type": "code",
      "metadata": {
        "id": "MHnW2DjqLRqr"
      },
      "source": [
        "infy_final_new = infy_final.copy()"
      ],
      "execution_count": null,
      "outputs": []
    },
    {
      "cell_type": "code",
      "metadata": {
        "id": "v7W5S4ZdICcX"
      },
      "source": [
        "sentiment_i_a = SentimentIntensityAnalyzer()\n",
        "\n",
        "for indexx, row in infy_final_new.T.iteritems():\n",
        "    sentence_i = unicodedata.normalize('NFKD', infy_final_new.loc[indexx, 'cleaned'])\n",
        "    sentence_sentiment = sentiment_i_a.polarity_scores(sentence_i)\n",
        "    infy_final_new.at[indexx, 'Compound']= sentence_sentiment['compound']\n",
        "    infy_final_new.at[indexx, 'Negative']= sentence_sentiment['neg']\n",
        "    infy_final_new.at[indexx, 'Neutral']= sentence_sentiment['neu']\n",
        "    infy_final_new.at[indexx, 'Positive']= sentence_sentiment['pos']"
      ],
      "execution_count": null,
      "outputs": []
    },
    {
      "cell_type": "code",
      "metadata": {
        "colab": {
          "base_uri": "https://localhost:8080/",
          "height": 340
        },
        "id": "2-OWWI2AICfP",
        "outputId": "bf6b24df-6119-4c3a-93d2-5bc836d82f04"
      },
      "source": [
        "infy_final_new.head(10)"
      ],
      "execution_count": null,
      "outputs": [
        {
          "output_type": "execute_result",
          "data": {
            "text/html": [
              "<div>\n",
              "<style scoped>\n",
              "    .dataframe tbody tr th:only-of-type {\n",
              "        vertical-align: middle;\n",
              "    }\n",
              "\n",
              "    .dataframe tbody tr th {\n",
              "        vertical-align: top;\n",
              "    }\n",
              "\n",
              "    .dataframe thead th {\n",
              "        text-align: right;\n",
              "    }\n",
              "</style>\n",
              "<table border=\"1\" class=\"dataframe\">\n",
              "  <thead>\n",
              "    <tr style=\"text-align: right;\">\n",
              "      <th></th>\n",
              "      <th>date</th>\n",
              "      <th>cleaned</th>\n",
              "      <th>Close</th>\n",
              "      <th>Compound</th>\n",
              "      <th>Negative</th>\n",
              "      <th>Neutral</th>\n",
              "      <th>Positive</th>\n",
              "    </tr>\n",
              "  </thead>\n",
              "  <tbody>\n",
              "    <tr>\n",
              "      <th>0</th>\n",
              "      <td>01-01-2009</td>\n",
              "      <td>infy q3 pat seen at rs 1572 cr krchoksey corpo...</td>\n",
              "      <td>3.24875</td>\n",
              "      <td>0</td>\n",
              "      <td>0</td>\n",
              "      <td>1</td>\n",
              "      <td>0</td>\n",
              "    </tr>\n",
              "    <tr>\n",
              "      <th>1</th>\n",
              "      <td>05-01-2009</td>\n",
              "      <td>hold infosys tech tcs satyam emkay global info...</td>\n",
              "      <td>3.24875</td>\n",
              "      <td>0</td>\n",
              "      <td>0</td>\n",
              "      <td>1</td>\n",
              "      <td>0</td>\n",
              "    </tr>\n",
              "    <tr>\n",
              "      <th>2</th>\n",
              "      <td>06-01-2009</td>\n",
              "      <td>it majors may miss q3 revenue forecast clsa in...</td>\n",
              "      <td>3.32500</td>\n",
              "      <td>-0.1531</td>\n",
              "      <td>0.052</td>\n",
              "      <td>0.948</td>\n",
              "      <td>0</td>\n",
              "    </tr>\n",
              "    <tr>\n",
              "      <th>3</th>\n",
              "      <td>07-01-2009</td>\n",
              "      <td>satyam scam infosys peers react security fears...</td>\n",
              "      <td>3.36750</td>\n",
              "      <td>-0.6249</td>\n",
              "      <td>0.363</td>\n",
              "      <td>0.503</td>\n",
              "      <td>0.134</td>\n",
              "    </tr>\n",
              "    <tr>\n",
              "      <th>4</th>\n",
              "      <td>08-01-2009</td>\n",
              "      <td>infy dec qtr pat seen at rs 5607 cr religare w...</td>\n",
              "      <td>3.33000</td>\n",
              "      <td>0.3612</td>\n",
              "      <td>0</td>\n",
              "      <td>0.884</td>\n",
              "      <td>0.116</td>\n",
              "    </tr>\n",
              "    <tr>\n",
              "      <th>5</th>\n",
              "      <td>10-01-2009</td>\n",
              "      <td>infosys dec qtr pat seen at rs 1538 6 cr p lil...</td>\n",
              "      <td>3.23500</td>\n",
              "      <td>0</td>\n",
              "      <td>0</td>\n",
              "      <td>1</td>\n",
              "      <td>0</td>\n",
              "    </tr>\n",
              "    <tr>\n",
              "      <th>6</th>\n",
              "      <td>12-01-2009</td>\n",
              "      <td>infosys q3 pat seen up 7 to rs 1532 cr</td>\n",
              "      <td>3.23500</td>\n",
              "      <td>0</td>\n",
              "      <td>0</td>\n",
              "      <td>1</td>\n",
              "      <td>0</td>\n",
              "    </tr>\n",
              "    <tr>\n",
              "      <th>7</th>\n",
              "      <td>13-01-2009</td>\n",
              "      <td>infy lowers full year guidance on currency flu...</td>\n",
              "      <td>3.42500</td>\n",
              "      <td>0.5574</td>\n",
              "      <td>0.023</td>\n",
              "      <td>0.93</td>\n",
              "      <td>0.047</td>\n",
              "    </tr>\n",
              "    <tr>\n",
              "      <th>8</th>\n",
              "      <td>14-01-2009</td>\n",
              "      <td>reduce infosys target of rs 1250 iifl hdfc sec...</td>\n",
              "      <td>3.30375</td>\n",
              "      <td>0.7003</td>\n",
              "      <td>0</td>\n",
              "      <td>0.92</td>\n",
              "      <td>0.08</td>\n",
              "    </tr>\n",
              "    <tr>\n",
              "      <th>9</th>\n",
              "      <td>15-01-2009</td>\n",
              "      <td>accumulate infosys technologies parag parikh h...</td>\n",
              "      <td>3.39375</td>\n",
              "      <td>0</td>\n",
              "      <td>0</td>\n",
              "      <td>1</td>\n",
              "      <td>0</td>\n",
              "    </tr>\n",
              "  </tbody>\n",
              "</table>\n",
              "</div>"
            ],
            "text/plain": [
              "         date  ... Positive\n",
              "0  01-01-2009  ...        0\n",
              "1  05-01-2009  ...        0\n",
              "2  06-01-2009  ...        0\n",
              "3  07-01-2009  ...    0.134\n",
              "4  08-01-2009  ...    0.116\n",
              "5  10-01-2009  ...        0\n",
              "6  12-01-2009  ...        0\n",
              "7  13-01-2009  ...    0.047\n",
              "8  14-01-2009  ...     0.08\n",
              "9  15-01-2009  ...        0\n",
              "\n",
              "[10 rows x 7 columns]"
            ]
          },
          "metadata": {
            "tags": []
          },
          "execution_count": 39
        }
      ]
    },
    {
      "cell_type": "code",
      "metadata": {
        "colab": {
          "base_uri": "https://localhost:8080/",
          "height": 301
        },
        "id": "QjpvHgraLz6u",
        "outputId": "2e11d2a0-48c6-47a2-e753-03bf99cbd12a"
      },
      "source": [
        "posi=0\n",
        "nega=0\n",
        "for i in range (0,len(infy_final_new)):\n",
        "    get_val=infy_final_new.Compound[i]\n",
        "    if(float(get_val)<(0)):\n",
        "        nega=nega+1\n",
        "    if(float(get_val>(0))):\n",
        "        posi=posi+1\n",
        "posper=(posi/(len(infy_final_new)))*100\n",
        "negper=(nega/(len(infy_final_new)))*100\n",
        "print(\"% of positive news= \",posper)\n",
        "print(\"% of negative news= \",negper)\n",
        "arr = np.asarray([posper,negper], dtype=int)\n",
        "plt.pie(arr, labels=['positive','negative'])\n",
        "plt.plot()"
      ],
      "execution_count": null,
      "outputs": [
        {
          "output_type": "stream",
          "text": [
            "% of positive tweets=  40.37735849056604\n",
            "% of negative tweets=  14.08805031446541\n"
          ],
          "name": "stdout"
        },
        {
          "output_type": "execute_result",
          "data": {
            "text/plain": [
              "[]"
            ]
          },
          "metadata": {
            "tags": []
          },
          "execution_count": 41
        },
        {
          "output_type": "display_data",
          "data": {
            "image/png": "[encoded data removed]",
            "text/plain": [
              "<Figure size 432x288 with 1 Axes>"
            ]
          },
          "metadata": {
            "tags": []
          }
        }
      ]
    },
    {
      "cell_type": "code",
      "metadata": {
        "colab": {
          "base_uri": "https://localhost:8080/",
          "height": 319
        },
        "id": "j9YQ0VFbMzfb",
        "outputId": "937f2d11-dcdf-4a56-d582-a93159b8da6d"
      },
      "source": [
        "posi=0\n",
        "nega=0\n",
        "neu=0\n",
        "for i in range (0,len(infy_final_new)):\n",
        "    get_val=infy_final_new.Compound[i]\n",
        "    if(float(get_val)<(0)):\n",
        "        nega=nega+1\n",
        "    if(float(get_val>(0))):\n",
        "        posi=posi+1\n",
        "    if(float(get_val==(0.0))):\n",
        "        neu=neu+1\n",
        "posper=(posi/(len(infy_final_new)))*100\n",
        "negper=(nega/(len(infy_final_new)))*100\n",
        "neuper=(neu/(len(infy_final_new)))*100\n",
        "print(\"% of positive news= \",posper)\n",
        "print(\"% of negative news= \",negper)\n",
        "print(\"% of neutral news= \",neuper)\n",
        "arr = np.asarray([posper,negper,neuper], dtype=int)\n",
        "plt.pie(arr, labels=['positive','negative','neutral'])\n",
        "plt.plot()"
      ],
      "execution_count": null,
      "outputs": [
        {
          "output_type": "stream",
          "text": [
            "% of positive news=  40.37735849056604\n",
            "% of negative news=  14.08805031446541\n",
            "% of negative news=  45.534591194968556\n"
          ],
          "name": "stdout"
        },
        {
          "output_type": "execute_result",
          "data": {
            "text/plain": [
              "[]"
            ]
          },
          "metadata": {
            "tags": []
          },
          "execution_count": 48
        },
        {
          "output_type": "display_data",
          "data": {
            "image/png": "[encoded data removed]",
            "text/plain": [
              "<Figure size 432x288 with 1 Axes>"
            ]
          },
          "metadata": {
            "tags": []
          }
        }
      ]
    },
    {
      "cell_type": "code",
      "metadata": {
        "colab": {
          "base_uri": "https://localhost:8080/",
          "height": 194
        },
        "id": "HZWMkEbsPZ7h",
        "outputId": "424cd39e-b4c2-484b-bd07-f9433c6fd128"
      },
      "source": [
        "infy_final_new2 = infy_final_new[['date','Close','Compound','Negative','Neutral','Positive']].copy()\n",
        "infy_final_new2.head()"
      ],
      "execution_count": null,
      "outputs": [
        {
          "output_type": "execute_result",
          "data": {
            "text/html": [
              "<div>\n",
              "<style scoped>\n",
              "    .dataframe tbody tr th:only-of-type {\n",
              "        vertical-align: middle;\n",
              "    }\n",
              "\n",
              "    .dataframe tbody tr th {\n",
              "        vertical-align: top;\n",
              "    }\n",
              "\n",
              "    .dataframe thead th {\n",
              "        text-align: right;\n",
              "    }\n",
              "</style>\n",
              "<table border=\"1\" class=\"dataframe\">\n",
              "  <thead>\n",
              "    <tr style=\"text-align: right;\">\n",
              "      <th></th>\n",
              "      <th>date</th>\n",
              "      <th>Close</th>\n",
              "      <th>Compound</th>\n",
              "      <th>Negative</th>\n",
              "      <th>Neutral</th>\n",
              "      <th>Positive</th>\n",
              "    </tr>\n",
              "  </thead>\n",
              "  <tbody>\n",
              "    <tr>\n",
              "      <th>0</th>\n",
              "      <td>01-01-2009</td>\n",
              "      <td>3.24875</td>\n",
              "      <td>0</td>\n",
              "      <td>0</td>\n",
              "      <td>1</td>\n",
              "      <td>0</td>\n",
              "    </tr>\n",
              "    <tr>\n",
              "      <th>1</th>\n",
              "      <td>05-01-2009</td>\n",
              "      <td>3.24875</td>\n",
              "      <td>0</td>\n",
              "      <td>0</td>\n",
              "      <td>1</td>\n",
              "      <td>0</td>\n",
              "    </tr>\n",
              "    <tr>\n",
              "      <th>2</th>\n",
              "      <td>06-01-2009</td>\n",
              "      <td>3.32500</td>\n",
              "      <td>-0.1531</td>\n",
              "      <td>0.052</td>\n",
              "      <td>0.948</td>\n",
              "      <td>0</td>\n",
              "    </tr>\n",
              "    <tr>\n",
              "      <th>3</th>\n",
              "      <td>07-01-2009</td>\n",
              "      <td>3.36750</td>\n",
              "      <td>-0.6249</td>\n",
              "      <td>0.363</td>\n",
              "      <td>0.503</td>\n",
              "      <td>0.134</td>\n",
              "    </tr>\n",
              "    <tr>\n",
              "      <th>4</th>\n",
              "      <td>08-01-2009</td>\n",
              "      <td>3.33000</td>\n",
              "      <td>0.3612</td>\n",
              "      <td>0</td>\n",
              "      <td>0.884</td>\n",
              "      <td>0.116</td>\n",
              "    </tr>\n",
              "  </tbody>\n",
              "</table>\n",
              "</div>"
            ],
            "text/plain": [
              "         date    Close Compound Negative Neutral Positive\n",
              "0  01-01-2009  3.24875        0        0       1        0\n",
              "1  05-01-2009  3.24875        0        0       1        0\n",
              "2  06-01-2009  3.32500  -0.1531    0.052   0.948        0\n",
              "3  07-01-2009  3.36750  -0.6249    0.363   0.503    0.134\n",
              "4  08-01-2009  3.33000   0.3612        0   0.884    0.116"
            ]
          },
          "metadata": {
            "tags": []
          },
          "execution_count": 55
        }
      ]
    },
    {
      "cell_type": "code",
      "metadata": {
        "id": "lP13dokVOddQ"
      },
      "source": [
        "length_train = 1406\n",
        "train = infy_final_new2.iloc[:length_train,:] # training data from 2009-2016\n",
        "test = infy_final_new2.iloc[length_train:,: ] # testing data on 2017-2018"
      ],
      "execution_count": null,
      "outputs": []
    },
    {
      "cell_type": "code",
      "metadata": {
        "colab": {
          "base_uri": "https://localhost:8080/"
        },
        "id": "f_ZGJVlXOdkk",
        "outputId": "4bb97466-8644-45b0-e23a-17d84b5167db"
      },
      "source": [
        "train.shape"
      ],
      "execution_count": null,
      "outputs": [
        {
          "output_type": "execute_result",
          "data": {
            "text/plain": [
              "(1406, 6)"
            ]
          },
          "metadata": {
            "tags": []
          },
          "execution_count": 57
        }
      ]
    },
    {
      "cell_type": "code",
      "metadata": {
        "colab": {
          "base_uri": "https://localhost:8080/"
        },
        "id": "Uvr_Q3WjOdnS",
        "outputId": "4505357f-d41b-4524-f123-7cbde9678fa9"
      },
      "source": [
        "test.shape"
      ],
      "execution_count": null,
      "outputs": [
        {
          "output_type": "execute_result",
          "data": {
            "text/plain": [
              "(184, 6)"
            ]
          },
          "metadata": {
            "tags": []
          },
          "execution_count": 58
        }
      ]
    },
    {
      "cell_type": "code",
      "metadata": {
        "id": "WUX6sy9hP0yI"
      },
      "source": [
        "sentiment_score_list = []\n",
        "\n",
        "for date, row in train.T.iteritems():\n",
        "    sentiment_score = np.asarray([infy_final_new2.loc[date, 'Negative'], infy_final_new2.loc[date, 'Positive']])\n",
        "    sentiment_score_list.append(sentiment_score)\n",
        "\n",
        "numpy_df_train = np.asarray(sentiment_score_list)"
      ],
      "execution_count": null,
      "outputs": []
    },
    {
      "cell_type": "code",
      "metadata": {
        "colab": {
          "base_uri": "https://localhost:8080/"
        },
        "id": "MTKRuzeBP1ds",
        "outputId": "3fe83e72-7ef9-4e09-9b71-0a4d35d21b03"
      },
      "source": [
        "numpy_df_train[0:10]"
      ],
      "execution_count": null,
      "outputs": [
        {
          "output_type": "execute_result",
          "data": {
            "text/plain": [
              "array([[0.   , 0.   ],\n",
              "       [0.   , 0.   ],\n",
              "       [0.052, 0.   ],\n",
              "       [0.363, 0.134],\n",
              "       [0.   , 0.116],\n",
              "       [0.   , 0.   ],\n",
              "       [0.   , 0.   ],\n",
              "       [0.023, 0.047],\n",
              "       [0.   , 0.08 ],\n",
              "       [0.   , 0.   ]])"
            ]
          },
          "metadata": {
            "tags": []
          },
          "execution_count": 63
        }
      ]
    },
    {
      "cell_type": "code",
      "metadata": {
        "id": "Cauw0B8rP1g7"
      },
      "source": [
        "sentiment_score_list = []\n",
        "\n",
        "for date, row in test.T.iteritems():\n",
        "    sentiment_score = np.asarray([infy_final_new2.loc[date, 'Negative'], infy_final_new2.loc[date, 'Positive']])\n",
        "    sentiment_score_list.append(sentiment_score)\n",
        "\n",
        "numpy_df_test = np.asarray(sentiment_score_list)"
      ],
      "execution_count": null,
      "outputs": []
    },
    {
      "cell_type": "code",
      "metadata": {
        "colab": {
          "base_uri": "https://localhost:8080/"
        },
        "id": "JsrNFEaTP1k9",
        "outputId": "d153ecbf-8d81-4f0f-eead-e77fd657e9e3"
      },
      "source": [
        "numpy_df_test[0:10]"
      ],
      "execution_count": null,
      "outputs": [
        {
          "output_type": "execute_result",
          "data": {
            "text/plain": [
              "array([[0.085, 0.   ],\n",
              "       [0.   , 0.   ],\n",
              "       [0.   , 0.   ],\n",
              "       [0.083, 0.092],\n",
              "       [0.   , 0.   ],\n",
              "       [0.   , 0.231],\n",
              "       [0.122, 0.   ],\n",
              "       [0.   , 0.129],\n",
              "       [0.055, 0.133],\n",
              "       [0.   , 0.237]])"
            ]
          },
          "metadata": {
            "tags": []
          },
          "execution_count": 65
        }
      ]
    },
    {
      "cell_type": "code",
      "metadata": {
        "id": "npD2_0dRQfoK"
      },
      "source": [
        "y_train = pd.DataFrame(train['Close'])\n",
        "y_test = pd.DataFrame(test['Close'])"
      ],
      "execution_count": null,
      "outputs": []
    },
    {
      "cell_type": "code",
      "metadata": {
        "colab": {
          "base_uri": "https://localhost:8080/"
        },
        "id": "T2UhDNZPQf01",
        "outputId": "a2a95efc-6288-4c81-8dc7-aa2a8f53c39c"
      },
      "source": [
        "from sklearn.linear_model import LinearRegression\n",
        "\n",
        "reg = LinearRegression()\n",
        "reg.fit(numpy_df_train, y_train)"
      ],
      "execution_count": null,
      "outputs": [
        {
          "output_type": "execute_result",
          "data": {
            "text/plain": [
              "LinearRegression(copy_X=True, fit_intercept=True, n_jobs=None, normalize=False)"
            ]
          },
          "metadata": {
            "tags": []
          },
          "execution_count": 68
        }
      ]
    },
    {
      "cell_type": "code",
      "metadata": {
        "id": "gnUIOQF0RqhW"
      },
      "source": [
        "prediction = reg.predict(numpy_df_test)"
      ],
      "execution_count": null,
      "outputs": []
    },
    {
      "cell_type": "code",
      "metadata": {
        "colab": {
          "base_uri": "https://localhost:8080/"
        },
        "id": "RWvLwW_RSnOt",
        "outputId": "6d61dc2b-ebed-4e4c-b5f3-6f7f576fe3c9"
      },
      "source": [
        "prediction[0:10]"
      ],
      "execution_count": null,
      "outputs": [
        {
          "output_type": "execute_result",
          "data": {
            "text/plain": [
              "array([[7.10622961],\n",
              "       [7.2212801 ],\n",
              "       [7.2212801 ],\n",
              "       [7.11763565],\n",
              "       [7.2212801 ],\n",
              "       [7.24312208],\n",
              "       [7.0561488 ],\n",
              "       [7.23347757],\n",
              "       [7.15941135],\n",
              "       [7.24368941]])"
            ]
          },
          "metadata": {
            "tags": []
          },
          "execution_count": 71
        }
      ]
    },
    {
      "cell_type": "code",
      "metadata": {
        "id": "hNI8WpGhRumG"
      },
      "source": [
        "idx = np.arange(int(length_train), len(infy_final_new2))\n",
        "df_predictions = pd.DataFrame(data=prediction[0:], index = idx, columns=['Close'])"
      ],
      "execution_count": null,
      "outputs": []
    },
    {
      "cell_type": "code",
      "metadata": {
        "colab": {
          "base_uri": "https://localhost:8080/",
          "height": 194
        },
        "id": "2mhBRicYRupv",
        "outputId": "92af1450-1e32-40e1-b357-e3c452be8455"
      },
      "source": [
        "df_predictions.head()"
      ],
      "execution_count": null,
      "outputs": [
        {
          "output_type": "execute_result",
          "data": {
            "text/html": [
              "<div>\n",
              "<style scoped>\n",
              "    .dataframe tbody tr th:only-of-type {\n",
              "        vertical-align: middle;\n",
              "    }\n",
              "\n",
              "    .dataframe tbody tr th {\n",
              "        vertical-align: top;\n",
              "    }\n",
              "\n",
              "    .dataframe thead th {\n",
              "        text-align: right;\n",
              "    }\n",
              "</style>\n",
              "<table border=\"1\" class=\"dataframe\">\n",
              "  <thead>\n",
              "    <tr style=\"text-align: right;\">\n",
              "      <th></th>\n",
              "      <th>Close</th>\n",
              "    </tr>\n",
              "  </thead>\n",
              "  <tbody>\n",
              "    <tr>\n",
              "      <th>1406</th>\n",
              "      <td>7.106230</td>\n",
              "    </tr>\n",
              "    <tr>\n",
              "      <th>1407</th>\n",
              "      <td>7.221280</td>\n",
              "    </tr>\n",
              "    <tr>\n",
              "      <th>1408</th>\n",
              "      <td>7.221280</td>\n",
              "    </tr>\n",
              "    <tr>\n",
              "      <th>1409</th>\n",
              "      <td>7.117636</td>\n",
              "    </tr>\n",
              "    <tr>\n",
              "      <th>1410</th>\n",
              "      <td>7.221280</td>\n",
              "    </tr>\n",
              "  </tbody>\n",
              "</table>\n",
              "</div>"
            ],
            "text/plain": [
              "         Close\n",
              "1406  7.106230\n",
              "1407  7.221280\n",
              "1408  7.221280\n",
              "1409  7.117636\n",
              "1410  7.221280"
            ]
          },
          "metadata": {
            "tags": []
          },
          "execution_count": 73
        }
      ]
    },
    {
      "cell_type": "code",
      "metadata": {
        "colab": {
          "base_uri": "https://localhost:8080/",
          "height": 283
        },
        "id": "a0N-9x_FS3Dc",
        "outputId": "9af4d8da-0aff-4aa0-cdb4-362e9b4dd5e4"
      },
      "source": [
        "plt.rcParams['figure.figsize'] = (8,4)\n",
        "ax = df_predictions.rename(columns={'Close': 'Forecast'}).plot(title='NLP Predicted Price')   #forecast value\n",
        "fig = y_test.rename(columns={'Close': 'Actual'}).plot(ax = ax).get_figure()     #actual value\n",
        "plt.xticks([])"
      ],
      "execution_count": null,
      "outputs": [
        {
          "output_type": "execute_result",
          "data": {
            "text/plain": [
              "([], <a list of 0 Text major ticklabel objects>)"
            ]
          },
          "metadata": {
            "tags": []
          },
          "execution_count": 77
        },
        {
          "output_type": "display_data",
          "data": {
            "image/png": "[encoded data removed]",
            "text/plain": [
              "<Figure size 576x288 with 1 Axes>"
            ]
          },
          "metadata": {
            "tags": [],
            "needs_background": "light"
          }
        }
      ]
    }
  ]
}