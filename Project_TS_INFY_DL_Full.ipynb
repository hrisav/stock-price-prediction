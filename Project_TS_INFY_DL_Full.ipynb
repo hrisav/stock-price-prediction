{
  "nbformat": 4,
  "nbformat_minor": 0,
  "metadata": {
    "colab": {
      "name": "Project TS INFY DL Full.ipynb",
      "provenance": [],
      "toc_visible": true
    },
    "kernelspec": {
      "name": "python3",
      "display_name": "Python 3"
    },
    "language_info": {
      "name": "python"
    },
    "accelerator": "GPU"
  },
  "cells": [
    {
      "cell_type": "markdown",
      "metadata": {
        "id": "1akFqerEB1yz"
      },
      "source": [
        "## Preparing Data"
      ]
    },
    {
      "cell_type": "code",
      "metadata": {
        "id": "42JENWUwC1kN"
      },
      "source": [
        "import pandas as pd\n",
        "import numpy as np\n",
        "import matplotlib.pyplot as plt\n",
        "import seaborn as sns\n",
        "plt.style.use('fivethirtyeight')\n",
        "\n",
        "import warnings\n",
        "warnings.filterwarnings('ignore')"
      ],
      "execution_count": null,
      "outputs": []
    },
    {
      "cell_type": "code",
      "metadata": {
        "id": "tSbbz77wC_q3"
      },
      "source": [
        "import time\n",
        "import math\n",
        "from numpy import array\n",
        "from sklearn.metrics import mean_squared_error\n",
        "from sklearn.preprocessing import MinMaxScaler\n",
        "from keras.models import Sequential\n",
        "from keras.layers import Dense\n",
        "from keras.layers import LSTM\n",
        "from keras.layers import SimpleRNN\n",
        "from keras.layers import GRU\n",
        "from keras.layers import Dropout\n",
        "from keras.utils.vis_utils import plot_model"
      ],
      "execution_count": null,
      "outputs": []
    },
    {
      "cell_type": "code",
      "metadata": {
        "colab": {
          "base_uri": "https://localhost:8080/"
        },
        "id": "au3dTqjEDAsu",
        "outputId": "ab379006-64a3-4554-84aa-c9d3d4eb9ca4"
      },
      "source": [
        "!gdown https://drive.google.com/uc?id=15j64TKndj7Yw1ixiw1DS7XmyByLIgoFt"
      ],
      "execution_count": null,
      "outputs": [
        {
          "output_type": "stream",
          "text": [
            "Downloading...\n",
            "From: https://drive.google.com/uc?id=15j64TKndj7Yw1ixiw1DS7XmyByLIgoFt\n",
            "To: /content/INFY.csv\n",
            "\r  0% 0.00/228k [00:00<?, ?B/s]\r100% 228k/228k [00:00<00:00, 70.6MB/s]\n"
          ],
          "name": "stdout"
        }
      ]
    },
    {
      "cell_type": "code",
      "metadata": {
        "colab": {
          "base_uri": "https://localhost:8080/",
          "height": 194
        },
        "id": "47uTY2GcDE0G",
        "outputId": "92daf375-294a-4d37-e385-6ff489ee9e9e"
      },
      "source": [
        "df = pd.read_csv('INFY.csv')\n",
        "df.head()"
      ],
      "execution_count": null,
      "outputs": [
        {
          "output_type": "execute_result",
          "data": {
            "text/html": [
              "<div>\n",
              "<style scoped>\n",
              "    .dataframe tbody tr th:only-of-type {\n",
              "        vertical-align: middle;\n",
              "    }\n",
              "\n",
              "    .dataframe tbody tr th {\n",
              "        vertical-align: top;\n",
              "    }\n",
              "\n",
              "    .dataframe thead th {\n",
              "        text-align: right;\n",
              "    }\n",
              "</style>\n",
              "<table border=\"1\" class=\"dataframe\">\n",
              "  <thead>\n",
              "    <tr style=\"text-align: right;\">\n",
              "      <th></th>\n",
              "      <th>Date</th>\n",
              "      <th>Open</th>\n",
              "      <th>High</th>\n",
              "      <th>Low</th>\n",
              "      <th>Close</th>\n",
              "      <th>Adj Close</th>\n",
              "      <th>Volume</th>\n",
              "    </tr>\n",
              "  </thead>\n",
              "  <tbody>\n",
              "    <tr>\n",
              "      <th>0</th>\n",
              "      <td>02-01-2004</td>\n",
              "      <td>3.023750</td>\n",
              "      <td>3.141563</td>\n",
              "      <td>2.992188</td>\n",
              "      <td>3.103125</td>\n",
              "      <td>2.222448</td>\n",
              "      <td>13360000</td>\n",
              "    </tr>\n",
              "    <tr>\n",
              "      <th>1</th>\n",
              "      <td>05-01-2004</td>\n",
              "      <td>3.142500</td>\n",
              "      <td>3.203125</td>\n",
              "      <td>3.132813</td>\n",
              "      <td>3.165625</td>\n",
              "      <td>2.267211</td>\n",
              "      <td>12140800</td>\n",
              "    </tr>\n",
              "    <tr>\n",
              "      <th>2</th>\n",
              "      <td>06-01-2004</td>\n",
              "      <td>3.130313</td>\n",
              "      <td>3.171875</td>\n",
              "      <td>3.076563</td>\n",
              "      <td>3.135938</td>\n",
              "      <td>2.245949</td>\n",
              "      <td>10416000</td>\n",
              "    </tr>\n",
              "    <tr>\n",
              "      <th>3</th>\n",
              "      <td>07-01-2004</td>\n",
              "      <td>3.167188</td>\n",
              "      <td>3.181250</td>\n",
              "      <td>3.048438</td>\n",
              "      <td>3.124375</td>\n",
              "      <td>2.237667</td>\n",
              "      <td>11984000</td>\n",
              "    </tr>\n",
              "    <tr>\n",
              "      <th>4</th>\n",
              "      <td>08-01-2004</td>\n",
              "      <td>3.156250</td>\n",
              "      <td>3.193125</td>\n",
              "      <td>3.065313</td>\n",
              "      <td>3.080625</td>\n",
              "      <td>2.206333</td>\n",
              "      <td>13427200</td>\n",
              "    </tr>\n",
              "  </tbody>\n",
              "</table>\n",
              "</div>"
            ],
            "text/plain": [
              "         Date      Open      High       Low     Close  Adj Close    Volume\n",
              "0  02-01-2004  3.023750  3.141563  2.992188  3.103125   2.222448  13360000\n",
              "1  05-01-2004  3.142500  3.203125  3.132813  3.165625   2.267211  12140800\n",
              "2  06-01-2004  3.130313  3.171875  3.076563  3.135938   2.245949  10416000\n",
              "3  07-01-2004  3.167188  3.181250  3.048438  3.124375   2.237667  11984000\n",
              "4  08-01-2004  3.156250  3.193125  3.065313  3.080625   2.206333  13427200"
            ]
          },
          "metadata": {
            "tags": []
          },
          "execution_count": 4
        }
      ]
    },
    {
      "cell_type": "code",
      "metadata": {
        "id": "S8A-TMODbV2L"
      },
      "source": [
        "df = df.dropna()"
      ],
      "execution_count": null,
      "outputs": []
    },
    {
      "cell_type": "code",
      "metadata": {
        "colab": {
          "base_uri": "https://localhost:8080/",
          "height": 280
        },
        "id": "nq2IdoL5_AHC",
        "outputId": "9847dfaf-7e3f-451c-e72a-a29e836eb810"
      },
      "source": [
        "plt.plot(df['Close'])"
      ],
      "execution_count": null,
      "outputs": [
        {
          "output_type": "execute_result",
          "data": {
            "text/plain": [
              "[<matplotlib.lines.Line2D at 0x7fe108c12c10>]"
            ]
          },
          "metadata": {
            "tags": []
          },
          "execution_count": 6
        },
        {
          "output_type": "display_data",
          "data": {
            "image/png": "[encoded data removed]",
            "text/plain": [
              "<Figure size 432x288 with 1 Axes>"
            ]
          },
          "metadata": {
            "tags": [],
            "needs_background": "light"
          }
        }
      ]
    },
    {
      "cell_type": "code",
      "metadata": {
        "colab": {
          "base_uri": "https://localhost:8080/",
          "height": 223
        },
        "id": "eDi7c5Po-Tfz",
        "outputId": "e04d37f1-5f8a-4a05-eaf9-8df2c37e37ca"
      },
      "source": [
        "df_new = pd.read_csv('INFY.csv', index_col='Date', parse_dates=True)\n",
        "df_new.head()"
      ],
      "execution_count": null,
      "outputs": [
        {
          "output_type": "execute_result",
          "data": {
            "text/html": [
              "<div>\n",
              "<style scoped>\n",
              "    .dataframe tbody tr th:only-of-type {\n",
              "        vertical-align: middle;\n",
              "    }\n",
              "\n",
              "    .dataframe tbody tr th {\n",
              "        vertical-align: top;\n",
              "    }\n",
              "\n",
              "    .dataframe thead th {\n",
              "        text-align: right;\n",
              "    }\n",
              "</style>\n",
              "<table border=\"1\" class=\"dataframe\">\n",
              "  <thead>\n",
              "    <tr style=\"text-align: right;\">\n",
              "      <th></th>\n",
              "      <th>Open</th>\n",
              "      <th>High</th>\n",
              "      <th>Low</th>\n",
              "      <th>Close</th>\n",
              "      <th>Adj Close</th>\n",
              "      <th>Volume</th>\n",
              "    </tr>\n",
              "    <tr>\n",
              "      <th>Date</th>\n",
              "      <th></th>\n",
              "      <th></th>\n",
              "      <th></th>\n",
              "      <th></th>\n",
              "      <th></th>\n",
              "      <th></th>\n",
              "    </tr>\n",
              "  </thead>\n",
              "  <tbody>\n",
              "    <tr>\n",
              "      <th>2004-02-01</th>\n",
              "      <td>3.023750</td>\n",
              "      <td>3.141563</td>\n",
              "      <td>2.992188</td>\n",
              "      <td>3.103125</td>\n",
              "      <td>2.222448</td>\n",
              "      <td>13360000</td>\n",
              "    </tr>\n",
              "    <tr>\n",
              "      <th>2004-05-01</th>\n",
              "      <td>3.142500</td>\n",
              "      <td>3.203125</td>\n",
              "      <td>3.132813</td>\n",
              "      <td>3.165625</td>\n",
              "      <td>2.267211</td>\n",
              "      <td>12140800</td>\n",
              "    </tr>\n",
              "    <tr>\n",
              "      <th>2004-06-01</th>\n",
              "      <td>3.130313</td>\n",
              "      <td>3.171875</td>\n",
              "      <td>3.076563</td>\n",
              "      <td>3.135938</td>\n",
              "      <td>2.245949</td>\n",
              "      <td>10416000</td>\n",
              "    </tr>\n",
              "    <tr>\n",
              "      <th>2004-07-01</th>\n",
              "      <td>3.167188</td>\n",
              "      <td>3.181250</td>\n",
              "      <td>3.048438</td>\n",
              "      <td>3.124375</td>\n",
              "      <td>2.237667</td>\n",
              "      <td>11984000</td>\n",
              "    </tr>\n",
              "    <tr>\n",
              "      <th>2004-08-01</th>\n",
              "      <td>3.156250</td>\n",
              "      <td>3.193125</td>\n",
              "      <td>3.065313</td>\n",
              "      <td>3.080625</td>\n",
              "      <td>2.206333</td>\n",
              "      <td>13427200</td>\n",
              "    </tr>\n",
              "  </tbody>\n",
              "</table>\n",
              "</div>"
            ],
            "text/plain": [
              "                Open      High       Low     Close  Adj Close    Volume\n",
              "Date                                                                   \n",
              "2004-02-01  3.023750  3.141563  2.992188  3.103125   2.222448  13360000\n",
              "2004-05-01  3.142500  3.203125  3.132813  3.165625   2.267211  12140800\n",
              "2004-06-01  3.130313  3.171875  3.076563  3.135938   2.245949  10416000\n",
              "2004-07-01  3.167188  3.181250  3.048438  3.124375   2.237667  11984000\n",
              "2004-08-01  3.156250  3.193125  3.065313  3.080625   2.206333  13427200"
            ]
          },
          "metadata": {
            "tags": []
          },
          "execution_count": 7
        }
      ]
    },
    {
      "cell_type": "code",
      "metadata": {
        "colab": {
          "base_uri": "https://localhost:8080/",
          "height": 385
        },
        "id": "ju7F2h4J-4CH",
        "outputId": "16b9c2ba-6433-447f-a263-e0e23136844c"
      },
      "source": [
        "df_new['Close'].plot(figsize=(12,6))"
      ],
      "execution_count": null,
      "outputs": [
        {
          "output_type": "execute_result",
          "data": {
            "text/plain": [
              "<matplotlib.axes._subplots.AxesSubplot at 0x7fe1086fa9d0>"
            ]
          },
          "metadata": {
            "tags": []
          },
          "execution_count": 8
        },
        {
          "output_type": "display_data",
          "data": {
            "image/png": "[encoded data removed]",
            "text/plain": [
              "<Figure size 864x432 with 1 Axes>"
            ]
          },
          "metadata": {
            "tags": [],
            "needs_background": "light"
          }
        }
      ]
    },
    {
      "cell_type": "code",
      "metadata": {
        "colab": {
          "base_uri": "https://localhost:8080/"
        },
        "id": "JjEnzM5FDE4Q",
        "outputId": "65415d4b-2894-4050-ad7e-c4d8ba6c56ba"
      },
      "source": [
        "df = df['Close']\n",
        "df.head()"
      ],
      "execution_count": null,
      "outputs": [
        {
          "output_type": "execute_result",
          "data": {
            "text/plain": [
              "0    3.103125\n",
              "1    3.165625\n",
              "2    3.135938\n",
              "3    3.124375\n",
              "4    3.080625\n",
              "Name: Close, dtype: float64"
            ]
          },
          "metadata": {
            "tags": []
          },
          "execution_count": 9
        }
      ]
    },
    {
      "cell_type": "code",
      "metadata": {
        "colab": {
          "base_uri": "https://localhost:8080/"
        },
        "id": "LUTnBD-wDE89",
        "outputId": "001f0835-5be5-4521-b297-3f6f94872b62"
      },
      "source": [
        "# scaling close\n",
        "\n",
        "scaler = MinMaxScaler(feature_range=(0,1))\n",
        "df = scaler.fit_transform(np.array(df).reshape(-1,1))\n",
        "\n",
        "print(df)"
      ],
      "execution_count": null,
      "outputs": [
        {
          "output_type": "stream",
          "text": [
            "[[0.08550845]\n",
            " [0.09188254]\n",
            " [0.0888549 ]\n",
            " ...\n",
            " [0.80622748]\n",
            " [0.81540618]\n",
            " [0.80520763]]\n"
          ],
          "name": "stdout"
        }
      ]
    },
    {
      "cell_type": "markdown",
      "metadata": {
        "id": "isa1StwzB_-0"
      },
      "source": [
        "## Training and Testing"
      ]
    },
    {
      "cell_type": "code",
      "metadata": {
        "id": "Hz4erotgDFAd"
      },
      "source": [
        "length_train = 3774\n",
        "train_data = df[:length_train,:] # training data from 2004-2018\n",
        "test_data = df[length_train:,: ] # testing data on 2019"
      ],
      "execution_count": null,
      "outputs": []
    },
    {
      "cell_type": "code",
      "metadata": {
        "colab": {
          "base_uri": "https://localhost:8080/"
        },
        "id": "8A2bfdOODd6c",
        "outputId": "f04d4b9f-ad05-4f78-c348-fa674b3b7db4"
      },
      "source": [
        "train_data.shape, test_data.shape"
      ],
      "execution_count": null,
      "outputs": [
        {
          "output_type": "execute_result",
          "data": {
            "text/plain": [
              "((3774, 1), (252, 1))"
            ]
          },
          "metadata": {
            "tags": []
          },
          "execution_count": 12
        }
      ]
    },
    {
      "cell_type": "code",
      "metadata": {
        "colab": {
          "base_uri": "https://localhost:8080/"
        },
        "id": "xnEi5ahMh3h1",
        "outputId": "c3ff91a0-7714-4515-8717-b8bc0638a50e"
      },
      "source": [
        "len(train_data), len(test_data)"
      ],
      "execution_count": null,
      "outputs": [
        {
          "output_type": "execute_result",
          "data": {
            "text/plain": [
              "(3774, 252)"
            ]
          },
          "metadata": {
            "tags": []
          },
          "execution_count": 13
        }
      ]
    },
    {
      "cell_type": "code",
      "metadata": {
        "id": "-C0kZPgMDeow"
      },
      "source": [
        "# convert an array of values into a dataset matrix\n",
        "\n",
        "def sliding_window(records, time_step):\n",
        "\tdataX, dataY = [], []\n",
        "\tfor i in range(len(records)-time_step-1):\n",
        "\t\ta = records[i:(i+time_step), 0]   # for i=0: xtrain: 0 to 74 ytrain:75, for i=1: xtrain: 1 to 75 ytrain:76, like this do till train set is over\n",
        "\t\tdataX.append(a)\n",
        "\t\tdataY.append(records[i + time_step, 0])\n",
        "\treturn np.array(dataX), np.array(dataY)"
      ],
      "execution_count": null,
      "outputs": []
    },
    {
      "cell_type": "code",
      "metadata": {
        "id": "hChn9okMh8zL"
      },
      "source": [
        "time_step = 75\n",
        "X_train, y_train = sliding_window(train_data, time_step)\n",
        "X_test, y_test = sliding_window(test_data, time_step)"
      ],
      "execution_count": null,
      "outputs": []
    },
    {
      "cell_type": "code",
      "metadata": {
        "colab": {
          "base_uri": "https://localhost:8080/"
        },
        "id": "KT229LJsh818",
        "outputId": "ef1a3705-4d94-4875-dcbd-8cfcbf3aeb41"
      },
      "source": [
        "X_train.shape, y_train.shape"
      ],
      "execution_count": null,
      "outputs": [
        {
          "output_type": "execute_result",
          "data": {
            "text/plain": [
              "((3698, 75), (3698,))"
            ]
          },
          "metadata": {
            "tags": []
          },
          "execution_count": 16
        }
      ]
    },
    {
      "cell_type": "code",
      "metadata": {
        "colab": {
          "base_uri": "https://localhost:8080/"
        },
        "id": "mZUCc4DIh85L",
        "outputId": "94f93874-ca29-401c-97b7-8fad8a69b351"
      },
      "source": [
        "X_test.shape, y_test.shape"
      ],
      "execution_count": null,
      "outputs": [
        {
          "output_type": "execute_result",
          "data": {
            "text/plain": [
              "((176, 75), (176,))"
            ]
          },
          "metadata": {
            "tags": []
          },
          "execution_count": 17
        }
      ]
    },
    {
      "cell_type": "code",
      "metadata": {
        "colab": {
          "base_uri": "https://localhost:8080/"
        },
        "id": "9995O89IBZGR",
        "outputId": "0e59c4d3-a851-4a49-9607-db352b5a52fe"
      },
      "source": [
        "X_train"
      ],
      "execution_count": null,
      "outputs": [
        {
          "output_type": "execute_result",
          "data": {
            "text/plain": [
              "array([[0.08550845, 0.09188254, 0.0888549 , ..., 0.03955121, 0.05108833,\n",
              "        0.04423623],\n",
              "       [0.09188254, 0.0888549 , 0.08767564, ..., 0.05108833, 0.04423623,\n",
              "        0.0424833 ],\n",
              "       [0.0888549 , 0.08767564, 0.08321377, ..., 0.04423623, 0.0424833 ,\n",
              "        0.04946298],\n",
              "       ...,\n",
              "       [0.82968415, 0.83223379, 0.82458488, ..., 0.73075818, 0.71546035,\n",
              "        0.69710296],\n",
              "       [0.83223379, 0.82458488, 0.83835293, ..., 0.71546035, 0.69710296,\n",
              "        0.69506325],\n",
              "       [0.82458488, 0.83835293, 0.84498199, ..., 0.69710296, 0.69506325,\n",
              "        0.72565891]])"
            ]
          },
          "metadata": {
            "tags": []
          },
          "execution_count": 18
        }
      ]
    },
    {
      "cell_type": "code",
      "metadata": {
        "id": "OlhXKEZ_h3nt"
      },
      "source": [
        "X_train = X_train.reshape(X_train.shape[0], X_train.shape[1] , 1)   # last parameter is adding 1\n",
        "X_test = X_test.reshape(X_test.shape[0], X_test.shape[1] , 1)"
      ],
      "execution_count": null,
      "outputs": []
    },
    {
      "cell_type": "code",
      "metadata": {
        "colab": {
          "base_uri": "https://localhost:8080/"
        },
        "id": "JWiSG5xQh3qQ",
        "outputId": "87d7791f-e47e-438c-d1a9-a529a4c627bf"
      },
      "source": [
        "print(X_train.shape, X_test.shape)"
      ],
      "execution_count": null,
      "outputs": [
        {
          "output_type": "stream",
          "text": [
            "(3698, 75, 1) (176, 75, 1)\n"
          ],
          "name": "stdout"
        }
      ]
    },
    {
      "cell_type": "code",
      "metadata": {
        "colab": {
          "base_uri": "https://localhost:8080/"
        },
        "id": "Ize1j142BQGL",
        "outputId": "0b0e6815-e476-402b-b91c-7cfeef9ca274"
      },
      "source": [
        "X_train"
      ],
      "execution_count": null,
      "outputs": [
        {
          "output_type": "execute_result",
          "data": {
            "text/plain": [
              "array([[[0.08550845],\n",
              "        [0.09188254],\n",
              "        [0.0888549 ],\n",
              "        ...,\n",
              "        [0.03955121],\n",
              "        [0.05108833],\n",
              "        [0.04423623]],\n",
              "\n",
              "       [[0.09188254],\n",
              "        [0.0888549 ],\n",
              "        [0.08767564],\n",
              "        ...,\n",
              "        [0.05108833],\n",
              "        [0.04423623],\n",
              "        [0.0424833 ]],\n",
              "\n",
              "       [[0.0888549 ],\n",
              "        [0.08767564],\n",
              "        [0.08321377],\n",
              "        ...,\n",
              "        [0.04423623],\n",
              "        [0.0424833 ],\n",
              "        [0.04946298]],\n",
              "\n",
              "       ...,\n",
              "\n",
              "       [[0.82968415],\n",
              "        [0.83223379],\n",
              "        [0.82458488],\n",
              "        ...,\n",
              "        [0.73075818],\n",
              "        [0.71546035],\n",
              "        [0.69710296]],\n",
              "\n",
              "       [[0.83223379],\n",
              "        [0.82458488],\n",
              "        [0.83835293],\n",
              "        ...,\n",
              "        [0.71546035],\n",
              "        [0.69710296],\n",
              "        [0.69506325]],\n",
              "\n",
              "       [[0.82458488],\n",
              "        [0.83835293],\n",
              "        [0.84498199],\n",
              "        ...,\n",
              "        [0.69710296],\n",
              "        [0.69506325],\n",
              "        [0.72565891]]])"
            ]
          },
          "metadata": {
            "tags": []
          },
          "execution_count": 21
        }
      ]
    },
    {
      "cell_type": "code",
      "metadata": {
        "colab": {
          "base_uri": "https://localhost:8080/"
        },
        "id": "1hjGjEMdBRP0",
        "outputId": "86f60163-b543-4130-d17b-3cc601e6b088"
      },
      "source": [
        "y_train"
      ],
      "execution_count": null,
      "outputs": [
        {
          "output_type": "execute_result",
          "data": {
            "text/plain": [
              "array([0.0424833 , 0.04946298, 0.0494948 , ..., 0.69506325, 0.72565891,\n",
              "       0.7327979 ])"
            ]
          },
          "metadata": {
            "tags": []
          },
          "execution_count": 22
        }
      ]
    },
    {
      "cell_type": "markdown",
      "metadata": {
        "id": "xAsghlMS7yJO"
      },
      "source": [
        "## Using Simple RNN"
      ]
    },
    {
      "cell_type": "code",
      "metadata": {
        "id": "Yma4waUZCoqH"
      },
      "source": [
        "rnnmodel = Sequential()\n",
        "rnnmodel.add(SimpleRNN(256, activation='tanh', return_sequences=True, input_shape=(X_train.shape[1], X_train.shape[2])))     # i/p layer shape is 75,1 like X_train\n",
        "rnnmodel.add(Dropout(0.2))\n",
        "rnnmodel.add(SimpleRNN(128, activation='tanh'))\n",
        "rnnmodel.add(Dropout(0.2))\n",
        "rnnmodel.add(Dense(1))                                               # output layer\n",
        "rnnmodel.compile(loss='mean_squared_error', optimizer='adam')"
      ],
      "execution_count": null,
      "outputs": []
    },
    {
      "cell_type": "code",
      "metadata": {
        "colab": {
          "base_uri": "https://localhost:8080/"
        },
        "id": "ec5SUPAyCoqJ",
        "outputId": "37cbabce-01d3-4ba4-f041-dbc29dfc4417"
      },
      "source": [
        "rnnmodel.summary()"
      ],
      "execution_count": null,
      "outputs": [
        {
          "output_type": "stream",
          "text": [
            "Model: \"sequential\"\n",
            "_________________________________________________________________\n",
            "Layer (type)                 Output Shape              Param #   \n",
            "=================================================================\n",
            "simple_rnn (SimpleRNN)       (None, 75, 256)           66048     \n",
            "_________________________________________________________________\n",
            "dropout (Dropout)            (None, 75, 256)           0         \n",
            "_________________________________________________________________\n",
            "simple_rnn_1 (SimpleRNN)     (None, 128)               49280     \n",
            "_________________________________________________________________\n",
            "dropout_1 (Dropout)          (None, 128)               0         \n",
            "_________________________________________________________________\n",
            "dense (Dense)                (None, 1)                 129       \n",
            "=================================================================\n",
            "Total params: 115,457\n",
            "Trainable params: 115,457\n",
            "Non-trainable params: 0\n",
            "_________________________________________________________________\n"
          ],
          "name": "stdout"
        }
      ]
    },
    {
      "cell_type": "code",
      "metadata": {
        "colab": {
          "base_uri": "https://localhost:8080/",
          "height": 644
        },
        "id": "x3USNqecCoqK",
        "outputId": "1befc071-1ddc-4caf-ad4b-263b36490d36"
      },
      "source": [
        "plot_model(rnnmodel, show_shapes=True, show_layer_names=True)"
      ],
      "execution_count": null,
      "outputs": [
        {
          "output_type": "execute_result",
          "data": {
            "image/png": "[encoded data removed]",
            "text/plain": [
              "<IPython.core.display.Image object>"
            ]
          },
          "metadata": {
            "tags": []
          },
          "execution_count": 25
        }
      ]
    },
    {
      "cell_type": "code",
      "metadata": {
        "colab": {
          "base_uri": "https://localhost:8080/"
        },
        "id": "Vo_0uHUZCoqK",
        "outputId": "c3c85436-7a66-4a47-d639-14bd3079c148"
      },
      "source": [
        "start = time.time()\n",
        "\n",
        "history = rnnmodel.fit(X_train, y_train, validation_data=(X_test, y_test), epochs=100, batch_size=64, verbose=1)\n",
        "\n",
        "# use verbose to display progress\n",
        "end = time.time()\n",
        "print(\"Time taken to run in seconds: \", end - start)"
      ],
      "execution_count": null,
      "outputs": [
        {
          "output_type": "stream",
          "text": [
            "Epoch 1/100\n",
            "58/58 [==============================] - 12s 138ms/step - loss: 0.2720 - val_loss: 0.0013\n",
            "Epoch 2/100\n",
            "58/58 [==============================] - 7s 128ms/step - loss: 0.0164 - val_loss: 0.0014\n",
            "Epoch 3/100\n",
            "58/58 [==============================] - 7s 127ms/step - loss: 0.0090 - val_loss: 8.0407e-04\n",
            "Epoch 4/100\n",
            "58/58 [==============================] - 7s 128ms/step - loss: 0.0062 - val_loss: 0.0011\n",
            "Epoch 5/100\n",
            "58/58 [==============================] - 7s 128ms/step - loss: 0.0050 - val_loss: 8.1203e-04\n",
            "Epoch 6/100\n",
            "58/58 [==============================] - 7s 127ms/step - loss: 0.0045 - val_loss: 0.0012\n",
            "Epoch 7/100\n",
            "58/58 [==============================] - 7s 128ms/step - loss: 0.0038 - val_loss: 0.0012\n",
            "Epoch 8/100\n",
            "58/58 [==============================] - 7s 129ms/step - loss: 0.0035 - val_loss: 8.8999e-04\n",
            "Epoch 9/100\n",
            "58/58 [==============================] - 7s 127ms/step - loss: 0.0032 - val_loss: 7.8545e-04\n",
            "Epoch 10/100\n",
            "58/58 [==============================] - 8s 131ms/step - loss: 0.0031 - val_loss: 5.6437e-04\n",
            "Epoch 11/100\n",
            "58/58 [==============================] - 7s 129ms/step - loss: 0.0025 - val_loss: 6.3908e-04\n",
            "Epoch 12/100\n",
            "58/58 [==============================] - 7s 128ms/step - loss: 0.0023 - val_loss: 4.7632e-04\n",
            "Epoch 13/100\n",
            "58/58 [==============================] - 8s 130ms/step - loss: 0.0023 - val_loss: 5.2165e-04\n",
            "Epoch 14/100\n",
            "58/58 [==============================] - 8s 130ms/step - loss: 0.0022 - val_loss: 4.4140e-04\n",
            "Epoch 15/100\n",
            "58/58 [==============================] - 8s 130ms/step - loss: 0.0019 - val_loss: 7.7301e-04\n",
            "Epoch 16/100\n",
            "58/58 [==============================] - 7s 127ms/step - loss: 0.0019 - val_loss: 5.6260e-04\n",
            "Epoch 17/100\n",
            "58/58 [==============================] - 8s 131ms/step - loss: 0.0018 - val_loss: 9.5164e-04\n",
            "Epoch 18/100\n",
            "58/58 [==============================] - 8s 130ms/step - loss: 0.0017 - val_loss: 0.0012\n",
            "Epoch 19/100\n",
            "58/58 [==============================] - 7s 129ms/step - loss: 0.0016 - val_loss: 4.4684e-04\n",
            "Epoch 20/100\n",
            "58/58 [==============================] - 8s 133ms/step - loss: 0.0015 - val_loss: 6.0002e-04\n",
            "Epoch 21/100\n",
            "58/58 [==============================] - 7s 129ms/step - loss: 0.0016 - val_loss: 4.3216e-04\n",
            "Epoch 22/100\n",
            "58/58 [==============================] - 8s 130ms/step - loss: 0.0015 - val_loss: 4.6875e-04\n",
            "Epoch 23/100\n",
            "58/58 [==============================] - 8s 132ms/step - loss: 0.0014 - val_loss: 3.9014e-04\n",
            "Epoch 24/100\n",
            "58/58 [==============================] - 8s 131ms/step - loss: 0.0014 - val_loss: 3.8722e-04\n",
            "Epoch 25/100\n",
            "58/58 [==============================] - 7s 128ms/step - loss: 0.0014 - val_loss: 8.2359e-04\n",
            "Epoch 26/100\n",
            "58/58 [==============================] - 7s 129ms/step - loss: 0.0012 - val_loss: 5.5732e-04\n",
            "Epoch 27/100\n",
            "58/58 [==============================] - 8s 130ms/step - loss: 0.0012 - val_loss: 3.5996e-04\n",
            "Epoch 28/100\n",
            "58/58 [==============================] - 8s 132ms/step - loss: 0.0011 - val_loss: 0.0010\n",
            "Epoch 29/100\n",
            "58/58 [==============================] - 8s 130ms/step - loss: 0.0012 - val_loss: 3.8716e-04\n",
            "Epoch 30/100\n",
            "58/58 [==============================] - 7s 128ms/step - loss: 0.0011 - val_loss: 4.3116e-04\n",
            "Epoch 31/100\n",
            "58/58 [==============================] - 8s 129ms/step - loss: 0.0012 - val_loss: 3.9525e-04\n",
            "Epoch 32/100\n",
            "58/58 [==============================] - 7s 129ms/step - loss: 0.0011 - val_loss: 7.3520e-04\n",
            "Epoch 33/100\n",
            "58/58 [==============================] - 7s 128ms/step - loss: 0.0011 - val_loss: 3.5243e-04\n",
            "Epoch 34/100\n",
            "58/58 [==============================] - 7s 129ms/step - loss: 0.0012 - val_loss: 3.6422e-04\n",
            "Epoch 35/100\n",
            "58/58 [==============================] - 7s 128ms/step - loss: 9.9674e-04 - val_loss: 8.3990e-04\n",
            "Epoch 36/100\n",
            "58/58 [==============================] - 8s 130ms/step - loss: 9.8693e-04 - val_loss: 7.5163e-04\n",
            "Epoch 37/100\n",
            "58/58 [==============================] - 7s 128ms/step - loss: 9.5729e-04 - val_loss: 5.7429e-04\n",
            "Epoch 38/100\n",
            "58/58 [==============================] - 8s 131ms/step - loss: 9.1197e-04 - val_loss: 3.5804e-04\n",
            "Epoch 39/100\n",
            "58/58 [==============================] - 7s 129ms/step - loss: 8.7474e-04 - val_loss: 3.4282e-04\n",
            "Epoch 40/100\n",
            "58/58 [==============================] - 7s 127ms/step - loss: 8.1503e-04 - val_loss: 8.8786e-04\n",
            "Epoch 41/100\n",
            "58/58 [==============================] - 8s 133ms/step - loss: 9.2904e-04 - val_loss: 3.5990e-04\n",
            "Epoch 42/100\n",
            "58/58 [==============================] - 8s 131ms/step - loss: 8.4975e-04 - val_loss: 5.9486e-04\n",
            "Epoch 43/100\n",
            "58/58 [==============================] - 8s 132ms/step - loss: 8.2146e-04 - val_loss: 3.6834e-04\n",
            "Epoch 44/100\n",
            "58/58 [==============================] - 7s 129ms/step - loss: 8.6570e-04 - val_loss: 3.9942e-04\n",
            "Epoch 45/100\n",
            "58/58 [==============================] - 8s 131ms/step - loss: 7.8592e-04 - val_loss: 4.5226e-04\n",
            "Epoch 46/100\n",
            "58/58 [==============================] - 7s 128ms/step - loss: 7.6151e-04 - val_loss: 4.0993e-04\n",
            "Epoch 47/100\n",
            "58/58 [==============================] - 7s 129ms/step - loss: 8.0054e-04 - val_loss: 3.9796e-04\n",
            "Epoch 48/100\n",
            "58/58 [==============================] - 8s 130ms/step - loss: 7.8313e-04 - val_loss: 5.0763e-04\n",
            "Epoch 49/100\n",
            "58/58 [==============================] - 8s 130ms/step - loss: 7.8407e-04 - val_loss: 4.1641e-04\n",
            "Epoch 50/100\n",
            "58/58 [==============================] - 8s 133ms/step - loss: 7.6700e-04 - val_loss: 3.5525e-04\n",
            "Epoch 51/100\n",
            "58/58 [==============================] - 7s 129ms/step - loss: 7.6569e-04 - val_loss: 5.2034e-04\n",
            "Epoch 52/100\n",
            "58/58 [==============================] - 7s 128ms/step - loss: 7.7119e-04 - val_loss: 4.9951e-04\n",
            "Epoch 53/100\n",
            "58/58 [==============================] - 7s 129ms/step - loss: 6.8481e-04 - val_loss: 3.4154e-04\n",
            "Epoch 54/100\n",
            "58/58 [==============================] - 8s 129ms/step - loss: 7.0147e-04 - val_loss: 6.0458e-04\n",
            "Epoch 55/100\n",
            "58/58 [==============================] - 7s 129ms/step - loss: 6.8655e-04 - val_loss: 4.1949e-04\n",
            "Epoch 56/100\n",
            "58/58 [==============================] - 7s 129ms/step - loss: 7.1816e-04 - val_loss: 3.3294e-04\n",
            "Epoch 57/100\n",
            "58/58 [==============================] - 8s 130ms/step - loss: 6.9802e-04 - val_loss: 5.2960e-04\n",
            "Epoch 58/100\n",
            "58/58 [==============================] - 8s 132ms/step - loss: 7.0546e-04 - val_loss: 3.2967e-04\n",
            "Epoch 59/100\n",
            "58/58 [==============================] - 7s 128ms/step - loss: 6.7374e-04 - val_loss: 3.2851e-04\n",
            "Epoch 60/100\n",
            "58/58 [==============================] - 7s 128ms/step - loss: 6.1139e-04 - val_loss: 8.6640e-04\n",
            "Epoch 61/100\n",
            "58/58 [==============================] - 7s 129ms/step - loss: 6.3560e-04 - val_loss: 7.4493e-04\n",
            "Epoch 62/100\n",
            "58/58 [==============================] - 7s 128ms/step - loss: 6.2668e-04 - val_loss: 3.5922e-04\n",
            "Epoch 63/100\n",
            "58/58 [==============================] - 7s 128ms/step - loss: 5.9964e-04 - val_loss: 3.6414e-04\n",
            "Epoch 64/100\n",
            "58/58 [==============================] - 7s 128ms/step - loss: 6.3248e-04 - val_loss: 3.4646e-04\n",
            "Epoch 65/100\n",
            "58/58 [==============================] - 7s 129ms/step - loss: 6.3059e-04 - val_loss: 5.0367e-04\n",
            "Epoch 66/100\n",
            "58/58 [==============================] - 8s 129ms/step - loss: 6.1847e-04 - val_loss: 3.3513e-04\n",
            "Epoch 67/100\n",
            "58/58 [==============================] - 7s 126ms/step - loss: 5.5694e-04 - val_loss: 3.7830e-04\n",
            "Epoch 68/100\n",
            "58/58 [==============================] - 7s 128ms/step - loss: 5.5658e-04 - val_loss: 9.6190e-04\n",
            "Epoch 69/100\n",
            "58/58 [==============================] - 8s 130ms/step - loss: 7.0092e-04 - val_loss: 3.3894e-04\n",
            "Epoch 70/100\n",
            "58/58 [==============================] - 7s 129ms/step - loss: 5.8639e-04 - val_loss: 4.4445e-04\n",
            "Epoch 71/100\n",
            "58/58 [==============================] - 7s 128ms/step - loss: 5.3002e-04 - val_loss: 3.3027e-04\n",
            "Epoch 72/100\n",
            "58/58 [==============================] - 7s 128ms/step - loss: 5.4127e-04 - val_loss: 6.9838e-04\n",
            "Epoch 73/100\n",
            "58/58 [==============================] - 8s 131ms/step - loss: 6.0513e-04 - val_loss: 5.6880e-04\n",
            "Epoch 74/100\n",
            "58/58 [==============================] - 7s 128ms/step - loss: 5.5731e-04 - val_loss: 3.8921e-04\n",
            "Epoch 75/100\n",
            "58/58 [==============================] - 8s 130ms/step - loss: 5.2278e-04 - val_loss: 3.4544e-04\n",
            "Epoch 76/100\n",
            "58/58 [==============================] - 7s 129ms/step - loss: 4.8241e-04 - val_loss: 7.0805e-04\n",
            "Epoch 77/100\n",
            "58/58 [==============================] - 8s 132ms/step - loss: 5.2953e-04 - val_loss: 3.8093e-04\n",
            "Epoch 78/100\n",
            "58/58 [==============================] - 8s 129ms/step - loss: 5.1465e-04 - val_loss: 3.2239e-04\n",
            "Epoch 79/100\n",
            "58/58 [==============================] - 7s 128ms/step - loss: 5.2762e-04 - val_loss: 5.0905e-04\n",
            "Epoch 80/100\n",
            "58/58 [==============================] - 8s 130ms/step - loss: 4.8766e-04 - val_loss: 3.2407e-04\n",
            "Epoch 81/100\n",
            "58/58 [==============================] - 8s 129ms/step - loss: 4.4323e-04 - val_loss: 3.4002e-04\n",
            "Epoch 82/100\n",
            "58/58 [==============================] - 7s 129ms/step - loss: 4.8830e-04 - val_loss: 3.6483e-04\n",
            "Epoch 83/100\n",
            "58/58 [==============================] - 8s 130ms/step - loss: 5.4592e-04 - val_loss: 5.3438e-04\n",
            "Epoch 84/100\n",
            "58/58 [==============================] - 7s 127ms/step - loss: 4.5947e-04 - val_loss: 4.3403e-04\n",
            "Epoch 85/100\n",
            "58/58 [==============================] - 7s 128ms/step - loss: 5.0844e-04 - val_loss: 5.0158e-04\n",
            "Epoch 86/100\n",
            "58/58 [==============================] - 7s 128ms/step - loss: 4.5934e-04 - val_loss: 5.8578e-04\n",
            "Epoch 87/100\n",
            "58/58 [==============================] - 7s 129ms/step - loss: 4.4874e-04 - val_loss: 3.4343e-04\n",
            "Epoch 88/100\n",
            "58/58 [==============================] - 8s 131ms/step - loss: 4.4265e-04 - val_loss: 3.1907e-04\n",
            "Epoch 89/100\n",
            "58/58 [==============================] - 7s 127ms/step - loss: 4.1068e-04 - val_loss: 4.4934e-04\n",
            "Epoch 90/100\n",
            "58/58 [==============================] - 7s 129ms/step - loss: 4.9905e-04 - val_loss: 3.8349e-04\n",
            "Epoch 91/100\n",
            "58/58 [==============================] - 7s 129ms/step - loss: 4.3835e-04 - val_loss: 5.0524e-04\n",
            "Epoch 92/100\n",
            "58/58 [==============================] - 8s 130ms/step - loss: 4.6290e-04 - val_loss: 5.8713e-04\n",
            "Epoch 93/100\n",
            "58/58 [==============================] - 7s 128ms/step - loss: 4.4524e-04 - val_loss: 3.3561e-04\n",
            "Epoch 94/100\n",
            "58/58 [==============================] - 7s 129ms/step - loss: 4.5014e-04 - val_loss: 3.3361e-04\n",
            "Epoch 95/100\n",
            "58/58 [==============================] - 8s 131ms/step - loss: 3.8156e-04 - val_loss: 5.1849e-04\n",
            "Epoch 96/100\n",
            "58/58 [==============================] - 7s 127ms/step - loss: 4.4388e-04 - val_loss: 4.7374e-04\n",
            "Epoch 97/100\n",
            "58/58 [==============================] - 8s 130ms/step - loss: 4.3703e-04 - val_loss: 3.5315e-04\n",
            "Epoch 98/100\n",
            "58/58 [==============================] - 8s 130ms/step - loss: 4.4166e-04 - val_loss: 9.7710e-04\n",
            "Epoch 99/100\n",
            "58/58 [==============================] - 8s 131ms/step - loss: 4.7304e-04 - val_loss: 3.2645e-04\n",
            "Epoch 100/100\n",
            "58/58 [==============================] - 8s 131ms/step - loss: 4.0461e-04 - val_loss: 3.2325e-04\n",
            "Time taken to run in seconds:  754.6502642631531\n"
          ],
          "name": "stdout"
        }
      ]
    },
    {
      "cell_type": "code",
      "metadata": {
        "colab": {
          "base_uri": "https://localhost:8080/",
          "height": 296
        },
        "id": "9xzsLCc1CoqL",
        "outputId": "27cd4bc2-4267-4200-aab3-06e233570311"
      },
      "source": [
        "# summarize history for loss\n",
        "\n",
        "plt.plot(history.history['loss'])\n",
        "plt.plot(history.history['val_loss'])\n",
        "plt.title('model loss')\n",
        "plt.ylabel('loss')\n",
        "plt.xlabel('epoch')\n",
        "plt.legend(['train', 'test'], loc='upper left')\n",
        "plt.show()"
      ],
      "execution_count": null,
      "outputs": [
        {
          "output_type": "display_data",
          "data": {
            "image/png": "[encoded data removed]",
            "text/plain": [
              "<Figure size 432x288 with 1 Axes>"
            ]
          },
          "metadata": {
            "tags": [],
            "needs_background": "light"
          }
        }
      ]
    },
    {
      "cell_type": "code",
      "metadata": {
        "id": "NHds_f19CoqM"
      },
      "source": [
        "y_pred = rnnmodel.predict(X_test)"
      ],
      "execution_count": null,
      "outputs": []
    },
    {
      "cell_type": "code",
      "metadata": {
        "colab": {
          "base_uri": "https://localhost:8080/"
        },
        "id": "393E5GKqCoqM",
        "outputId": "1c0f4793-57f9-4746-f0e0-7649398292aa"
      },
      "source": [
        "print('RMSE Score: ', round(math.sqrt(mean_squared_error(y_test, y_pred)), 4))"
      ],
      "execution_count": null,
      "outputs": [
        {
          "output_type": "stream",
          "text": [
            "RMSE Score:  0.018\n"
          ],
          "name": "stdout"
        }
      ]
    },
    {
      "cell_type": "code",
      "metadata": {
        "colab": {
          "base_uri": "https://localhost:8080/",
          "height": 283
        },
        "id": "S1vweiJwCoqM",
        "outputId": "1139d78f-1d8b-473c-a428-e91a60571f77"
      },
      "source": [
        "plt.rcParams['figure.figsize'] = (8,4)\n",
        "plt.plot(y_test, label = 'Actual')\n",
        "plt.plot(y_pred, label = 'Forecast')\n",
        "plt.title('Simple RNN')\n",
        "plt.legend()\n",
        "plt.xticks([])"
      ],
      "execution_count": null,
      "outputs": [
        {
          "output_type": "execute_result",
          "data": {
            "text/plain": [
              "([], <a list of 0 Text major ticklabel objects>)"
            ]
          },
          "metadata": {
            "tags": []
          },
          "execution_count": 90
        },
        {
          "output_type": "display_data",
          "data": {
            "image/png": "[encoded data removed]",
            "text/plain": [
              "<Figure size 576x288 with 1 Axes>"
            ]
          },
          "metadata": {
            "tags": [],
            "needs_background": "light"
          }
        }
      ]
    },
    {
      "cell_type": "code",
      "metadata": {
        "id": "7ic0SWrFCoqN"
      },
      "source": [
        "y_pred1 = scaler.inverse_transform(y_pred)"
      ],
      "execution_count": null,
      "outputs": []
    },
    {
      "cell_type": "code",
      "metadata": {
        "id": "xjXuT4_RCoqN"
      },
      "source": [
        "y_test1 = scaler.inverse_transform(y_test.reshape(-1, 1))"
      ],
      "execution_count": null,
      "outputs": []
    },
    {
      "cell_type": "code",
      "metadata": {
        "colab": {
          "base_uri": "https://localhost:8080/"
        },
        "id": "RZmetBUYCoqN",
        "outputId": "8d65ce7c-c689-4afc-9cc2-e1e67fa49716"
      },
      "source": [
        "print('RMSE Score: ', round(math.sqrt(mean_squared_error(y_test1, y_pred1)), 4))"
      ],
      "execution_count": null,
      "outputs": [
        {
          "output_type": "stream",
          "text": [
            "RMSE Score:  0.1763\n"
          ],
          "name": "stdout"
        }
      ]
    },
    {
      "cell_type": "code",
      "metadata": {
        "colab": {
          "base_uri": "https://localhost:8080/",
          "height": 283
        },
        "id": "VFMv8XdoCoqO",
        "outputId": "0b165806-ec08-4779-c0d4-77a36b2b7f76"
      },
      "source": [
        "plt.rcParams['figure.figsize'] = (8,4)\n",
        "plt.plot(y_test1, label = 'Actual')\n",
        "plt.plot(y_pred1, label = 'Forecast')\n",
        "plt.title('Simple RNN')\n",
        "plt.legend()\n",
        "plt.xticks([])"
      ],
      "execution_count": null,
      "outputs": [
        {
          "output_type": "execute_result",
          "data": {
            "text/plain": [
              "([], <a list of 0 Text major ticklabel objects>)"
            ]
          },
          "metadata": {
            "tags": []
          },
          "execution_count": 94
        },
        {
          "output_type": "display_data",
          "data": {
            "image/png": "[encoded data removed]",
            "text/plain": [
              "<Figure size 576x288 with 1 Axes>"
            ]
          },
          "metadata": {
            "tags": [],
            "needs_background": "light"
          }
        }
      ]
    },
    {
      "cell_type": "markdown",
      "metadata": {
        "id": "9vxz1VHa724r"
      },
      "source": [
        "## Using GRU"
      ]
    },
    {
      "cell_type": "code",
      "metadata": {
        "colab": {
          "base_uri": "https://localhost:8080/"
        },
        "id": "MS4O28PrDTh8",
        "outputId": "4ed0e596-7a36-40c7-ddb7-f5e7b46f1221"
      },
      "source": [
        "grumodel = Sequential()\n",
        "grumodel.add(GRU(256, activation='relu', return_sequences=True, input_shape=(X_train.shape[1], X_train.shape[2])))     # i/p layer shape is 75,1 like X_train\n",
        "grumodel.add(Dropout(0.2))\n",
        "grumodel.add(GRU(128, activation='relu'))\n",
        "grumodel.add(Dropout(0.2))\n",
        "grumodel.add(Dense(1))                                               # output layer\n",
        "grumodel.compile(loss='mean_squared_error', optimizer='adam')"
      ],
      "execution_count": null,
      "outputs": [
        {
          "output_type": "stream",
          "text": [
            "WARNING:tensorflow:Layer gru will not use cuDNN kernel since it doesn't meet the cuDNN kernel criteria. It will use generic GPU kernel as fallback when running on GPU\n",
            "WARNING:tensorflow:Layer gru_1 will not use cuDNN kernel since it doesn't meet the cuDNN kernel criteria. It will use generic GPU kernel as fallback when running on GPU\n"
          ],
          "name": "stdout"
        }
      ]
    },
    {
      "cell_type": "code",
      "metadata": {
        "colab": {
          "base_uri": "https://localhost:8080/"
        },
        "id": "2wstZXOHhv57",
        "outputId": "1b14bd9d-2f5c-4830-f2be-7f0a088c00c9"
      },
      "source": [
        "grumodel.summary()"
      ],
      "execution_count": null,
      "outputs": [
        {
          "output_type": "stream",
          "text": [
            "Model: \"sequential_1\"\n",
            "_________________________________________________________________\n",
            "Layer (type)                 Output Shape              Param #   \n",
            "=================================================================\n",
            "gru (GRU)                    (None, 75, 256)           198912    \n",
            "_________________________________________________________________\n",
            "dropout_2 (Dropout)          (None, 75, 256)           0         \n",
            "_________________________________________________________________\n",
            "gru_1 (GRU)                  (None, 128)               148224    \n",
            "_________________________________________________________________\n",
            "dropout_3 (Dropout)          (None, 128)               0         \n",
            "_________________________________________________________________\n",
            "dense_1 (Dense)              (None, 1)                 129       \n",
            "=================================================================\n",
            "Total params: 347,265\n",
            "Trainable params: 347,265\n",
            "Non-trainable params: 0\n",
            "_________________________________________________________________\n"
          ],
          "name": "stdout"
        }
      ]
    },
    {
      "cell_type": "code",
      "metadata": {
        "colab": {
          "base_uri": "https://localhost:8080/",
          "height": 644
        },
        "id": "v9H6gTeLBvNG",
        "outputId": "789b6137-48ef-4625-8320-ef62b2c9b1be"
      },
      "source": [
        "plot_model(grumodel, show_shapes=True, show_layer_names=True)"
      ],
      "execution_count": null,
      "outputs": [
        {
          "output_type": "execute_result",
          "data": {
            "image/png": "[encoded data removed]",
            "text/plain": [
              "<IPython.core.display.Image object>"
            ]
          },
          "metadata": {
            "tags": []
          },
          "execution_count": 37
        }
      ]
    },
    {
      "cell_type": "code",
      "metadata": {
        "colab": {
          "base_uri": "https://localhost:8080/"
        },
        "id": "muLbcpK9pupP",
        "outputId": "6de67b9d-90a3-47f3-c1cf-99b0d91adf78"
      },
      "source": [
        "start = time.time()\n",
        "\n",
        "history = grumodel.fit(X_train, y_train, validation_data=(X_test, y_test), epochs=100, batch_size=64, verbose=1)\n",
        "\n",
        "# use verbose to display progress\n",
        "end = time.time()\n",
        "print(\"Time taken to run in seconds: \", end - start)"
      ],
      "execution_count": null,
      "outputs": [
        {
          "output_type": "stream",
          "text": [
            "Epoch 1/100\n",
            "58/58 [==============================] - 24s 373ms/step - loss: 0.0516 - val_loss: 8.8258e-04\n",
            "Epoch 2/100\n",
            "58/58 [==============================] - 21s 363ms/step - loss: 0.0022 - val_loss: 8.5744e-04\n",
            "Epoch 3/100\n",
            "58/58 [==============================] - 21s 362ms/step - loss: 0.0020 - val_loss: 8.2452e-04\n",
            "Epoch 4/100\n",
            "58/58 [==============================] - 21s 364ms/step - loss: 0.0019 - val_loss: 0.0015\n",
            "Epoch 5/100\n",
            "58/58 [==============================] - 21s 366ms/step - loss: 0.0018 - val_loss: 8.2150e-04\n",
            "Epoch 6/100\n",
            "58/58 [==============================] - 21s 367ms/step - loss: 0.0016 - val_loss: 7.4375e-04\n",
            "Epoch 7/100\n",
            "58/58 [==============================] - 21s 359ms/step - loss: 0.0015 - val_loss: 7.4784e-04\n",
            "Epoch 8/100\n",
            "58/58 [==============================] - 21s 362ms/step - loss: 0.0015 - val_loss: 6.9124e-04\n",
            "Epoch 9/100\n",
            "58/58 [==============================] - 21s 364ms/step - loss: 0.0016 - val_loss: 6.7583e-04\n",
            "Epoch 10/100\n",
            "58/58 [==============================] - 21s 359ms/step - loss: 0.0014 - val_loss: 0.0013\n",
            "Epoch 11/100\n",
            "58/58 [==============================] - 21s 364ms/step - loss: 0.0014 - val_loss: 6.9821e-04\n",
            "Epoch 12/100\n",
            "58/58 [==============================] - 21s 359ms/step - loss: 0.0014 - val_loss: 6.9243e-04\n",
            "Epoch 13/100\n",
            "58/58 [==============================] - 21s 364ms/step - loss: 0.0014 - val_loss: 0.0020\n",
            "Epoch 14/100\n",
            "58/58 [==============================] - 21s 361ms/step - loss: 0.0013 - val_loss: 5.9724e-04\n",
            "Epoch 15/100\n",
            "58/58 [==============================] - 21s 360ms/step - loss: 0.0013 - val_loss: 6.9832e-04\n",
            "Epoch 16/100\n",
            "58/58 [==============================] - 21s 364ms/step - loss: 0.0013 - val_loss: 6.8827e-04\n",
            "Epoch 17/100\n",
            "58/58 [==============================] - 21s 365ms/step - loss: 0.0013 - val_loss: 5.5672e-04\n",
            "Epoch 18/100\n",
            "58/58 [==============================] - 21s 367ms/step - loss: 0.0013 - val_loss: 6.1148e-04\n",
            "Epoch 19/100\n",
            "58/58 [==============================] - 21s 365ms/step - loss: 0.0013 - val_loss: 0.0027\n",
            "Epoch 20/100\n",
            "58/58 [==============================] - 21s 360ms/step - loss: 0.0012 - val_loss: 6.2174e-04\n",
            "Epoch 21/100\n",
            "58/58 [==============================] - 21s 358ms/step - loss: 0.0012 - val_loss: 5.0193e-04\n",
            "Epoch 22/100\n",
            "58/58 [==============================] - 21s 359ms/step - loss: 0.0011 - val_loss: 0.0014\n",
            "Epoch 23/100\n",
            "58/58 [==============================] - 21s 358ms/step - loss: 0.0012 - val_loss: 0.0011\n",
            "Epoch 24/100\n",
            "58/58 [==============================] - 21s 355ms/step - loss: 0.0010 - val_loss: 9.2876e-04\n",
            "Epoch 25/100\n",
            "58/58 [==============================] - 21s 357ms/step - loss: 0.0011 - val_loss: 4.6278e-04\n",
            "Epoch 26/100\n",
            "58/58 [==============================] - 21s 356ms/step - loss: 0.0010 - val_loss: 0.0013\n",
            "Epoch 27/100\n",
            "58/58 [==============================] - 21s 358ms/step - loss: 0.0011 - val_loss: 6.1870e-04\n",
            "Epoch 28/100\n",
            "58/58 [==============================] - 21s 355ms/step - loss: 9.4539e-04 - val_loss: 4.4200e-04\n",
            "Epoch 29/100\n",
            "58/58 [==============================] - 21s 356ms/step - loss: 0.0010 - val_loss: 4.3098e-04\n",
            "Epoch 30/100\n",
            "58/58 [==============================] - 21s 361ms/step - loss: 8.8358e-04 - val_loss: 6.0136e-04\n",
            "Epoch 31/100\n",
            "58/58 [==============================] - 21s 354ms/step - loss: 9.1599e-04 - val_loss: 4.3613e-04\n",
            "Epoch 32/100\n",
            "58/58 [==============================] - 21s 357ms/step - loss: 9.2875e-04 - val_loss: 5.5126e-04\n",
            "Epoch 33/100\n",
            "58/58 [==============================] - 21s 355ms/step - loss: 9.2093e-04 - val_loss: 5.0320e-04\n",
            "Epoch 34/100\n",
            "58/58 [==============================] - 21s 354ms/step - loss: 8.9108e-04 - val_loss: 8.4342e-04\n",
            "Epoch 35/100\n",
            "58/58 [==============================] - 21s 354ms/step - loss: 8.6763e-04 - val_loss: 5.9299e-04\n",
            "Epoch 36/100\n",
            "58/58 [==============================] - 21s 360ms/step - loss: 8.6167e-04 - val_loss: 4.2584e-04\n",
            "Epoch 37/100\n",
            "58/58 [==============================] - 21s 359ms/step - loss: 8.2477e-04 - val_loss: 5.9431e-04\n",
            "Epoch 38/100\n",
            "58/58 [==============================] - 21s 355ms/step - loss: 7.4753e-04 - val_loss: 5.7573e-04\n",
            "Epoch 39/100\n",
            "58/58 [==============================] - 21s 355ms/step - loss: 8.6792e-04 - val_loss: 3.8136e-04\n",
            "Epoch 40/100\n",
            "58/58 [==============================] - 21s 361ms/step - loss: 8.5501e-04 - val_loss: 4.1854e-04\n",
            "Epoch 41/100\n",
            "58/58 [==============================] - 21s 355ms/step - loss: 7.3778e-04 - val_loss: 4.0225e-04\n",
            "Epoch 42/100\n",
            "58/58 [==============================] - 20s 348ms/step - loss: 7.3757e-04 - val_loss: 3.7372e-04\n",
            "Epoch 43/100\n",
            "58/58 [==============================] - 21s 354ms/step - loss: 7.5398e-04 - val_loss: 4.3448e-04\n",
            "Epoch 44/100\n",
            "58/58 [==============================] - 21s 354ms/step - loss: 7.5527e-04 - val_loss: 3.6352e-04\n",
            "Epoch 45/100\n",
            "58/58 [==============================] - 20s 350ms/step - loss: 7.3677e-04 - val_loss: 5.7717e-04\n",
            "Epoch 46/100\n",
            "58/58 [==============================] - 20s 352ms/step - loss: 7.1834e-04 - val_loss: 5.3159e-04\n",
            "Epoch 47/100\n",
            "58/58 [==============================] - 20s 348ms/step - loss: 6.8538e-04 - val_loss: 5.9602e-04\n",
            "Epoch 48/100\n",
            "58/58 [==============================] - 20s 353ms/step - loss: 6.5570e-04 - val_loss: 3.6438e-04\n",
            "Epoch 49/100\n",
            "58/58 [==============================] - 21s 356ms/step - loss: 6.8245e-04 - val_loss: 7.7842e-04\n",
            "Epoch 50/100\n",
            "58/58 [==============================] - 20s 353ms/step - loss: 6.4776e-04 - val_loss: 4.0297e-04\n",
            "Epoch 51/100\n",
            "58/58 [==============================] - 21s 356ms/step - loss: 6.4953e-04 - val_loss: 3.4578e-04\n",
            "Epoch 52/100\n",
            "58/58 [==============================] - 20s 353ms/step - loss: 6.6258e-04 - val_loss: 4.0631e-04\n",
            "Epoch 53/100\n",
            "58/58 [==============================] - 21s 355ms/step - loss: 6.1991e-04 - val_loss: 3.7157e-04\n",
            "Epoch 54/100\n",
            "58/58 [==============================] - 21s 356ms/step - loss: 6.5472e-04 - val_loss: 3.5504e-04\n",
            "Epoch 55/100\n",
            "58/58 [==============================] - 21s 361ms/step - loss: 6.0286e-04 - val_loss: 4.1045e-04\n",
            "Epoch 56/100\n",
            "58/58 [==============================] - 21s 358ms/step - loss: 5.9868e-04 - val_loss: 3.4032e-04\n",
            "Epoch 57/100\n",
            "58/58 [==============================] - 21s 356ms/step - loss: 5.7037e-04 - val_loss: 5.1738e-04\n",
            "Epoch 58/100\n",
            "58/58 [==============================] - 21s 355ms/step - loss: 5.5961e-04 - val_loss: 3.7826e-04\n",
            "Epoch 59/100\n",
            "58/58 [==============================] - 20s 353ms/step - loss: 5.3812e-04 - val_loss: 3.6913e-04\n",
            "Epoch 60/100\n",
            "58/58 [==============================] - 21s 361ms/step - loss: 6.0368e-04 - val_loss: 3.6188e-04\n",
            "Epoch 61/100\n",
            "58/58 [==============================] - 21s 357ms/step - loss: 6.0332e-04 - val_loss: 4.0830e-04\n",
            "Epoch 62/100\n",
            "58/58 [==============================] - 21s 356ms/step - loss: 5.3680e-04 - val_loss: 5.6908e-04\n",
            "Epoch 63/100\n",
            "58/58 [==============================] - 21s 355ms/step - loss: 5.6439e-04 - val_loss: 4.5565e-04\n",
            "Epoch 64/100\n",
            "58/58 [==============================] - 21s 356ms/step - loss: 5.0059e-04 - val_loss: 3.5297e-04\n",
            "Epoch 65/100\n",
            "58/58 [==============================] - 20s 352ms/step - loss: 5.2897e-04 - val_loss: 3.5279e-04\n",
            "Epoch 66/100\n",
            "58/58 [==============================] - 21s 354ms/step - loss: 4.9745e-04 - val_loss: 3.5338e-04\n",
            "Epoch 67/100\n",
            "58/58 [==============================] - 21s 356ms/step - loss: 5.4517e-04 - val_loss: 4.4043e-04\n",
            "Epoch 68/100\n",
            "58/58 [==============================] - 21s 357ms/step - loss: 5.2125e-04 - val_loss: 7.5790e-04\n",
            "Epoch 69/100\n",
            "58/58 [==============================] - 21s 357ms/step - loss: 5.6804e-04 - val_loss: 3.4218e-04\n",
            "Epoch 70/100\n",
            "58/58 [==============================] - 21s 356ms/step - loss: 5.9715e-04 - val_loss: 7.0954e-04\n",
            "Epoch 71/100\n",
            "58/58 [==============================] - 21s 355ms/step - loss: 5.9557e-04 - val_loss: 3.2952e-04\n",
            "Epoch 72/100\n",
            "58/58 [==============================] - 20s 349ms/step - loss: 5.8561e-04 - val_loss: 5.2396e-04\n",
            "Epoch 73/100\n",
            "58/58 [==============================] - 20s 352ms/step - loss: 5.4448e-04 - val_loss: 3.3024e-04\n",
            "Epoch 74/100\n",
            "58/58 [==============================] - 21s 355ms/step - loss: 5.1464e-04 - val_loss: 4.3855e-04\n",
            "Epoch 75/100\n",
            "58/58 [==============================] - 20s 353ms/step - loss: 5.2063e-04 - val_loss: 7.4345e-04\n",
            "Epoch 76/100\n",
            "58/58 [==============================] - 20s 351ms/step - loss: 5.7517e-04 - val_loss: 3.4465e-04\n",
            "Epoch 77/100\n",
            "58/58 [==============================] - 20s 351ms/step - loss: 4.9640e-04 - val_loss: 3.4113e-04\n",
            "Epoch 78/100\n",
            "58/58 [==============================] - 21s 355ms/step - loss: 5.3627e-04 - val_loss: 3.5125e-04\n",
            "Epoch 79/100\n",
            "58/58 [==============================] - 21s 354ms/step - loss: 4.8657e-04 - val_loss: 4.1739e-04\n",
            "Epoch 80/100\n",
            "58/58 [==============================] - 20s 349ms/step - loss: 4.9755e-04 - val_loss: 3.7172e-04\n",
            "Epoch 81/100\n",
            "58/58 [==============================] - 21s 355ms/step - loss: 4.7321e-04 - val_loss: 7.4949e-04\n",
            "Epoch 82/100\n",
            "58/58 [==============================] - 21s 353ms/step - loss: 5.2076e-04 - val_loss: 4.9740e-04\n",
            "Epoch 83/100\n",
            "58/58 [==============================] - 21s 355ms/step - loss: 5.3524e-04 - val_loss: 9.2749e-04\n",
            "Epoch 84/100\n",
            "58/58 [==============================] - 20s 349ms/step - loss: 4.9853e-04 - val_loss: 3.8014e-04\n",
            "Epoch 85/100\n",
            "58/58 [==============================] - 20s 347ms/step - loss: 5.2460e-04 - val_loss: 9.2428e-04\n",
            "Epoch 86/100\n",
            "58/58 [==============================] - 21s 355ms/step - loss: 5.3734e-04 - val_loss: 3.5229e-04\n",
            "Epoch 87/100\n",
            "58/58 [==============================] - 20s 354ms/step - loss: 4.7174e-04 - val_loss: 8.1262e-04\n",
            "Epoch 88/100\n",
            "58/58 [==============================] - 21s 355ms/step - loss: 5.1276e-04 - val_loss: 3.6996e-04\n",
            "Epoch 89/100\n",
            "58/58 [==============================] - 21s 358ms/step - loss: 5.1960e-04 - val_loss: 6.7699e-04\n",
            "Epoch 90/100\n",
            "58/58 [==============================] - 20s 349ms/step - loss: 5.3403e-04 - val_loss: 8.5244e-04\n",
            "Epoch 91/100\n",
            "58/58 [==============================] - 21s 353ms/step - loss: 5.0108e-04 - val_loss: 4.1659e-04\n",
            "Epoch 92/100\n",
            "58/58 [==============================] - 20s 353ms/step - loss: 4.8755e-04 - val_loss: 4.6342e-04\n",
            "Epoch 93/100\n",
            "58/58 [==============================] - 20s 351ms/step - loss: 5.1930e-04 - val_loss: 4.2436e-04\n",
            "Epoch 94/100\n",
            "58/58 [==============================] - 20s 352ms/step - loss: 4.9355e-04 - val_loss: 4.8635e-04\n",
            "Epoch 95/100\n",
            "58/58 [==============================] - 20s 351ms/step - loss: 5.3491e-04 - val_loss: 3.7523e-04\n",
            "Epoch 96/100\n",
            "58/58 [==============================] - 21s 360ms/step - loss: 5.2304e-04 - val_loss: 3.3299e-04\n",
            "Epoch 97/100\n",
            "58/58 [==============================] - 20s 353ms/step - loss: 4.9542e-04 - val_loss: 3.4446e-04\n",
            "Epoch 98/100\n",
            "58/58 [==============================] - 21s 356ms/step - loss: 4.9175e-04 - val_loss: 5.6491e-04\n",
            "Epoch 99/100\n",
            "58/58 [==============================] - 20s 352ms/step - loss: 4.9537e-04 - val_loss: 6.8167e-04\n",
            "Epoch 100/100\n",
            "58/58 [==============================] - 21s 356ms/step - loss: 5.5728e-04 - val_loss: 4.0856e-04\n",
            "Time taken to run in seconds:  2070.155627965927\n"
          ],
          "name": "stdout"
        }
      ]
    },
    {
      "cell_type": "code",
      "metadata": {
        "colab": {
          "base_uri": "https://localhost:8080/",
          "height": 296
        },
        "id": "_i8Yl4fQpush",
        "outputId": "acc436a7-ef77-4eb2-8aa0-9a9b8f315261"
      },
      "source": [
        "# summarize history for loss\n",
        "plt.plot(history.history['loss'])\n",
        "plt.plot(history.history['val_loss'])\n",
        "plt.title('model loss')\n",
        "plt.ylabel('loss')\n",
        "plt.xlabel('epoch')\n",
        "plt.legend(['train', 'test'], loc='upper left')\n",
        "plt.show()"
      ],
      "execution_count": null,
      "outputs": [
        {
          "output_type": "display_data",
          "data": {
            "image/png": "[encoded data removed]",
            "text/plain": [
              "<Figure size 576x288 with 1 Axes>"
            ]
          },
          "metadata": {
            "tags": [],
            "needs_background": "light"
          }
        }
      ]
    },
    {
      "cell_type": "code",
      "metadata": {
        "id": "ITr0mKEEpuv_"
      },
      "source": [
        "y_pred = grumodel.predict(X_test)"
      ],
      "execution_count": null,
      "outputs": []
    },
    {
      "cell_type": "code",
      "metadata": {
        "colab": {
          "base_uri": "https://localhost:8080/"
        },
        "id": "wPXIhgo4r9zT",
        "outputId": "a6f2160f-8008-41d8-d831-5df6806eeb34"
      },
      "source": [
        "print('RMSE Score: ', round(math.sqrt(mean_squared_error(y_test, y_pred)), 4))"
      ],
      "execution_count": null,
      "outputs": [
        {
          "output_type": "stream",
          "text": [
            "RMSE Score:  0.0202\n"
          ],
          "name": "stdout"
        }
      ]
    },
    {
      "cell_type": "code",
      "metadata": {
        "colab": {
          "base_uri": "https://localhost:8080/",
          "height": 283
        },
        "id": "D8T99nq4r-g-",
        "outputId": "da26ff8b-0006-4943-9233-af9221403728"
      },
      "source": [
        "plt.rcParams['figure.figsize'] = (8,4)\n",
        "plt.plot(y_test, label = 'Actual')\n",
        "plt.plot(y_pred, label = 'Forecast')\n",
        "plt.title('GRU')\n",
        "plt.legend()\n",
        "plt.xticks([])"
      ],
      "execution_count": null,
      "outputs": [
        {
          "output_type": "execute_result",
          "data": {
            "text/plain": [
              "([], <a list of 0 Text major ticklabel objects>)"
            ]
          },
          "metadata": {
            "tags": []
          },
          "execution_count": 97
        },
        {
          "output_type": "display_data",
          "data": {
            "image/png": "[encoded data removed]",
            "text/plain": [
              "<Figure size 576x288 with 1 Axes>"
            ]
          },
          "metadata": {
            "tags": [],
            "needs_background": "light"
          }
        }
      ]
    },
    {
      "cell_type": "code",
      "metadata": {
        "id": "SUbZu1-psELk"
      },
      "source": [
        "y_pred1 = scaler.inverse_transform(y_pred)"
      ],
      "execution_count": null,
      "outputs": []
    },
    {
      "cell_type": "code",
      "metadata": {
        "id": "INCA0LDJrvxb"
      },
      "source": [
        "y_test1 = scaler.inverse_transform(y_test.reshape(-1, 1))"
      ],
      "execution_count": null,
      "outputs": []
    },
    {
      "cell_type": "code",
      "metadata": {
        "colab": {
          "base_uri": "https://localhost:8080/"
        },
        "id": "_7wVfPS_rvxd",
        "outputId": "db5be051-44c7-4c74-c178-27bd37142efe"
      },
      "source": [
        "print('RMSE Score: ', round(math.sqrt(mean_squared_error(y_test1, y_pred1)), 4))"
      ],
      "execution_count": null,
      "outputs": [
        {
          "output_type": "stream",
          "text": [
            "RMSE Score:  0.1982\n"
          ],
          "name": "stdout"
        }
      ]
    },
    {
      "cell_type": "code",
      "metadata": {
        "colab": {
          "base_uri": "https://localhost:8080/",
          "height": 283
        },
        "id": "air36hTvrvxh",
        "outputId": "b782191f-3485-4343-dd63-b1af7bf4c4c0"
      },
      "source": [
        "plt.rcParams['figure.figsize'] = (8,4)\n",
        "plt.plot(y_test1, label = 'Actual')\n",
        "plt.plot(y_pred1, label = 'Forecast')\n",
        "plt.title('GRU')\n",
        "plt.legend()\n",
        "plt.xticks([])"
      ],
      "execution_count": null,
      "outputs": [
        {
          "output_type": "execute_result",
          "data": {
            "text/plain": [
              "([], <a list of 0 Text major ticklabel objects>)"
            ]
          },
          "metadata": {
            "tags": []
          },
          "execution_count": 101
        },
        {
          "output_type": "display_data",
          "data": {
            "image/png": "[encoded data removed]",
            "text/plain": [
              "<Figure size 576x288 with 1 Axes>"
            ]
          },
          "metadata": {
            "tags": [],
            "needs_background": "light"
          }
        }
      ]
    },
    {
      "cell_type": "markdown",
      "metadata": {
        "id": "z0Z8RCL38Lig"
      },
      "source": [
        "## Using Stacked LSTM"
      ]
    },
    {
      "cell_type": "code",
      "metadata": {
        "id": "TOoMn_AN8NFd"
      },
      "source": [
        "# 1st hidden layer is 256\n",
        "# return_sequences=True which determines whether to return the last output in the output sequence\n",
        "# input_shape as the shape of our training set\n",
        "\n",
        "# Calling functions:\n",
        "# Sequential for initializing the neural network\n",
        "# Dense for adding a densely connected neural network layer\n",
        "# LSTM for adding the Long Short-Term Memory layer\n",
        "\n",
        "lstmmodel = Sequential()\n",
        "lstmmodel.add(LSTM(256, return_sequences=True, input_shape=(X_train.shape[1], X_train.shape[2])))     # i/p layer shape is 75,1 like X_train\n",
        "#lstmmodel.add(Dropout(0.2))\n",
        "lstmmodel.add(LSTM(128))\n",
        "#lstmmodel.add(Dropout(0.2))\n",
        "lstmmodel.add(Dense(1))                                               # output layer\n",
        "lstmmodel.compile(loss='mean_squared_error', optimizer='adam')"
      ],
      "execution_count": null,
      "outputs": []
    },
    {
      "cell_type": "code",
      "metadata": {
        "colab": {
          "base_uri": "https://localhost:8080/"
        },
        "id": "YhJH5e3FOVqX",
        "outputId": "f0dcebc3-701b-447c-e18b-690ca75bcd58"
      },
      "source": [
        "lstmmodel.summary()"
      ],
      "execution_count": null,
      "outputs": [
        {
          "output_type": "stream",
          "text": [
            "Model: \"sequential_2\"\n",
            "_________________________________________________________________\n",
            "Layer (type)                 Output Shape              Param #   \n",
            "=================================================================\n",
            "lstm (LSTM)                  (None, 75, 256)           264192    \n",
            "_________________________________________________________________\n",
            "lstm_1 (LSTM)                (None, 128)               197120    \n",
            "_________________________________________________________________\n",
            "dense_2 (Dense)              (None, 1)                 129       \n",
            "=================================================================\n",
            "Total params: 461,441\n",
            "Trainable params: 461,441\n",
            "Non-trainable params: 0\n",
            "_________________________________________________________________\n"
          ],
          "name": "stdout"
        }
      ]
    },
    {
      "cell_type": "code",
      "metadata": {
        "colab": {
          "base_uri": "https://localhost:8080/",
          "height": 422
        },
        "id": "VuB_lAd48nTp",
        "outputId": "f008ab07-7932-45d6-d744-5efac4e71b7b"
      },
      "source": [
        "plot_model(lstmmodel, show_shapes=True, show_layer_names=True)"
      ],
      "execution_count": null,
      "outputs": [
        {
          "output_type": "execute_result",
          "data": {
            "image/png": "[encoded data removed]",
            "text/plain": [
              "<IPython.core.display.Image object>"
            ]
          },
          "metadata": {
            "tags": []
          },
          "execution_count": 49
        }
      ]
    },
    {
      "cell_type": "code",
      "metadata": {
        "colab": {
          "base_uri": "https://localhost:8080/"
        },
        "id": "BRU1Siw-8nWp",
        "outputId": "2c9788fc-66e5-493f-f225-377dcc91f218"
      },
      "source": [
        "start = time.time()\n",
        "\n",
        "history = lstmmodel.fit(X_train, y_train, validation_data=(X_test, y_test), epochs=100, batch_size=64, verbose=1)\n",
        "\n",
        "# use verbose to display progress\n",
        "end = time.time()\n",
        "print(\"Time taken to run in seconds: \", end - start)"
      ],
      "execution_count": null,
      "outputs": [
        {
          "output_type": "stream",
          "text": [
            "Epoch 1/100\n",
            "58/58 [==============================] - 33s 54ms/step - loss: 0.0293 - val_loss: 0.0015\n",
            "Epoch 2/100\n",
            "58/58 [==============================] - 2s 39ms/step - loss: 6.9704e-04 - val_loss: 0.0014\n",
            "Epoch 3/100\n",
            "58/58 [==============================] - 2s 38ms/step - loss: 6.8193e-04 - val_loss: 0.0013\n",
            "Epoch 4/100\n",
            "58/58 [==============================] - 2s 38ms/step - loss: 5.8980e-04 - val_loss: 0.0012\n",
            "Epoch 5/100\n",
            "58/58 [==============================] - 2s 38ms/step - loss: 5.6750e-04 - val_loss: 0.0012\n",
            "Epoch 6/100\n",
            "58/58 [==============================] - 2s 38ms/step - loss: 5.0671e-04 - val_loss: 0.0011\n",
            "Epoch 7/100\n",
            "58/58 [==============================] - 2s 38ms/step - loss: 5.5878e-04 - val_loss: 0.0012\n",
            "Epoch 8/100\n",
            "58/58 [==============================] - 2s 39ms/step - loss: 5.7715e-04 - val_loss: 9.9423e-04\n",
            "Epoch 9/100\n",
            "58/58 [==============================] - 2s 38ms/step - loss: 5.1086e-04 - val_loss: 9.6983e-04\n",
            "Epoch 10/100\n",
            "58/58 [==============================] - 2s 38ms/step - loss: 5.0082e-04 - val_loss: 8.9012e-04\n",
            "Epoch 11/100\n",
            "58/58 [==============================] - 2s 39ms/step - loss: 4.5082e-04 - val_loss: 8.1404e-04\n",
            "Epoch 12/100\n",
            "58/58 [==============================] - 2s 38ms/step - loss: 4.3452e-04 - val_loss: 0.0012\n",
            "Epoch 13/100\n",
            "58/58 [==============================] - 2s 38ms/step - loss: 4.0120e-04 - val_loss: 7.3654e-04\n",
            "Epoch 14/100\n",
            "58/58 [==============================] - 2s 38ms/step - loss: 3.8285e-04 - val_loss: 8.5086e-04\n",
            "Epoch 15/100\n",
            "58/58 [==============================] - 2s 38ms/step - loss: 4.1782e-04 - val_loss: 6.5996e-04\n",
            "Epoch 16/100\n",
            "58/58 [==============================] - 2s 39ms/step - loss: 4.5116e-04 - val_loss: 6.3137e-04\n",
            "Epoch 17/100\n",
            "58/58 [==============================] - 2s 39ms/step - loss: 3.5341e-04 - val_loss: 8.9843e-04\n",
            "Epoch 18/100\n",
            "58/58 [==============================] - 2s 38ms/step - loss: 3.5887e-04 - val_loss: 6.0384e-04\n",
            "Epoch 19/100\n",
            "58/58 [==============================] - 2s 38ms/step - loss: 3.5973e-04 - val_loss: 6.5618e-04\n",
            "Epoch 20/100\n",
            "58/58 [==============================] - 2s 38ms/step - loss: 2.9176e-04 - val_loss: 6.3550e-04\n",
            "Epoch 21/100\n",
            "58/58 [==============================] - 2s 38ms/step - loss: 3.2273e-04 - val_loss: 8.1827e-04\n",
            "Epoch 22/100\n",
            "58/58 [==============================] - 2s 39ms/step - loss: 3.1890e-04 - val_loss: 5.1907e-04\n",
            "Epoch 23/100\n",
            "58/58 [==============================] - 2s 38ms/step - loss: 2.9680e-04 - val_loss: 7.1262e-04\n",
            "Epoch 24/100\n",
            "58/58 [==============================] - 2s 39ms/step - loss: 3.2942e-04 - val_loss: 4.8111e-04\n",
            "Epoch 25/100\n",
            "58/58 [==============================] - 2s 39ms/step - loss: 2.8217e-04 - val_loss: 8.4920e-04\n",
            "Epoch 26/100\n",
            "58/58 [==============================] - 2s 38ms/step - loss: 2.8345e-04 - val_loss: 5.5691e-04\n",
            "Epoch 27/100\n",
            "58/58 [==============================] - 2s 38ms/step - loss: 3.1346e-04 - val_loss: 4.7573e-04\n",
            "Epoch 28/100\n",
            "58/58 [==============================] - 2s 39ms/step - loss: 2.8032e-04 - val_loss: 4.4041e-04\n",
            "Epoch 29/100\n",
            "58/58 [==============================] - 2s 39ms/step - loss: 2.5457e-04 - val_loss: 6.0414e-04\n",
            "Epoch 30/100\n",
            "58/58 [==============================] - 2s 39ms/step - loss: 2.6119e-04 - val_loss: 7.0857e-04\n",
            "Epoch 31/100\n",
            "58/58 [==============================] - 2s 39ms/step - loss: 2.4195e-04 - val_loss: 4.9654e-04\n",
            "Epoch 32/100\n",
            "58/58 [==============================] - 2s 39ms/step - loss: 2.2906e-04 - val_loss: 4.1023e-04\n",
            "Epoch 33/100\n",
            "58/58 [==============================] - 2s 38ms/step - loss: 1.9064e-04 - val_loss: 4.3510e-04\n",
            "Epoch 34/100\n",
            "58/58 [==============================] - 2s 38ms/step - loss: 2.6879e-04 - val_loss: 4.3389e-04\n",
            "Epoch 35/100\n",
            "58/58 [==============================] - 2s 38ms/step - loss: 2.1971e-04 - val_loss: 3.4888e-04\n",
            "Epoch 36/100\n",
            "58/58 [==============================] - 2s 42ms/step - loss: 1.9856e-04 - val_loss: 3.5646e-04\n",
            "Epoch 37/100\n",
            "58/58 [==============================] - 2s 38ms/step - loss: 2.0482e-04 - val_loss: 3.3409e-04\n",
            "Epoch 38/100\n",
            "58/58 [==============================] - 2s 38ms/step - loss: 2.1377e-04 - val_loss: 4.7845e-04\n",
            "Epoch 39/100\n",
            "58/58 [==============================] - 2s 38ms/step - loss: 2.5296e-04 - val_loss: 3.3984e-04\n",
            "Epoch 40/100\n",
            "58/58 [==============================] - 2s 39ms/step - loss: 2.1487e-04 - val_loss: 4.0499e-04\n",
            "Epoch 41/100\n",
            "58/58 [==============================] - 2s 39ms/step - loss: 1.9835e-04 - val_loss: 5.4467e-04\n",
            "Epoch 42/100\n",
            "58/58 [==============================] - 2s 39ms/step - loss: 2.1464e-04 - val_loss: 5.4843e-04\n",
            "Epoch 43/100\n",
            "58/58 [==============================] - 2s 39ms/step - loss: 2.2576e-04 - val_loss: 4.4853e-04\n",
            "Epoch 44/100\n",
            "58/58 [==============================] - 2s 39ms/step - loss: 1.8878e-04 - val_loss: 3.4910e-04\n",
            "Epoch 45/100\n",
            "58/58 [==============================] - 2s 39ms/step - loss: 2.0276e-04 - val_loss: 3.7290e-04\n",
            "Epoch 46/100\n",
            "58/58 [==============================] - 2s 39ms/step - loss: 1.8987e-04 - val_loss: 3.0568e-04\n",
            "Epoch 47/100\n",
            "58/58 [==============================] - 2s 39ms/step - loss: 2.3237e-04 - val_loss: 4.4415e-04\n",
            "Epoch 48/100\n",
            "58/58 [==============================] - 2s 39ms/step - loss: 1.9992e-04 - val_loss: 3.4707e-04\n",
            "Epoch 49/100\n",
            "58/58 [==============================] - 2s 39ms/step - loss: 2.1347e-04 - val_loss: 3.0574e-04\n",
            "Epoch 50/100\n",
            "58/58 [==============================] - 2s 39ms/step - loss: 1.8857e-04 - val_loss: 3.5671e-04\n",
            "Epoch 51/100\n",
            "58/58 [==============================] - 2s 39ms/step - loss: 2.1292e-04 - val_loss: 3.0594e-04\n",
            "Epoch 52/100\n",
            "58/58 [==============================] - 2s 40ms/step - loss: 1.8309e-04 - val_loss: 3.1068e-04\n",
            "Epoch 53/100\n",
            "58/58 [==============================] - 2s 39ms/step - loss: 1.8927e-04 - val_loss: 7.1930e-04\n",
            "Epoch 54/100\n",
            "58/58 [==============================] - 2s 39ms/step - loss: 2.2284e-04 - val_loss: 3.2290e-04\n",
            "Epoch 55/100\n",
            "58/58 [==============================] - 2s 40ms/step - loss: 1.9645e-04 - val_loss: 3.0539e-04\n",
            "Epoch 56/100\n",
            "58/58 [==============================] - 2s 39ms/step - loss: 2.0186e-04 - val_loss: 3.0719e-04\n",
            "Epoch 57/100\n",
            "58/58 [==============================] - 2s 39ms/step - loss: 1.7509e-04 - val_loss: 3.1240e-04\n",
            "Epoch 58/100\n",
            "58/58 [==============================] - 2s 39ms/step - loss: 1.9606e-04 - val_loss: 5.3573e-04\n",
            "Epoch 59/100\n",
            "58/58 [==============================] - 2s 39ms/step - loss: 2.1843e-04 - val_loss: 9.7231e-04\n",
            "Epoch 60/100\n",
            "58/58 [==============================] - 2s 40ms/step - loss: 2.4840e-04 - val_loss: 4.0976e-04\n",
            "Epoch 61/100\n",
            "58/58 [==============================] - 2s 40ms/step - loss: 2.0593e-04 - val_loss: 3.6076e-04\n",
            "Epoch 62/100\n",
            "58/58 [==============================] - 2s 39ms/step - loss: 1.8680e-04 - val_loss: 3.0615e-04\n",
            "Epoch 63/100\n",
            "58/58 [==============================] - 2s 38ms/step - loss: 2.0027e-04 - val_loss: 4.2452e-04\n",
            "Epoch 64/100\n",
            "58/58 [==============================] - 2s 38ms/step - loss: 1.9920e-04 - val_loss: 3.2796e-04\n",
            "Epoch 65/100\n",
            "58/58 [==============================] - 2s 39ms/step - loss: 1.9768e-04 - val_loss: 5.6699e-04\n",
            "Epoch 66/100\n",
            "58/58 [==============================] - 2s 38ms/step - loss: 1.9010e-04 - val_loss: 4.8553e-04\n",
            "Epoch 67/100\n",
            "58/58 [==============================] - 2s 39ms/step - loss: 2.3511e-04 - val_loss: 3.9827e-04\n",
            "Epoch 68/100\n",
            "58/58 [==============================] - 2s 39ms/step - loss: 1.8069e-04 - val_loss: 6.3075e-04\n",
            "Epoch 69/100\n",
            "58/58 [==============================] - 2s 39ms/step - loss: 1.9792e-04 - val_loss: 3.3767e-04\n",
            "Epoch 70/100\n",
            "58/58 [==============================] - 2s 39ms/step - loss: 1.6884e-04 - val_loss: 5.3268e-04\n",
            "Epoch 71/100\n",
            "58/58 [==============================] - 2s 39ms/step - loss: 1.9651e-04 - val_loss: 3.1164e-04\n",
            "Epoch 72/100\n",
            "58/58 [==============================] - 2s 39ms/step - loss: 1.7846e-04 - val_loss: 3.0664e-04\n",
            "Epoch 73/100\n",
            "58/58 [==============================] - 2s 39ms/step - loss: 1.9922e-04 - val_loss: 3.0842e-04\n",
            "Epoch 74/100\n",
            "58/58 [==============================] - 2s 39ms/step - loss: 1.9184e-04 - val_loss: 3.2317e-04\n",
            "Epoch 75/100\n",
            "58/58 [==============================] - 2s 39ms/step - loss: 1.7976e-04 - val_loss: 3.6967e-04\n",
            "Epoch 76/100\n",
            "58/58 [==============================] - 2s 39ms/step - loss: 1.9184e-04 - val_loss: 3.1504e-04\n",
            "Epoch 77/100\n",
            "58/58 [==============================] - 2s 39ms/step - loss: 1.8529e-04 - val_loss: 4.3483e-04\n",
            "Epoch 78/100\n",
            "58/58 [==============================] - 2s 38ms/step - loss: 1.9187e-04 - val_loss: 3.0592e-04\n",
            "Epoch 79/100\n",
            "58/58 [==============================] - 2s 39ms/step - loss: 2.3657e-04 - val_loss: 8.6744e-04\n",
            "Epoch 80/100\n",
            "58/58 [==============================] - 2s 38ms/step - loss: 2.1524e-04 - val_loss: 3.1032e-04\n",
            "Epoch 81/100\n",
            "58/58 [==============================] - 2s 39ms/step - loss: 2.0790e-04 - val_loss: 3.0890e-04\n",
            "Epoch 82/100\n",
            "58/58 [==============================] - 2s 39ms/step - loss: 1.7638e-04 - val_loss: 3.3848e-04\n",
            "Epoch 83/100\n",
            "58/58 [==============================] - 2s 39ms/step - loss: 1.6980e-04 - val_loss: 3.1415e-04\n",
            "Epoch 84/100\n",
            "58/58 [==============================] - 2s 39ms/step - loss: 1.8196e-04 - val_loss: 3.5234e-04\n",
            "Epoch 85/100\n",
            "58/58 [==============================] - 2s 39ms/step - loss: 1.9946e-04 - val_loss: 3.0922e-04\n",
            "Epoch 86/100\n",
            "58/58 [==============================] - 2s 39ms/step - loss: 2.2100e-04 - val_loss: 8.4318e-04\n",
            "Epoch 87/100\n",
            "58/58 [==============================] - 2s 39ms/step - loss: 2.0912e-04 - val_loss: 4.1838e-04\n",
            "Epoch 88/100\n",
            "58/58 [==============================] - 2s 39ms/step - loss: 1.9929e-04 - val_loss: 3.0741e-04\n",
            "Epoch 89/100\n",
            "58/58 [==============================] - 2s 39ms/step - loss: 1.8761e-04 - val_loss: 3.1981e-04\n",
            "Epoch 90/100\n",
            "58/58 [==============================] - 2s 39ms/step - loss: 1.9956e-04 - val_loss: 4.3073e-04\n",
            "Epoch 91/100\n",
            "58/58 [==============================] - 2s 39ms/step - loss: 1.7960e-04 - val_loss: 3.4910e-04\n",
            "Epoch 92/100\n",
            "58/58 [==============================] - 2s 39ms/step - loss: 2.3894e-04 - val_loss: 9.3886e-04\n",
            "Epoch 93/100\n",
            "58/58 [==============================] - 2s 38ms/step - loss: 2.2923e-04 - val_loss: 3.0494e-04\n",
            "Epoch 94/100\n",
            "58/58 [==============================] - 2s 39ms/step - loss: 2.0278e-04 - val_loss: 3.7403e-04\n",
            "Epoch 95/100\n",
            "58/58 [==============================] - 2s 39ms/step - loss: 1.8365e-04 - val_loss: 3.1656e-04\n",
            "Epoch 96/100\n",
            "58/58 [==============================] - 2s 39ms/step - loss: 2.0542e-04 - val_loss: 3.1120e-04\n",
            "Epoch 97/100\n",
            "58/58 [==============================] - 2s 39ms/step - loss: 2.0392e-04 - val_loss: 3.2653e-04\n",
            "Epoch 98/100\n",
            "58/58 [==============================] - 2s 39ms/step - loss: 2.0401e-04 - val_loss: 4.3719e-04\n",
            "Epoch 99/100\n",
            "58/58 [==============================] - 2s 38ms/step - loss: 2.2237e-04 - val_loss: 3.7813e-04\n",
            "Epoch 100/100\n",
            "58/58 [==============================] - 2s 39ms/step - loss: 1.9312e-04 - val_loss: 3.0506e-04\n",
            "Time taken to run in seconds:  255.4327518939972\n"
          ],
          "name": "stdout"
        }
      ]
    },
    {
      "cell_type": "code",
      "metadata": {
        "colab": {
          "base_uri": "https://localhost:8080/"
        },
        "id": "hVXzJRzd8nc_",
        "outputId": "6558fd23-0c51-4175-9ea1-ab0807b90381"
      },
      "source": [
        "# list all data in history\n",
        "print(history.history.keys())"
      ],
      "execution_count": null,
      "outputs": [
        {
          "output_type": "stream",
          "text": [
            "dict_keys(['loss', 'val_loss'])\n"
          ],
          "name": "stdout"
        }
      ]
    },
    {
      "cell_type": "code",
      "metadata": {
        "colab": {
          "base_uri": "https://localhost:8080/",
          "height": 296
        },
        "id": "aoNkEJps8z4U",
        "outputId": "1bd5f924-6071-452d-a2d1-5844a46069ab"
      },
      "source": [
        "# summarize history for loss\n",
        "plt.plot(history.history['loss'])\n",
        "plt.plot(history.history['val_loss'])\n",
        "plt.title('model loss')\n",
        "plt.ylabel('loss')\n",
        "plt.xlabel('epoch')\n",
        "plt.legend(['train', 'test'], loc='upper left')\n",
        "plt.show()"
      ],
      "execution_count": null,
      "outputs": [
        {
          "output_type": "display_data",
          "data": {
            "image/png": "[encoded data removed]",
            "text/plain": [
              "<Figure size 576x288 with 1 Axes>"
            ]
          },
          "metadata": {
            "tags": [],
            "needs_background": "light"
          }
        }
      ]
    },
    {
      "cell_type": "code",
      "metadata": {
        "id": "RE3JR7LBC-t3"
      },
      "source": [
        "y_pred = lstmmodel.predict(X_test)"
      ],
      "execution_count": null,
      "outputs": []
    },
    {
      "cell_type": "code",
      "metadata": {
        "colab": {
          "base_uri": "https://localhost:8080/"
        },
        "id": "oLeRhc_7C-t4",
        "outputId": "fccac6a6-a2bf-41ee-ac00-4dc33cb0bf48"
      },
      "source": [
        "print('RMSE Score: ', round(math.sqrt(mean_squared_error(y_test, y_pred)), 4))"
      ],
      "execution_count": null,
      "outputs": [
        {
          "output_type": "stream",
          "text": [
            "RMSE Score:  0.0175\n"
          ],
          "name": "stdout"
        }
      ]
    },
    {
      "cell_type": "code",
      "metadata": {
        "colab": {
          "base_uri": "https://localhost:8080/",
          "height": 283
        },
        "id": "kbJ_azdpC-uC",
        "outputId": "7c9ce108-ea1a-4ce3-b14c-e43a7cd3ba6f"
      },
      "source": [
        "plt.rcParams['figure.figsize'] = (8,4)\n",
        "plt.plot(y_test, label = 'Actual')\n",
        "plt.plot(y_pred, label = 'Forecast')\n",
        "plt.title('LSTM')\n",
        "plt.legend()\n",
        "plt.xticks([])"
      ],
      "execution_count": null,
      "outputs": [
        {
          "output_type": "execute_result",
          "data": {
            "text/plain": [
              "([], <a list of 0 Text major ticklabel objects>)"
            ]
          },
          "metadata": {
            "tags": []
          },
          "execution_count": 104
        },
        {
          "output_type": "display_data",
          "data": {
            "image/png": "[encoded data removed]",
            "text/plain": [
              "<Figure size 576x288 with 1 Axes>"
            ]
          },
          "metadata": {
            "tags": [],
            "needs_background": "light"
          }
        }
      ]
    },
    {
      "cell_type": "code",
      "metadata": {
        "id": "KirY27l0C-uD"
      },
      "source": [
        "y_pred1 = scaler.inverse_transform(y_pred)"
      ],
      "execution_count": null,
      "outputs": []
    },
    {
      "cell_type": "code",
      "metadata": {
        "id": "oktmcGEiC-uD"
      },
      "source": [
        "y_test1 = scaler.inverse_transform(y_test.reshape(-1, 1))"
      ],
      "execution_count": null,
      "outputs": []
    },
    {
      "cell_type": "code",
      "metadata": {
        "colab": {
          "base_uri": "https://localhost:8080/"
        },
        "id": "JgxdstEmC-uE",
        "outputId": "ce885fb1-46e3-47c7-bb31-61c2d17738d6"
      },
      "source": [
        "print('RMSE Score: ', round(math.sqrt(mean_squared_error(y_test1, y_pred1)), 4))"
      ],
      "execution_count": null,
      "outputs": [
        {
          "output_type": "stream",
          "text": [
            "RMSE Score:  0.1713\n"
          ],
          "name": "stdout"
        }
      ]
    },
    {
      "cell_type": "code",
      "metadata": {
        "colab": {
          "base_uri": "https://localhost:8080/",
          "height": 283
        },
        "id": "M-MRO5qEC-uE",
        "outputId": "f41505b0-7d28-47f4-dcdb-8d6db428126d"
      },
      "source": [
        "plt.rcParams['figure.figsize'] = (8,4)\n",
        "plt.plot(y_test1, label = 'Actual')\n",
        "plt.plot(y_pred1, label = 'Forecast')\n",
        "plt.title('LSTM')\n",
        "plt.legend()\n",
        "plt.xticks([])"
      ],
      "execution_count": null,
      "outputs": [
        {
          "output_type": "execute_result",
          "data": {
            "text/plain": [
              "([], <a list of 0 Text major ticklabel objects>)"
            ]
          },
          "metadata": {
            "tags": []
          },
          "execution_count": 108
        },
        {
          "output_type": "display_data",
          "data": {
            "image/png": "[encoded data removed]",
            "text/plain": [
              "<Figure size 576x288 with 1 Axes>"
            ]
          },
          "metadata": {
            "tags": [],
            "needs_background": "light"
          }
        }
      ]
    },
    {
      "cell_type": "code",
      "metadata": {
        "id": "vWUBt4r7ynil"
      },
      "source": [
        "train_predict = lstmmodel.predict(X_train)\n",
        "test_predict = lstmmodel.predict(X_test)\n",
        "train_predict = scaler.inverse_transform(train_predict)\n",
        "test_predict = scaler.inverse_transform(test_predict)"
      ],
      "execution_count": null,
      "outputs": []
    },
    {
      "cell_type": "code",
      "metadata": {
        "colab": {
          "base_uri": "https://localhost:8080/",
          "height": 262
        },
        "id": "AzCPocpdPmew",
        "outputId": "c5e75053-bc24-4d41-f286-cd5d1c2aaa3d"
      },
      "source": [
        "# Plotting \n",
        "# shift train predictions for plotting\n",
        "time_steps=75           # time step\n",
        "trainPredictPlot = np.empty_like(df)\n",
        "trainPredictPlot[:, :] = np.nan\n",
        "trainPredictPlot[time_steps:len(train_predict)+time_steps, :] = train_predict\n",
        "\n",
        "# shift test predictions for plotting\n",
        "testPredictPlot = np.empty_like(df)\n",
        "testPredictPlot[:, :] = np.nan\n",
        "testPredictPlot[len(train_predict)+(time_steps*2)+1:len(df)-1, :] = test_predict\n",
        "\n",
        "# plot baseline and predictions\n",
        "plt.plot(scaler.inverse_transform(df))\n",
        "plt.plot(trainPredictPlot)\n",
        "plt.plot(testPredictPlot)\n",
        "plt.show()\n",
        "\n",
        "# complete data set - blue\n",
        "# train data - red\n",
        "# predicted o/p for test data - yellow"
      ],
      "execution_count": null,
      "outputs": [
        {
          "output_type": "display_data",
          "data": {
            "image/png": "[encoded data removed]",
            "text/plain": [
              "<Figure size 576x288 with 1 Axes>"
            ]
          },
          "metadata": {
            "tags": [],
            "needs_background": "light"
          }
        }
      ]
    },
    {
      "cell_type": "markdown",
      "metadata": {
        "id": "9YyMDX2aSUXk"
      },
      "source": [
        "### Predicting on unseen data"
      ]
    },
    {
      "cell_type": "code",
      "metadata": {
        "colab": {
          "base_uri": "https://localhost:8080/"
        },
        "id": "FvmfWSXQbbF_",
        "outputId": "5f23fac0-2dfe-4aeb-f8a5-c2121b057084"
      },
      "source": [
        "len(test_data)"
      ],
      "execution_count": null,
      "outputs": [
        {
          "output_type": "execute_result",
          "data": {
            "text/plain": [
              "252"
            ]
          },
          "metadata": {
            "tags": []
          },
          "execution_count": 62
        }
      ]
    },
    {
      "cell_type": "code",
      "metadata": {
        "colab": {
          "base_uri": "https://localhost:8080/"
        },
        "id": "qsi5lZJUvvb6",
        "outputId": "d7631f3e-bcf1-46d2-918e-c63be31c0300"
      },
      "source": [
        "252-75"
      ],
      "execution_count": null,
      "outputs": [
        {
          "output_type": "execute_result",
          "data": {
            "text/plain": [
              "177"
            ]
          },
          "metadata": {
            "tags": []
          },
          "execution_count": 63
        }
      ]
    },
    {
      "cell_type": "code",
      "metadata": {
        "colab": {
          "base_uri": "https://localhost:8080/"
        },
        "id": "acN3S2H2bbqD",
        "outputId": "91d3919f-ad44-41ff-aff5-f3fbf68e25c3"
      },
      "source": [
        "# taking previous 75 days from the last record\n",
        "\n",
        "x_input = test_data[177:].reshape(1,-1)\n",
        "x_input.shape"
      ],
      "execution_count": null,
      "outputs": [
        {
          "output_type": "execute_result",
          "data": {
            "text/plain": [
              "(1, 75)"
            ]
          },
          "metadata": {
            "tags": []
          },
          "execution_count": 64
        }
      ]
    },
    {
      "cell_type": "code",
      "metadata": {
        "id": "7M-HQqkDbbvU",
        "colab": {
          "base_uri": "https://localhost:8080/"
        },
        "outputId": "3eec98c3-f965-451e-a2f9-e5857de173dd"
      },
      "source": [
        "# converting to list\n",
        "\n",
        "temp_input = list(x_input)\n",
        "temp_input"
      ],
      "execution_count": null,
      "outputs": [
        {
          "output_type": "execute_result",
          "data": {
            "text/plain": [
              "[array([0.96940434, 0.96838448, 0.95920579, 0.96226535, 0.9520668 ,\n",
              "        0.92657041, 0.89087548, 0.8949549 , 0.89699461, 0.9041336 ,\n",
              "        0.91229244, 0.92861012, 0.8949549 , 0.89903432, 0.90719316,\n",
              "        0.91331229, 0.92045128, 0.90311374, 0.90719316, 0.90923287,\n",
              "        0.88781591, 0.85212097, 0.85722025, 0.85008126, 0.84906141,\n",
              "        0.8470217 , 0.71648021, 0.68792426, 0.69098383, 0.67976542,\n",
              "        0.70730151, 0.70322209, 0.71851992, 0.71953978, 0.74707587,\n",
              "        0.73993688, 0.76441341, 0.76033399, 0.77665168, 0.79092965,\n",
              "        0.75625457, 0.76747298, 0.76339356, 0.75931414, 0.77563182,\n",
              "        0.77461197, 0.77461197, 0.7715524 , 0.7807311 , 0.77563182,\n",
              "        0.74809573, 0.77563182, 0.753195  , 0.76645312, 0.7715524 ,\n",
              "        0.75727442, 0.75523471, 0.77461197, 0.77767153, 0.78277081,\n",
              "        0.78277081, 0.79296936, 0.79602893, 0.79194951, 0.79704878,\n",
              "        0.80214806, 0.81846575, 0.82254517, 0.81642604, 0.81846575,\n",
              "        0.81846575, 0.81336647, 0.80622748, 0.81540618, 0.80520763])]"
            ]
          },
          "metadata": {
            "tags": []
          },
          "execution_count": 65
        }
      ]
    },
    {
      "cell_type": "code",
      "metadata": {
        "colab": {
          "base_uri": "https://localhost:8080/"
        },
        "id": "AGkdPhZGwDxp",
        "outputId": "8fc30da9-7f13-45ac-ff45-d124fa299928"
      },
      "source": [
        "temp_input = temp_input[0].tolist()\n",
        "temp_input[0] # showing 1st element of list"
      ],
      "execution_count": null,
      "outputs": [
        {
          "output_type": "execute_result",
          "data": {
            "text/plain": [
              "0.9694043391989974"
            ]
          },
          "metadata": {
            "tags": []
          },
          "execution_count": 66
        }
      ]
    },
    {
      "cell_type": "code",
      "metadata": {
        "colab": {
          "base_uri": "https://localhost:8080/"
        },
        "id": "flCQmym5624a",
        "outputId": "f1cd046a-9167-4b10-e2d7-e6891717d88f"
      },
      "source": [
        "len(temp_input)"
      ],
      "execution_count": null,
      "outputs": [
        {
          "output_type": "execute_result",
          "data": {
            "text/plain": [
              "75"
            ]
          },
          "metadata": {
            "tags": []
          },
          "execution_count": 67
        }
      ]
    },
    {
      "cell_type": "code",
      "metadata": {
        "colab": {
          "base_uri": "https://localhost:8080/"
        },
        "id": "Pb2hwnlhbbyH",
        "outputId": "abbefff5-ea56-48a7-994d-bc3dd882440c"
      },
      "source": [
        "temp_input      # test_data values -> previous 75 days"
      ],
      "execution_count": null,
      "outputs": [
        {
          "output_type": "execute_result",
          "data": {
            "text/plain": [
              "[0.9694043391989974,\n",
              " 0.968384483838964,\n",
              " 0.9592057855986632,\n",
              " 0.9622653516787635,\n",
              " 0.9520667980784293,\n",
              " 0.9265704140775938,\n",
              " 0.8908754764764243,\n",
              " 0.8949548979165577,\n",
              " 0.8969946086366248,\n",
              " 0.9041335961568587,\n",
              " 0.912292439037126,\n",
              " 0.9286101247976607,\n",
              " 0.8949548979165577,\n",
              " 0.8990343193566915,\n",
              " 0.907193162236959,\n",
              " 0.9133122943971596,\n",
              " 0.9204512819173932,\n",
              " 0.9031137407968252,\n",
              " 0.907193162236959,\n",
              " 0.9092328729570257,\n",
              " 0.887815910396324,\n",
              " 0.8521209727951543,\n",
              " 0.8572202495953213,\n",
              " 0.8500812620750874,\n",
              " 0.849061406715054,\n",
              " 0.8470216959949871,\n",
              " 0.7164802099107095,\n",
              " 0.6879242598297739,\n",
              " 0.6909838259098741,\n",
              " 0.6797654169495065,\n",
              " 0.7073015116704088,\n",
              " 0.7032220902302752,\n",
              " 0.7185199206307765,\n",
              " 0.7195397759908099,\n",
              " 0.7470758707117121,\n",
              " 0.7399368831914782,\n",
              " 0.7644134118322803,\n",
              " 0.7603339903921467,\n",
              " 0.7766516761526815,\n",
              " 0.7909296511931491,\n",
              " 0.7562545689520129,\n",
              " 0.7674729779123804,\n",
              " 0.7633935564722468,\n",
              " 0.7593141350321133,\n",
              " 0.7756318207926479,\n",
              " 0.7746119654326143,\n",
              " 0.7746119654326143,\n",
              " 0.7715523993525143,\n",
              " 0.7807310975928149,\n",
              " 0.7756318207926479,\n",
              " 0.7480957260717456,\n",
              " 0.7756318207926479,\n",
              " 0.7531950028719128,\n",
              " 0.7664531225523471,\n",
              " 0.7715523993525143,\n",
              " 0.7572744243120463,\n",
              " 0.7552347135919795,\n",
              " 0.7746119654326143,\n",
              " 0.7776715315127148,\n",
              " 0.7827708083128818,\n",
              " 0.7827708083128818,\n",
              " 0.792969361913216,\n",
              " 0.7960289279933163,\n",
              " 0.7919495065531826,\n",
              " 0.7970487833533496,\n",
              " 0.8021480601535168,\n",
              " 0.8184657459140513,\n",
              " 0.8225451673541851,\n",
              " 0.8164260351939846,\n",
              " 0.8184657459140513,\n",
              " 0.8184657459140513,\n",
              " 0.8133664691138843,\n",
              " 0.8062274815936504,\n",
              " 0.8154061798339513,\n",
              " 0.8052076262336171]"
            ]
          },
          "metadata": {
            "tags": []
          },
          "execution_count": 68
        }
      ]
    },
    {
      "cell_type": "code",
      "metadata": {
        "colab": {
          "base_uri": "https://localhost:8080/"
        },
        "id": "Kp0FEK4dbb1I",
        "outputId": "e717e29a-4f41-419e-a4db-dca8e65a18d4"
      },
      "source": [
        "# prediction for next 30 days\n",
        "\n",
        "lst_output = []\n",
        "n_steps = 75\n",
        "i = 0\n",
        "while(i<30):\n",
        "    if(len(temp_input)>75):\n",
        "        x_input = np.array(temp_input[1:])            # eliminate 1st value of temp_input\n",
        "        print(\"{} day input {}\".format(i,x_input))\n",
        "        x_input = x_input.reshape(1,-1)\n",
        "        x_input = x_input.reshape((1, n_steps, 1))\n",
        "        yhat = lstmmodel.predict(x_input, verbose=0)      # predict value of next day\n",
        "        print(\"{} day output {}\".format(i,yhat[0]))\n",
        "        temp_input.extend(yhat[0].tolist())\n",
        "        temp_input = temp_input[1:]\n",
        "        lst_output.extend(yhat.tolist())\n",
        "        i = i+1\n",
        "    else:\n",
        "        x_input = x_input.reshape((1, n_steps, 1))\n",
        "        yhat = lstmmodel.predict(x_input, verbose=0)      # predict value of next day   \n",
        "        print(\"Showing first output: \", yhat[0])\n",
        "        temp_input.extend(yhat[0].tolist())\n",
        "        print(\"Number of days: \", len(temp_input))\n",
        "        lst_output.extend(yhat.tolist())\n",
        "        i = i+1\n",
        "\n",
        "print(\"The outputs are: \", lst_output)                # storing all predicted values for 30 days"
      ],
      "execution_count": null,
      "outputs": [
        {
          "output_type": "stream",
          "text": [
            "Showing first output:  [0.8054503]\n",
            "Number of days:  76\n",
            "1 day input [0.96838448 0.95920579 0.96226535 0.9520668  0.92657041 0.89087548\n",
            " 0.8949549  0.89699461 0.9041336  0.91229244 0.92861012 0.8949549\n",
            " 0.89903432 0.90719316 0.91331229 0.92045128 0.90311374 0.90719316\n",
            " 0.90923287 0.88781591 0.85212097 0.85722025 0.85008126 0.84906141\n",
            " 0.8470217  0.71648021 0.68792426 0.69098383 0.67976542 0.70730151\n",
            " 0.70322209 0.71851992 0.71953978 0.74707587 0.73993688 0.76441341\n",
            " 0.76033399 0.77665168 0.79092965 0.75625457 0.76747298 0.76339356\n",
            " 0.75931414 0.77563182 0.77461197 0.77461197 0.7715524  0.7807311\n",
            " 0.77563182 0.74809573 0.77563182 0.753195   0.76645312 0.7715524\n",
            " 0.75727442 0.75523471 0.77461197 0.77767153 0.78277081 0.78277081\n",
            " 0.79296936 0.79602893 0.79194951 0.79704878 0.80214806 0.81846575\n",
            " 0.82254517 0.81642604 0.81846575 0.81846575 0.81336647 0.80622748\n",
            " 0.81540618 0.80520763 0.80545032]\n",
            "1 day output [0.80711156]\n",
            "2 day input [0.95920579 0.96226535 0.9520668  0.92657041 0.89087548 0.8949549\n",
            " 0.89699461 0.9041336  0.91229244 0.92861012 0.8949549  0.89903432\n",
            " 0.90719316 0.91331229 0.92045128 0.90311374 0.90719316 0.90923287\n",
            " 0.88781591 0.85212097 0.85722025 0.85008126 0.84906141 0.8470217\n",
            " 0.71648021 0.68792426 0.69098383 0.67976542 0.70730151 0.70322209\n",
            " 0.71851992 0.71953978 0.74707587 0.73993688 0.76441341 0.76033399\n",
            " 0.77665168 0.79092965 0.75625457 0.76747298 0.76339356 0.75931414\n",
            " 0.77563182 0.77461197 0.77461197 0.7715524  0.7807311  0.77563182\n",
            " 0.74809573 0.77563182 0.753195   0.76645312 0.7715524  0.75727442\n",
            " 0.75523471 0.77461197 0.77767153 0.78277081 0.78277081 0.79296936\n",
            " 0.79602893 0.79194951 0.79704878 0.80214806 0.81846575 0.82254517\n",
            " 0.81642604 0.81846575 0.81846575 0.81336647 0.80622748 0.81540618\n",
            " 0.80520763 0.80545032 0.80711156]\n",
            "2 day output [0.8087591]\n",
            "3 day input [0.96226535 0.9520668  0.92657041 0.89087548 0.8949549  0.89699461\n",
            " 0.9041336  0.91229244 0.92861012 0.8949549  0.89903432 0.90719316\n",
            " 0.91331229 0.92045128 0.90311374 0.90719316 0.90923287 0.88781591\n",
            " 0.85212097 0.85722025 0.85008126 0.84906141 0.8470217  0.71648021\n",
            " 0.68792426 0.69098383 0.67976542 0.70730151 0.70322209 0.71851992\n",
            " 0.71953978 0.74707587 0.73993688 0.76441341 0.76033399 0.77665168\n",
            " 0.79092965 0.75625457 0.76747298 0.76339356 0.75931414 0.77563182\n",
            " 0.77461197 0.77461197 0.7715524  0.7807311  0.77563182 0.74809573\n",
            " 0.77563182 0.753195   0.76645312 0.7715524  0.75727442 0.75523471\n",
            " 0.77461197 0.77767153 0.78277081 0.78277081 0.79296936 0.79602893\n",
            " 0.79194951 0.79704878 0.80214806 0.81846575 0.82254517 0.81642604\n",
            " 0.81846575 0.81846575 0.81336647 0.80622748 0.81540618 0.80520763\n",
            " 0.80545032 0.80711156 0.80875909]\n",
            "3 day output [0.8104297]\n",
            "4 day input [0.9520668  0.92657041 0.89087548 0.8949549  0.89699461 0.9041336\n",
            " 0.91229244 0.92861012 0.8949549  0.89903432 0.90719316 0.91331229\n",
            " 0.92045128 0.90311374 0.90719316 0.90923287 0.88781591 0.85212097\n",
            " 0.85722025 0.85008126 0.84906141 0.8470217  0.71648021 0.68792426\n",
            " 0.69098383 0.67976542 0.70730151 0.70322209 0.71851992 0.71953978\n",
            " 0.74707587 0.73993688 0.76441341 0.76033399 0.77665168 0.79092965\n",
            " 0.75625457 0.76747298 0.76339356 0.75931414 0.77563182 0.77461197\n",
            " 0.77461197 0.7715524  0.7807311  0.77563182 0.74809573 0.77563182\n",
            " 0.753195   0.76645312 0.7715524  0.75727442 0.75523471 0.77461197\n",
            " 0.77767153 0.78277081 0.78277081 0.79296936 0.79602893 0.79194951\n",
            " 0.79704878 0.80214806 0.81846575 0.82254517 0.81642604 0.81846575\n",
            " 0.81846575 0.81336647 0.80622748 0.81540618 0.80520763 0.80545032\n",
            " 0.80711156 0.80875909 0.81042969]\n",
            "4 day output [0.81209034]\n",
            "5 day input [0.92657041 0.89087548 0.8949549  0.89699461 0.9041336  0.91229244\n",
            " 0.92861012 0.8949549  0.89903432 0.90719316 0.91331229 0.92045128\n",
            " 0.90311374 0.90719316 0.90923287 0.88781591 0.85212097 0.85722025\n",
            " 0.85008126 0.84906141 0.8470217  0.71648021 0.68792426 0.69098383\n",
            " 0.67976542 0.70730151 0.70322209 0.71851992 0.71953978 0.74707587\n",
            " 0.73993688 0.76441341 0.76033399 0.77665168 0.79092965 0.75625457\n",
            " 0.76747298 0.76339356 0.75931414 0.77563182 0.77461197 0.77461197\n",
            " 0.7715524  0.7807311  0.77563182 0.74809573 0.77563182 0.753195\n",
            " 0.76645312 0.7715524  0.75727442 0.75523471 0.77461197 0.77767153\n",
            " 0.78277081 0.78277081 0.79296936 0.79602893 0.79194951 0.79704878\n",
            " 0.80214806 0.81846575 0.82254517 0.81642604 0.81846575 0.81846575\n",
            " 0.81336647 0.80622748 0.81540618 0.80520763 0.80545032 0.80711156\n",
            " 0.80875909 0.81042969 0.81209034]\n",
            "5 day output [0.813698]\n",
            "6 day input [0.89087548 0.8949549  0.89699461 0.9041336  0.91229244 0.92861012\n",
            " 0.8949549  0.89903432 0.90719316 0.91331229 0.92045128 0.90311374\n",
            " 0.90719316 0.90923287 0.88781591 0.85212097 0.85722025 0.85008126\n",
            " 0.84906141 0.8470217  0.71648021 0.68792426 0.69098383 0.67976542\n",
            " 0.70730151 0.70322209 0.71851992 0.71953978 0.74707587 0.73993688\n",
            " 0.76441341 0.76033399 0.77665168 0.79092965 0.75625457 0.76747298\n",
            " 0.76339356 0.75931414 0.77563182 0.77461197 0.77461197 0.7715524\n",
            " 0.7807311  0.77563182 0.74809573 0.77563182 0.753195   0.76645312\n",
            " 0.7715524  0.75727442 0.75523471 0.77461197 0.77767153 0.78277081\n",
            " 0.78277081 0.79296936 0.79602893 0.79194951 0.79704878 0.80214806\n",
            " 0.81846575 0.82254517 0.81642604 0.81846575 0.81846575 0.81336647\n",
            " 0.80622748 0.81540618 0.80520763 0.80545032 0.80711156 0.80875909\n",
            " 0.81042969 0.81209034 0.81369799]\n",
            "6 day output [0.8152232]\n",
            "7 day input [0.8949549  0.89699461 0.9041336  0.91229244 0.92861012 0.8949549\n",
            " 0.89903432 0.90719316 0.91331229 0.92045128 0.90311374 0.90719316\n",
            " 0.90923287 0.88781591 0.85212097 0.85722025 0.85008126 0.84906141\n",
            " 0.8470217  0.71648021 0.68792426 0.69098383 0.67976542 0.70730151\n",
            " 0.70322209 0.71851992 0.71953978 0.74707587 0.73993688 0.76441341\n",
            " 0.76033399 0.77665168 0.79092965 0.75625457 0.76747298 0.76339356\n",
            " 0.75931414 0.77563182 0.77461197 0.77461197 0.7715524  0.7807311\n",
            " 0.77563182 0.74809573 0.77563182 0.753195   0.76645312 0.7715524\n",
            " 0.75727442 0.75523471 0.77461197 0.77767153 0.78277081 0.78277081\n",
            " 0.79296936 0.79602893 0.79194951 0.79704878 0.80214806 0.81846575\n",
            " 0.82254517 0.81642604 0.81846575 0.81846575 0.81336647 0.80622748\n",
            " 0.81540618 0.80520763 0.80545032 0.80711156 0.80875909 0.81042969\n",
            " 0.81209034 0.81369799 0.81522322]\n",
            "7 day output [0.8166501]\n",
            "8 day input [0.89699461 0.9041336  0.91229244 0.92861012 0.8949549  0.89903432\n",
            " 0.90719316 0.91331229 0.92045128 0.90311374 0.90719316 0.90923287\n",
            " 0.88781591 0.85212097 0.85722025 0.85008126 0.84906141 0.8470217\n",
            " 0.71648021 0.68792426 0.69098383 0.67976542 0.70730151 0.70322209\n",
            " 0.71851992 0.71953978 0.74707587 0.73993688 0.76441341 0.76033399\n",
            " 0.77665168 0.79092965 0.75625457 0.76747298 0.76339356 0.75931414\n",
            " 0.77563182 0.77461197 0.77461197 0.7715524  0.7807311  0.77563182\n",
            " 0.74809573 0.77563182 0.753195   0.76645312 0.7715524  0.75727442\n",
            " 0.75523471 0.77461197 0.77767153 0.78277081 0.78277081 0.79296936\n",
            " 0.79602893 0.79194951 0.79704878 0.80214806 0.81846575 0.82254517\n",
            " 0.81642604 0.81846575 0.81846575 0.81336647 0.80622748 0.81540618\n",
            " 0.80520763 0.80545032 0.80711156 0.80875909 0.81042969 0.81209034\n",
            " 0.81369799 0.81522322 0.81665009]\n",
            "8 day output [0.8179763]\n",
            "9 day input [0.9041336  0.91229244 0.92861012 0.8949549  0.89903432 0.90719316\n",
            " 0.91331229 0.92045128 0.90311374 0.90719316 0.90923287 0.88781591\n",
            " 0.85212097 0.85722025 0.85008126 0.84906141 0.8470217  0.71648021\n",
            " 0.68792426 0.69098383 0.67976542 0.70730151 0.70322209 0.71851992\n",
            " 0.71953978 0.74707587 0.73993688 0.76441341 0.76033399 0.77665168\n",
            " 0.79092965 0.75625457 0.76747298 0.76339356 0.75931414 0.77563182\n",
            " 0.77461197 0.77461197 0.7715524  0.7807311  0.77563182 0.74809573\n",
            " 0.77563182 0.753195   0.76645312 0.7715524  0.75727442 0.75523471\n",
            " 0.77461197 0.77767153 0.78277081 0.78277081 0.79296936 0.79602893\n",
            " 0.79194951 0.79704878 0.80214806 0.81846575 0.82254517 0.81642604\n",
            " 0.81846575 0.81846575 0.81336647 0.80622748 0.81540618 0.80520763\n",
            " 0.80545032 0.80711156 0.80875909 0.81042969 0.81209034 0.81369799\n",
            " 0.81522322 0.81665009 0.8179763 ]\n",
            "9 day output [0.81920874]\n",
            "10 day input [0.91229244 0.92861012 0.8949549  0.89903432 0.90719316 0.91331229\n",
            " 0.92045128 0.90311374 0.90719316 0.90923287 0.88781591 0.85212097\n",
            " 0.85722025 0.85008126 0.84906141 0.8470217  0.71648021 0.68792426\n",
            " 0.69098383 0.67976542 0.70730151 0.70322209 0.71851992 0.71953978\n",
            " 0.74707587 0.73993688 0.76441341 0.76033399 0.77665168 0.79092965\n",
            " 0.75625457 0.76747298 0.76339356 0.75931414 0.77563182 0.77461197\n",
            " 0.77461197 0.7715524  0.7807311  0.77563182 0.74809573 0.77563182\n",
            " 0.753195   0.76645312 0.7715524  0.75727442 0.75523471 0.77461197\n",
            " 0.77767153 0.78277081 0.78277081 0.79296936 0.79602893 0.79194951\n",
            " 0.79704878 0.80214806 0.81846575 0.82254517 0.81642604 0.81846575\n",
            " 0.81846575 0.81336647 0.80622748 0.81540618 0.80520763 0.80545032\n",
            " 0.80711156 0.80875909 0.81042969 0.81209034 0.81369799 0.81522322\n",
            " 0.81665009 0.8179763  0.81920874]\n",
            "10 day output [0.8203613]\n",
            "11 day input [0.92861012 0.8949549  0.89903432 0.90719316 0.91331229 0.92045128\n",
            " 0.90311374 0.90719316 0.90923287 0.88781591 0.85212097 0.85722025\n",
            " 0.85008126 0.84906141 0.8470217  0.71648021 0.68792426 0.69098383\n",
            " 0.67976542 0.70730151 0.70322209 0.71851992 0.71953978 0.74707587\n",
            " 0.73993688 0.76441341 0.76033399 0.77665168 0.79092965 0.75625457\n",
            " 0.76747298 0.76339356 0.75931414 0.77563182 0.77461197 0.77461197\n",
            " 0.7715524  0.7807311  0.77563182 0.74809573 0.77563182 0.753195\n",
            " 0.76645312 0.7715524  0.75727442 0.75523471 0.77461197 0.77767153\n",
            " 0.78277081 0.78277081 0.79296936 0.79602893 0.79194951 0.79704878\n",
            " 0.80214806 0.81846575 0.82254517 0.81642604 0.81846575 0.81846575\n",
            " 0.81336647 0.80622748 0.81540618 0.80520763 0.80545032 0.80711156\n",
            " 0.80875909 0.81042969 0.81209034 0.81369799 0.81522322 0.81665009\n",
            " 0.8179763  0.81920874 0.82036132]\n",
            "11 day output [0.82145077]\n",
            "12 day input [0.8949549  0.89903432 0.90719316 0.91331229 0.92045128 0.90311374\n",
            " 0.90719316 0.90923287 0.88781591 0.85212097 0.85722025 0.85008126\n",
            " 0.84906141 0.8470217  0.71648021 0.68792426 0.69098383 0.67976542\n",
            " 0.70730151 0.70322209 0.71851992 0.71953978 0.74707587 0.73993688\n",
            " 0.76441341 0.76033399 0.77665168 0.79092965 0.75625457 0.76747298\n",
            " 0.76339356 0.75931414 0.77563182 0.77461197 0.77461197 0.7715524\n",
            " 0.7807311  0.77563182 0.74809573 0.77563182 0.753195   0.76645312\n",
            " 0.7715524  0.75727442 0.75523471 0.77461197 0.77767153 0.78277081\n",
            " 0.78277081 0.79296936 0.79602893 0.79194951 0.79704878 0.80214806\n",
            " 0.81846575 0.82254517 0.81642604 0.81846575 0.81846575 0.81336647\n",
            " 0.80622748 0.81540618 0.80520763 0.80545032 0.80711156 0.80875909\n",
            " 0.81042969 0.81209034 0.81369799 0.81522322 0.81665009 0.8179763\n",
            " 0.81920874 0.82036132 0.82145077]\n",
            "12 day output [0.8224937]\n",
            "13 day input [0.89903432 0.90719316 0.91331229 0.92045128 0.90311374 0.90719316\n",
            " 0.90923287 0.88781591 0.85212097 0.85722025 0.85008126 0.84906141\n",
            " 0.8470217  0.71648021 0.68792426 0.69098383 0.67976542 0.70730151\n",
            " 0.70322209 0.71851992 0.71953978 0.74707587 0.73993688 0.76441341\n",
            " 0.76033399 0.77665168 0.79092965 0.75625457 0.76747298 0.76339356\n",
            " 0.75931414 0.77563182 0.77461197 0.77461197 0.7715524  0.7807311\n",
            " 0.77563182 0.74809573 0.77563182 0.753195   0.76645312 0.7715524\n",
            " 0.75727442 0.75523471 0.77461197 0.77767153 0.78277081 0.78277081\n",
            " 0.79296936 0.79602893 0.79194951 0.79704878 0.80214806 0.81846575\n",
            " 0.82254517 0.81642604 0.81846575 0.81846575 0.81336647 0.80622748\n",
            " 0.81540618 0.80520763 0.80545032 0.80711156 0.80875909 0.81042969\n",
            " 0.81209034 0.81369799 0.81522322 0.81665009 0.8179763  0.81920874\n",
            " 0.82036132 0.82145077 0.82249367]\n",
            "13 day output [0.82350427]\n",
            "14 day input [0.90719316 0.91331229 0.92045128 0.90311374 0.90719316 0.90923287\n",
            " 0.88781591 0.85212097 0.85722025 0.85008126 0.84906141 0.8470217\n",
            " 0.71648021 0.68792426 0.69098383 0.67976542 0.70730151 0.70322209\n",
            " 0.71851992 0.71953978 0.74707587 0.73993688 0.76441341 0.76033399\n",
            " 0.77665168 0.79092965 0.75625457 0.76747298 0.76339356 0.75931414\n",
            " 0.77563182 0.77461197 0.77461197 0.7715524  0.7807311  0.77563182\n",
            " 0.74809573 0.77563182 0.753195   0.76645312 0.7715524  0.75727442\n",
            " 0.75523471 0.77461197 0.77767153 0.78277081 0.78277081 0.79296936\n",
            " 0.79602893 0.79194951 0.79704878 0.80214806 0.81846575 0.82254517\n",
            " 0.81642604 0.81846575 0.81846575 0.81336647 0.80622748 0.81540618\n",
            " 0.80520763 0.80545032 0.80711156 0.80875909 0.81042969 0.81209034\n",
            " 0.81369799 0.81522322 0.81665009 0.8179763  0.81920874 0.82036132\n",
            " 0.82145077 0.82249367 0.82350427]\n",
            "14 day output [0.8244935]\n",
            "15 day input [0.91331229 0.92045128 0.90311374 0.90719316 0.90923287 0.88781591\n",
            " 0.85212097 0.85722025 0.85008126 0.84906141 0.8470217  0.71648021\n",
            " 0.68792426 0.69098383 0.67976542 0.70730151 0.70322209 0.71851992\n",
            " 0.71953978 0.74707587 0.73993688 0.76441341 0.76033399 0.77665168\n",
            " 0.79092965 0.75625457 0.76747298 0.76339356 0.75931414 0.77563182\n",
            " 0.77461197 0.77461197 0.7715524  0.7807311  0.77563182 0.74809573\n",
            " 0.77563182 0.753195   0.76645312 0.7715524  0.75727442 0.75523471\n",
            " 0.77461197 0.77767153 0.78277081 0.78277081 0.79296936 0.79602893\n",
            " 0.79194951 0.79704878 0.80214806 0.81846575 0.82254517 0.81642604\n",
            " 0.81846575 0.81846575 0.81336647 0.80622748 0.81540618 0.80520763\n",
            " 0.80545032 0.80711156 0.80875909 0.81042969 0.81209034 0.81369799\n",
            " 0.81522322 0.81665009 0.8179763  0.81920874 0.82036132 0.82145077\n",
            " 0.82249367 0.82350427 0.82449353]\n",
            "15 day output [0.82546914]\n",
            "16 day input [0.92045128 0.90311374 0.90719316 0.90923287 0.88781591 0.85212097\n",
            " 0.85722025 0.85008126 0.84906141 0.8470217  0.71648021 0.68792426\n",
            " 0.69098383 0.67976542 0.70730151 0.70322209 0.71851992 0.71953978\n",
            " 0.74707587 0.73993688 0.76441341 0.76033399 0.77665168 0.79092965\n",
            " 0.75625457 0.76747298 0.76339356 0.75931414 0.77563182 0.77461197\n",
            " 0.77461197 0.7715524  0.7807311  0.77563182 0.74809573 0.77563182\n",
            " 0.753195   0.76645312 0.7715524  0.75727442 0.75523471 0.77461197\n",
            " 0.77767153 0.78277081 0.78277081 0.79296936 0.79602893 0.79194951\n",
            " 0.79704878 0.80214806 0.81846575 0.82254517 0.81642604 0.81846575\n",
            " 0.81846575 0.81336647 0.80622748 0.81540618 0.80520763 0.80545032\n",
            " 0.80711156 0.80875909 0.81042969 0.81209034 0.81369799 0.81522322\n",
            " 0.81665009 0.8179763  0.81920874 0.82036132 0.82145077 0.82249367\n",
            " 0.82350427 0.82449353 0.82546914]\n",
            "16 day output [0.8264351]\n",
            "17 day input [0.90311374 0.90719316 0.90923287 0.88781591 0.85212097 0.85722025\n",
            " 0.85008126 0.84906141 0.8470217  0.71648021 0.68792426 0.69098383\n",
            " 0.67976542 0.70730151 0.70322209 0.71851992 0.71953978 0.74707587\n",
            " 0.73993688 0.76441341 0.76033399 0.77665168 0.79092965 0.75625457\n",
            " 0.76747298 0.76339356 0.75931414 0.77563182 0.77461197 0.77461197\n",
            " 0.7715524  0.7807311  0.77563182 0.74809573 0.77563182 0.753195\n",
            " 0.76645312 0.7715524  0.75727442 0.75523471 0.77461197 0.77767153\n",
            " 0.78277081 0.78277081 0.79296936 0.79602893 0.79194951 0.79704878\n",
            " 0.80214806 0.81846575 0.82254517 0.81642604 0.81846575 0.81846575\n",
            " 0.81336647 0.80622748 0.81540618 0.80520763 0.80545032 0.80711156\n",
            " 0.80875909 0.81042969 0.81209034 0.81369799 0.81522322 0.81665009\n",
            " 0.8179763  0.81920874 0.82036132 0.82145077 0.82249367 0.82350427\n",
            " 0.82449353 0.82546914 0.82643509]\n",
            "17 day output [0.8273932]\n",
            "18 day input [0.90719316 0.90923287 0.88781591 0.85212097 0.85722025 0.85008126\n",
            " 0.84906141 0.8470217  0.71648021 0.68792426 0.69098383 0.67976542\n",
            " 0.70730151 0.70322209 0.71851992 0.71953978 0.74707587 0.73993688\n",
            " 0.76441341 0.76033399 0.77665168 0.79092965 0.75625457 0.76747298\n",
            " 0.76339356 0.75931414 0.77563182 0.77461197 0.77461197 0.7715524\n",
            " 0.7807311  0.77563182 0.74809573 0.77563182 0.753195   0.76645312\n",
            " 0.7715524  0.75727442 0.75523471 0.77461197 0.77767153 0.78277081\n",
            " 0.78277081 0.79296936 0.79602893 0.79194951 0.79704878 0.80214806\n",
            " 0.81846575 0.82254517 0.81642604 0.81846575 0.81846575 0.81336647\n",
            " 0.80622748 0.81540618 0.80520763 0.80545032 0.80711156 0.80875909\n",
            " 0.81042969 0.81209034 0.81369799 0.81522322 0.81665009 0.8179763\n",
            " 0.81920874 0.82036132 0.82145077 0.82249367 0.82350427 0.82449353\n",
            " 0.82546914 0.82643509 0.82739317]\n",
            "18 day output [0.8283432]\n",
            "19 day input [0.90923287 0.88781591 0.85212097 0.85722025 0.85008126 0.84906141\n",
            " 0.8470217  0.71648021 0.68792426 0.69098383 0.67976542 0.70730151\n",
            " 0.70322209 0.71851992 0.71953978 0.74707587 0.73993688 0.76441341\n",
            " 0.76033399 0.77665168 0.79092965 0.75625457 0.76747298 0.76339356\n",
            " 0.75931414 0.77563182 0.77461197 0.77461197 0.7715524  0.7807311\n",
            " 0.77563182 0.74809573 0.77563182 0.753195   0.76645312 0.7715524\n",
            " 0.75727442 0.75523471 0.77461197 0.77767153 0.78277081 0.78277081\n",
            " 0.79296936 0.79602893 0.79194951 0.79704878 0.80214806 0.81846575\n",
            " 0.82254517 0.81642604 0.81846575 0.81846575 0.81336647 0.80622748\n",
            " 0.81540618 0.80520763 0.80545032 0.80711156 0.80875909 0.81042969\n",
            " 0.81209034 0.81369799 0.81522322 0.81665009 0.8179763  0.81920874\n",
            " 0.82036132 0.82145077 0.82249367 0.82350427 0.82449353 0.82546914\n",
            " 0.82643509 0.82739317 0.82834321]\n",
            "19 day output [0.8292834]\n",
            "20 day input [0.88781591 0.85212097 0.85722025 0.85008126 0.84906141 0.8470217\n",
            " 0.71648021 0.68792426 0.69098383 0.67976542 0.70730151 0.70322209\n",
            " 0.71851992 0.71953978 0.74707587 0.73993688 0.76441341 0.76033399\n",
            " 0.77665168 0.79092965 0.75625457 0.76747298 0.76339356 0.75931414\n",
            " 0.77563182 0.77461197 0.77461197 0.7715524  0.7807311  0.77563182\n",
            " 0.74809573 0.77563182 0.753195   0.76645312 0.7715524  0.75727442\n",
            " 0.75523471 0.77461197 0.77767153 0.78277081 0.78277081 0.79296936\n",
            " 0.79602893 0.79194951 0.79704878 0.80214806 0.81846575 0.82254517\n",
            " 0.81642604 0.81846575 0.81846575 0.81336647 0.80622748 0.81540618\n",
            " 0.80520763 0.80545032 0.80711156 0.80875909 0.81042969 0.81209034\n",
            " 0.81369799 0.81522322 0.81665009 0.8179763  0.81920874 0.82036132\n",
            " 0.82145077 0.82249367 0.82350427 0.82449353 0.82546914 0.82643509\n",
            " 0.82739317 0.82834321 0.82928342]\n",
            "20 day output [0.8302122]\n",
            "21 day input [0.85212097 0.85722025 0.85008126 0.84906141 0.8470217  0.71648021\n",
            " 0.68792426 0.69098383 0.67976542 0.70730151 0.70322209 0.71851992\n",
            " 0.71953978 0.74707587 0.73993688 0.76441341 0.76033399 0.77665168\n",
            " 0.79092965 0.75625457 0.76747298 0.76339356 0.75931414 0.77563182\n",
            " 0.77461197 0.77461197 0.7715524  0.7807311  0.77563182 0.74809573\n",
            " 0.77563182 0.753195   0.76645312 0.7715524  0.75727442 0.75523471\n",
            " 0.77461197 0.77767153 0.78277081 0.78277081 0.79296936 0.79602893\n",
            " 0.79194951 0.79704878 0.80214806 0.81846575 0.82254517 0.81642604\n",
            " 0.81846575 0.81846575 0.81336647 0.80622748 0.81540618 0.80520763\n",
            " 0.80545032 0.80711156 0.80875909 0.81042969 0.81209034 0.81369799\n",
            " 0.81522322 0.81665009 0.8179763  0.81920874 0.82036132 0.82145077\n",
            " 0.82249367 0.82350427 0.82449353 0.82546914 0.82643509 0.82739317\n",
            " 0.82834321 0.82928342 0.83021218]\n",
            "21 day output [0.8311272]\n",
            "22 day input [0.85722025 0.85008126 0.84906141 0.8470217  0.71648021 0.68792426\n",
            " 0.69098383 0.67976542 0.70730151 0.70322209 0.71851992 0.71953978\n",
            " 0.74707587 0.73993688 0.76441341 0.76033399 0.77665168 0.79092965\n",
            " 0.75625457 0.76747298 0.76339356 0.75931414 0.77563182 0.77461197\n",
            " 0.77461197 0.7715524  0.7807311  0.77563182 0.74809573 0.77563182\n",
            " 0.753195   0.76645312 0.7715524  0.75727442 0.75523471 0.77461197\n",
            " 0.77767153 0.78277081 0.78277081 0.79296936 0.79602893 0.79194951\n",
            " 0.79704878 0.80214806 0.81846575 0.82254517 0.81642604 0.81846575\n",
            " 0.81846575 0.81336647 0.80622748 0.81540618 0.80520763 0.80545032\n",
            " 0.80711156 0.80875909 0.81042969 0.81209034 0.81369799 0.81522322\n",
            " 0.81665009 0.8179763  0.81920874 0.82036132 0.82145077 0.82249367\n",
            " 0.82350427 0.82449353 0.82546914 0.82643509 0.82739317 0.82834321\n",
            " 0.82928342 0.83021218 0.83112723]\n",
            "22 day output [0.8320269]\n",
            "23 day input [0.85008126 0.84906141 0.8470217  0.71648021 0.68792426 0.69098383\n",
            " 0.67976542 0.70730151 0.70322209 0.71851992 0.71953978 0.74707587\n",
            " 0.73993688 0.76441341 0.76033399 0.77665168 0.79092965 0.75625457\n",
            " 0.76747298 0.76339356 0.75931414 0.77563182 0.77461197 0.77461197\n",
            " 0.7715524  0.7807311  0.77563182 0.74809573 0.77563182 0.753195\n",
            " 0.76645312 0.7715524  0.75727442 0.75523471 0.77461197 0.77767153\n",
            " 0.78277081 0.78277081 0.79296936 0.79602893 0.79194951 0.79704878\n",
            " 0.80214806 0.81846575 0.82254517 0.81642604 0.81846575 0.81846575\n",
            " 0.81336647 0.80622748 0.81540618 0.80520763 0.80545032 0.80711156\n",
            " 0.80875909 0.81042969 0.81209034 0.81369799 0.81522322 0.81665009\n",
            " 0.8179763  0.81920874 0.82036132 0.82145077 0.82249367 0.82350427\n",
            " 0.82449353 0.82546914 0.82643509 0.82739317 0.82834321 0.82928342\n",
            " 0.83021218 0.83112723 0.8320269 ]\n",
            "23 day output [0.83290976]\n",
            "24 day input [0.84906141 0.8470217  0.71648021 0.68792426 0.69098383 0.67976542\n",
            " 0.70730151 0.70322209 0.71851992 0.71953978 0.74707587 0.73993688\n",
            " 0.76441341 0.76033399 0.77665168 0.79092965 0.75625457 0.76747298\n",
            " 0.76339356 0.75931414 0.77563182 0.77461197 0.77461197 0.7715524\n",
            " 0.7807311  0.77563182 0.74809573 0.77563182 0.753195   0.76645312\n",
            " 0.7715524  0.75727442 0.75523471 0.77461197 0.77767153 0.78277081\n",
            " 0.78277081 0.79296936 0.79602893 0.79194951 0.79704878 0.80214806\n",
            " 0.81846575 0.82254517 0.81642604 0.81846575 0.81846575 0.81336647\n",
            " 0.80622748 0.81540618 0.80520763 0.80545032 0.80711156 0.80875909\n",
            " 0.81042969 0.81209034 0.81369799 0.81522322 0.81665009 0.8179763\n",
            " 0.81920874 0.82036132 0.82145077 0.82249367 0.82350427 0.82449353\n",
            " 0.82546914 0.82643509 0.82739317 0.82834321 0.82928342 0.83021218\n",
            " 0.83112723 0.8320269  0.83290976]\n",
            "24 day output [0.8337751]\n",
            "25 day input [0.8470217  0.71648021 0.68792426 0.69098383 0.67976542 0.70730151\n",
            " 0.70322209 0.71851992 0.71953978 0.74707587 0.73993688 0.76441341\n",
            " 0.76033399 0.77665168 0.79092965 0.75625457 0.76747298 0.76339356\n",
            " 0.75931414 0.77563182 0.77461197 0.77461197 0.7715524  0.7807311\n",
            " 0.77563182 0.74809573 0.77563182 0.753195   0.76645312 0.7715524\n",
            " 0.75727442 0.75523471 0.77461197 0.77767153 0.78277081 0.78277081\n",
            " 0.79296936 0.79602893 0.79194951 0.79704878 0.80214806 0.81846575\n",
            " 0.82254517 0.81642604 0.81846575 0.81846575 0.81336647 0.80622748\n",
            " 0.81540618 0.80520763 0.80545032 0.80711156 0.80875909 0.81042969\n",
            " 0.81209034 0.81369799 0.81522322 0.81665009 0.8179763  0.81920874\n",
            " 0.82036132 0.82145077 0.82249367 0.82350427 0.82449353 0.82546914\n",
            " 0.82643509 0.82739317 0.82834321 0.82928342 0.83021218 0.83112723\n",
            " 0.8320269  0.83290976 0.8337751 ]\n",
            "25 day output [0.83462226]\n",
            "26 day input [0.71648021 0.68792426 0.69098383 0.67976542 0.70730151 0.70322209\n",
            " 0.71851992 0.71953978 0.74707587 0.73993688 0.76441341 0.76033399\n",
            " 0.77665168 0.79092965 0.75625457 0.76747298 0.76339356 0.75931414\n",
            " 0.77563182 0.77461197 0.77461197 0.7715524  0.7807311  0.77563182\n",
            " 0.74809573 0.77563182 0.753195   0.76645312 0.7715524  0.75727442\n",
            " 0.75523471 0.77461197 0.77767153 0.78277081 0.78277081 0.79296936\n",
            " 0.79602893 0.79194951 0.79704878 0.80214806 0.81846575 0.82254517\n",
            " 0.81642604 0.81846575 0.81846575 0.81336647 0.80622748 0.81540618\n",
            " 0.80520763 0.80545032 0.80711156 0.80875909 0.81042969 0.81209034\n",
            " 0.81369799 0.81522322 0.81665009 0.8179763  0.81920874 0.82036132\n",
            " 0.82145077 0.82249367 0.82350427 0.82449353 0.82546914 0.82643509\n",
            " 0.82739317 0.82834321 0.82928342 0.83021218 0.83112723 0.8320269\n",
            " 0.83290976 0.8337751  0.83462226]\n",
            "26 day output [0.8354516]\n",
            "27 day input [0.68792426 0.69098383 0.67976542 0.70730151 0.70322209 0.71851992\n",
            " 0.71953978 0.74707587 0.73993688 0.76441341 0.76033399 0.77665168\n",
            " 0.79092965 0.75625457 0.76747298 0.76339356 0.75931414 0.77563182\n",
            " 0.77461197 0.77461197 0.7715524  0.7807311  0.77563182 0.74809573\n",
            " 0.77563182 0.753195   0.76645312 0.7715524  0.75727442 0.75523471\n",
            " 0.77461197 0.77767153 0.78277081 0.78277081 0.79296936 0.79602893\n",
            " 0.79194951 0.79704878 0.80214806 0.81846575 0.82254517 0.81642604\n",
            " 0.81846575 0.81846575 0.81336647 0.80622748 0.81540618 0.80520763\n",
            " 0.80545032 0.80711156 0.80875909 0.81042969 0.81209034 0.81369799\n",
            " 0.81522322 0.81665009 0.8179763  0.81920874 0.82036132 0.82145077\n",
            " 0.82249367 0.82350427 0.82449353 0.82546914 0.82643509 0.82739317\n",
            " 0.82834321 0.82928342 0.83021218 0.83112723 0.8320269  0.83290976\n",
            " 0.8337751  0.83462226 0.8354516 ]\n",
            "27 day output [0.83626306]\n",
            "28 day input [0.69098383 0.67976542 0.70730151 0.70322209 0.71851992 0.71953978\n",
            " 0.74707587 0.73993688 0.76441341 0.76033399 0.77665168 0.79092965\n",
            " 0.75625457 0.76747298 0.76339356 0.75931414 0.77563182 0.77461197\n",
            " 0.77461197 0.7715524  0.7807311  0.77563182 0.74809573 0.77563182\n",
            " 0.753195   0.76645312 0.7715524  0.75727442 0.75523471 0.77461197\n",
            " 0.77767153 0.78277081 0.78277081 0.79296936 0.79602893 0.79194951\n",
            " 0.79704878 0.80214806 0.81846575 0.82254517 0.81642604 0.81846575\n",
            " 0.81846575 0.81336647 0.80622748 0.81540618 0.80520763 0.80545032\n",
            " 0.80711156 0.80875909 0.81042969 0.81209034 0.81369799 0.81522322\n",
            " 0.81665009 0.8179763  0.81920874 0.82036132 0.82145077 0.82249367\n",
            " 0.82350427 0.82449353 0.82546914 0.82643509 0.82739317 0.82834321\n",
            " 0.82928342 0.83021218 0.83112723 0.8320269  0.83290976 0.8337751\n",
            " 0.83462226 0.8354516  0.83626306]\n",
            "28 day output [0.83705705]\n",
            "29 day input [0.67976542 0.70730151 0.70322209 0.71851992 0.71953978 0.74707587\n",
            " 0.73993688 0.76441341 0.76033399 0.77665168 0.79092965 0.75625457\n",
            " 0.76747298 0.76339356 0.75931414 0.77563182 0.77461197 0.77461197\n",
            " 0.7715524  0.7807311  0.77563182 0.74809573 0.77563182 0.753195\n",
            " 0.76645312 0.7715524  0.75727442 0.75523471 0.77461197 0.77767153\n",
            " 0.78277081 0.78277081 0.79296936 0.79602893 0.79194951 0.79704878\n",
            " 0.80214806 0.81846575 0.82254517 0.81642604 0.81846575 0.81846575\n",
            " 0.81336647 0.80622748 0.81540618 0.80520763 0.80545032 0.80711156\n",
            " 0.80875909 0.81042969 0.81209034 0.81369799 0.81522322 0.81665009\n",
            " 0.8179763  0.81920874 0.82036132 0.82145077 0.82249367 0.82350427\n",
            " 0.82449353 0.82546914 0.82643509 0.82739317 0.82834321 0.82928342\n",
            " 0.83021218 0.83112723 0.8320269  0.83290976 0.8337751  0.83462226\n",
            " 0.8354516  0.83626306 0.83705705]\n",
            "29 day output [0.83783424]\n",
            "The outputs are:  [[0.8054503202438354], [0.8071115612983704], [0.8087590932846069], [0.8104296922683716], [0.8120903372764587], [0.8136979937553406], [0.815223217010498], [0.8166500926017761], [0.8179762959480286], [0.8192087411880493], [0.820361316204071], [0.8214507699012756], [0.8224936723709106], [0.8235042691230774], [0.8244935274124146], [0.8254691362380981], [0.8264350891113281], [0.8273931741714478], [0.8283432126045227], [0.8292834162712097], [0.8302121758460999], [0.8311272263526917], [0.8320268988609314], [0.8329097628593445], [0.8337751030921936], [0.8346222639083862], [0.835451602935791], [0.8362630605697632], [0.8370570540428162], [0.8378342390060425]]\n"
          ],
          "name": "stdout"
        }
      ]
    },
    {
      "cell_type": "code",
      "metadata": {
        "id": "jYCY125Gbb4B"
      },
      "source": [
        "# just taking days to represent in graph\n",
        "\n",
        "day_new = np.arange(1,76)      # from test data previous 75 days\n",
        "day_pred = np.arange(76,106)   # predicted future 30 days"
      ],
      "execution_count": null,
      "outputs": []
    },
    {
      "cell_type": "code",
      "metadata": {
        "colab": {
          "base_uri": "https://localhost:8080/"
        },
        "id": "-wVBNYYxbb7g",
        "outputId": "109b64d5-bc77-4761-ea29-89adb4820a90"
      },
      "source": [
        "len(df)"
      ],
      "execution_count": null,
      "outputs": [
        {
          "output_type": "execute_result",
          "data": {
            "text/plain": [
              "4026"
            ]
          },
          "metadata": {
            "tags": []
          },
          "execution_count": 71
        }
      ]
    },
    {
      "cell_type": "code",
      "metadata": {
        "colab": {
          "base_uri": "https://localhost:8080/"
        },
        "id": "5J9rGA8Y0IZI",
        "outputId": "a22ca6bf-b928-46fe-92f6-7ca242124acf"
      },
      "source": [
        "4026-75"
      ],
      "execution_count": null,
      "outputs": [
        {
          "output_type": "execute_result",
          "data": {
            "text/plain": [
              "3951"
            ]
          },
          "metadata": {
            "tags": []
          },
          "execution_count": 72
        }
      ]
    },
    {
      "cell_type": "code",
      "metadata": {
        "colab": {
          "base_uri": "https://localhost:8080/",
          "height": 297
        },
        "id": "pDmgOMpr7S9h",
        "outputId": "d8e836ee-a768-480f-ccbd-3c0df8d91989"
      },
      "source": [
        "plt.plot(day_new,scaler.inverse_transform(df[3951:]))\n",
        "plt.plot(day_pred,scaler.inverse_transform(lst_output))\n",
        "plt.title('30 days prediction')"
      ],
      "execution_count": null,
      "outputs": [
        {
          "output_type": "execute_result",
          "data": {
            "text/plain": [
              "Text(0.5, 1.0, '30 days prediction')"
            ]
          },
          "metadata": {
            "tags": []
          },
          "execution_count": 73
        },
        {
          "output_type": "display_data",
          "data": {
            "image/png": "[encoded data removed]",
            "text/plain": [
              "<Figure size 576x288 with 1 Axes>"
            ]
          },
          "metadata": {
            "tags": [],
            "needs_background": "light"
          }
        }
      ]
    },
    {
      "cell_type": "code",
      "metadata": {
        "colab": {
          "base_uri": "https://localhost:8080/"
        },
        "id": "yNi_P4PX7gZ_",
        "outputId": "e899222b-e57f-475d-d91a-44e27a250bf3"
      },
      "source": [
        "df"
      ],
      "execution_count": null,
      "outputs": [
        {
          "output_type": "execute_result",
          "data": {
            "text/plain": [
              "array([[0.08550845],\n",
              "       [0.09188254],\n",
              "       [0.0888549 ],\n",
              "       ...,\n",
              "       [0.80622748],\n",
              "       [0.81540618],\n",
              "       [0.80520763]])"
            ]
          },
          "metadata": {
            "tags": []
          },
          "execution_count": 74
        }
      ]
    },
    {
      "cell_type": "code",
      "metadata": {
        "colab": {
          "base_uri": "https://localhost:8080/"
        },
        "id": "zZ9LCY_97nu7",
        "outputId": "72cf07a9-bed3-41db-f79a-ad3779459932"
      },
      "source": [
        "len(df)"
      ],
      "execution_count": null,
      "outputs": [
        {
          "output_type": "execute_result",
          "data": {
            "text/plain": [
              "4026"
            ]
          },
          "metadata": {
            "tags": []
          },
          "execution_count": 75
        }
      ]
    },
    {
      "cell_type": "code",
      "metadata": {
        "colab": {
          "base_uri": "https://localhost:8080/"
        },
        "id": "PYOWs8097jY6",
        "outputId": "8fd9151a-014a-4a3b-9715-f341d78e5c94"
      },
      "source": [
        "lst_output"
      ],
      "execution_count": null,
      "outputs": [
        {
          "output_type": "execute_result",
          "data": {
            "text/plain": [
              "[[0.8054503202438354],\n",
              " [0.8071115612983704],\n",
              " [0.8087590932846069],\n",
              " [0.8104296922683716],\n",
              " [0.8120903372764587],\n",
              " [0.8136979937553406],\n",
              " [0.815223217010498],\n",
              " [0.8166500926017761],\n",
              " [0.8179762959480286],\n",
              " [0.8192087411880493],\n",
              " [0.820361316204071],\n",
              " [0.8214507699012756],\n",
              " [0.8224936723709106],\n",
              " [0.8235042691230774],\n",
              " [0.8244935274124146],\n",
              " [0.8254691362380981],\n",
              " [0.8264350891113281],\n",
              " [0.8273931741714478],\n",
              " [0.8283432126045227],\n",
              " [0.8292834162712097],\n",
              " [0.8302121758460999],\n",
              " [0.8311272263526917],\n",
              " [0.8320268988609314],\n",
              " [0.8329097628593445],\n",
              " [0.8337751030921936],\n",
              " [0.8346222639083862],\n",
              " [0.835451602935791],\n",
              " [0.8362630605697632],\n",
              " [0.8370570540428162],\n",
              " [0.8378342390060425]]"
            ]
          },
          "metadata": {
            "tags": []
          },
          "execution_count": 76
        }
      ]
    },
    {
      "cell_type": "code",
      "metadata": {
        "id": "0okCRVwIbcCB",
        "colab": {
          "base_uri": "https://localhost:8080/"
        },
        "outputId": "260ce3ac-2fa2-4a7b-fc9b-dc3b2504898c"
      },
      "source": [
        "df3 = df.tolist()\n",
        "df3.extend(lst_output)\n",
        "len(df3)"
      ],
      "execution_count": null,
      "outputs": [
        {
          "output_type": "execute_result",
          "data": {
            "text/plain": [
              "4056"
            ]
          },
          "metadata": {
            "tags": []
          },
          "execution_count": 77
        }
      ]
    },
    {
      "cell_type": "code",
      "metadata": {
        "colab": {
          "base_uri": "https://localhost:8080/"
        },
        "id": "DrB9X87HE6v9",
        "outputId": "acb28a3d-7a11-4cf4-e9c7-2f03f2f80ea2"
      },
      "source": [
        "df3[3800:]"
      ],
      "execution_count": null,
      "outputs": [
        {
          "output_type": "execute_result",
          "data": {
            "text/plain": [
              "[[0.8755776460759229],\n",
              " [0.8765975014359563],\n",
              " [0.8725180799958226],\n",
              " [0.8674188031956555],\n",
              " [0.870478369275756],\n",
              " [0.8663989478356221],\n",
              " [0.8663989478356221],\n",
              " [0.8449819852749204],\n",
              " [0.8602798156754216],\n",
              " [0.8449819852749204],\n",
              " [0.8531408281551879],\n",
              " [0.8714982246357893],\n",
              " [0.8633393817555218],\n",
              " [0.8602798156754216],\n",
              " [0.8623195263954885],\n",
              " [0.8745577907158896],\n",
              " [0.8623195263954885],\n",
              " [0.8674188031956555],\n",
              " [0.8612996710354551],\n",
              " [0.8388628531147199],\n",
              " [0.8368231423946532],\n",
              " [0.8449819852749204],\n",
              " [0.8419224191948201],\n",
              " [0.8449819852749204],\n",
              " [0.8500812620750874],\n",
              " [0.8602798156754216],\n",
              " [0.8623195263954885],\n",
              " [0.8806769228760901],\n",
              " [0.8847563443162235],\n",
              " [0.8969946086366248],\n",
              " [0.8786372121560232],\n",
              " [0.8725180799958226],\n",
              " [0.8725180799958226],\n",
              " [0.8633393817555218],\n",
              " [0.8786372121560232],\n",
              " [0.8837364889561902],\n",
              " [0.9000541747167249],\n",
              " [0.9092328729570257],\n",
              " [0.9112725836770924],\n",
              " [0.8980144639966582],\n",
              " [0.9235108479974937],\n",
              " [0.9224909926374601],\n",
              " [0.9061733068769254],\n",
              " [0.8990343193566915],\n",
              " [0.887815910396324],\n",
              " [0.8449819852749204],\n",
              " [0.8470216959949871],\n",
              " [0.8266245887943188],\n",
              " [0.8307040102344526],\n",
              " [0.8286642995143857],\n",
              " [0.834783431674586],\n",
              " [0.8429422745548535],\n",
              " [0.8480415513550207],\n",
              " [0.8419224191948201],\n",
              " [0.8551805388752546],\n",
              " [0.8653790924755888],\n",
              " [0.8663989478356221],\n",
              " [0.8674188031956555],\n",
              " [0.8470216959949871],\n",
              " [0.8225451673541851],\n",
              " [0.834783431674586],\n",
              " [0.8235650227142185],\n",
              " [0.8286642995143857],\n",
              " [0.8092870476737507],\n",
              " [0.8154061798339513],\n",
              " [0.8001083494334499],\n",
              " [0.8103069030337843],\n",
              " [0.8286642995143857],\n",
              " [0.8409025638347866],\n",
              " [0.8062274815936504],\n",
              " [0.8092870476737507],\n",
              " [0.8072473369536838],\n",
              " [0.8113267583938176],\n",
              " [0.8052076262336171],\n",
              " [0.812346613753851],\n",
              " [0.8194856012740849],\n",
              " [0.8164260351939846],\n",
              " [0.8470216959949871],\n",
              " [0.8368231423946532],\n",
              " [0.834783431674586],\n",
              " [0.8480415513550207],\n",
              " [0.8337635763145527],\n",
              " [0.8429422745548535],\n",
              " [0.8531408281551879],\n",
              " [0.868438658555689],\n",
              " [0.8745577907158896],\n",
              " [0.870478369275756],\n",
              " [0.8521209727951543],\n",
              " [0.8500812620750874],\n",
              " [0.8500812620750874],\n",
              " [0.8653790924755888],\n",
              " [0.8500812620750874],\n",
              " [0.8674188031956555],\n",
              " [0.8623195263954885],\n",
              " [0.8582401049553549],\n",
              " [0.8551805388752546],\n",
              " [0.8562003942352879],\n",
              " [0.8521209727951543],\n",
              " [0.8602798156754216],\n",
              " [0.8602798156754216],\n",
              " [0.8663989478356221],\n",
              " [0.8643592371155554],\n",
              " [0.8592599603153882],\n",
              " [0.8460018406349538],\n",
              " [0.831723865594486],\n",
              " [0.8378429977546865],\n",
              " [0.8623195263954885],\n",
              " [0.931669690877761],\n",
              " [0.9418682444780951],\n",
              " [0.9449278105581954],\n",
              " [0.9408483891180618],\n",
              " [0.9469675212782623],\n",
              " [0.9306498355177276],\n",
              " [0.9377888230379615],\n",
              " [0.9408483891180618],\n",
              " [0.9377888230379615],\n",
              " [0.9439079551981618],\n",
              " [0.9398285337580282],\n",
              " [0.9428880998381285],\n",
              " [0.9337094015978277],\n",
              " [0.9235108479974937],\n",
              " [0.917391715837293],\n",
              " [0.8990343193566915],\n",
              " [0.8806769228760901],\n",
              " [0.8908754764764243],\n",
              " [0.907193162236959],\n",
              " [0.9163718604772596],\n",
              " [0.9041335961568587],\n",
              " [0.9010740300767582],\n",
              " [0.8969946086366248],\n",
              " [0.8694585139157224],\n",
              " [0.8837364889561902],\n",
              " [0.8980144639966582],\n",
              " [0.9041335961568587],\n",
              " [0.9245307033575271],\n",
              " [0.9214711372774268],\n",
              " [0.912292439037126],\n",
              " [0.9020938854367918],\n",
              " [0.9041335961568587],\n",
              " [0.9061733068769254],\n",
              " [0.9112725836770924],\n",
              " [0.9306498355177276],\n",
              " [0.9408483891180618],\n",
              " [0.9194314265573599],\n",
              " [0.9602256409586966],\n",
              " [1.0],\n",
              " [0.9734837606391312],\n",
              " [0.9561462195185629],\n",
              " [0.954106508798496],\n",
              " [0.9500270873583624],\n",
              " [0.9602256409586966],\n",
              " [0.9694043391989974],\n",
              " [0.968384483838964],\n",
              " [0.9592057855986632],\n",
              " [0.9622653516787635],\n",
              " [0.9520667980784293],\n",
              " [0.9265704140775938],\n",
              " [0.8908754764764243],\n",
              " [0.8949548979165577],\n",
              " [0.8969946086366248],\n",
              " [0.9041335961568587],\n",
              " [0.912292439037126],\n",
              " [0.9286101247976607],\n",
              " [0.8949548979165577],\n",
              " [0.8990343193566915],\n",
              " [0.907193162236959],\n",
              " [0.9133122943971596],\n",
              " [0.9204512819173932],\n",
              " [0.9031137407968252],\n",
              " [0.907193162236959],\n",
              " [0.9092328729570257],\n",
              " [0.887815910396324],\n",
              " [0.8521209727951543],\n",
              " [0.8572202495953213],\n",
              " [0.8500812620750874],\n",
              " [0.849061406715054],\n",
              " [0.8470216959949871],\n",
              " [0.7164802099107095],\n",
              " [0.6879242598297739],\n",
              " [0.6909838259098741],\n",
              " [0.6797654169495065],\n",
              " [0.7073015116704088],\n",
              " [0.7032220902302752],\n",
              " [0.7185199206307765],\n",
              " [0.7195397759908099],\n",
              " [0.7470758707117121],\n",
              " [0.7399368831914782],\n",
              " [0.7644134118322803],\n",
              " [0.7603339903921467],\n",
              " [0.7766516761526815],\n",
              " [0.7909296511931491],\n",
              " [0.7562545689520129],\n",
              " [0.7674729779123804],\n",
              " [0.7633935564722468],\n",
              " [0.7593141350321133],\n",
              " [0.7756318207926479],\n",
              " [0.7746119654326143],\n",
              " [0.7746119654326143],\n",
              " [0.7715523993525143],\n",
              " [0.7807310975928149],\n",
              " [0.7756318207926479],\n",
              " [0.7480957260717456],\n",
              " [0.7756318207926479],\n",
              " [0.7531950028719128],\n",
              " [0.7664531225523471],\n",
              " [0.7715523993525143],\n",
              " [0.7572744243120463],\n",
              " [0.7552347135919795],\n",
              " [0.7746119654326143],\n",
              " [0.7776715315127148],\n",
              " [0.7827708083128818],\n",
              " [0.7827708083128818],\n",
              " [0.792969361913216],\n",
              " [0.7960289279933163],\n",
              " [0.7919495065531826],\n",
              " [0.7970487833533496],\n",
              " [0.8021480601535168],\n",
              " [0.8184657459140513],\n",
              " [0.8225451673541851],\n",
              " [0.8164260351939846],\n",
              " [0.8184657459140513],\n",
              " [0.8184657459140513],\n",
              " [0.8133664691138843],\n",
              " [0.8062274815936504],\n",
              " [0.8154061798339513],\n",
              " [0.8052076262336171],\n",
              " [0.8054503202438354],\n",
              " [0.8071115612983704],\n",
              " [0.8087590932846069],\n",
              " [0.8104296922683716],\n",
              " [0.8120903372764587],\n",
              " [0.8136979937553406],\n",
              " [0.815223217010498],\n",
              " [0.8166500926017761],\n",
              " [0.8179762959480286],\n",
              " [0.8192087411880493],\n",
              " [0.820361316204071],\n",
              " [0.8214507699012756],\n",
              " [0.8224936723709106],\n",
              " [0.8235042691230774],\n",
              " [0.8244935274124146],\n",
              " [0.8254691362380981],\n",
              " [0.8264350891113281],\n",
              " [0.8273931741714478],\n",
              " [0.8283432126045227],\n",
              " [0.8292834162712097],\n",
              " [0.8302121758460999],\n",
              " [0.8311272263526917],\n",
              " [0.8320268988609314],\n",
              " [0.8329097628593445],\n",
              " [0.8337751030921936],\n",
              " [0.8346222639083862],\n",
              " [0.835451602935791],\n",
              " [0.8362630605697632],\n",
              " [0.8370570540428162],\n",
              " [0.8378342390060425]]"
            ]
          },
          "metadata": {
            "tags": []
          },
          "execution_count": 78
        }
      ]
    },
    {
      "cell_type": "code",
      "metadata": {
        "colab": {
          "base_uri": "https://localhost:8080/",
          "height": 280
        },
        "id": "nFi6tihq7285",
        "outputId": "d3eb45d9-b596-477a-94de-00d7485399ef"
      },
      "source": [
        "plt.plot(df3[3800:])"
      ],
      "execution_count": null,
      "outputs": [
        {
          "output_type": "execute_result",
          "data": {
            "text/plain": [
              "[<matplotlib.lines.Line2D at 0x7fe0bbe03c10>]"
            ]
          },
          "metadata": {
            "tags": []
          },
          "execution_count": 79
        },
        {
          "output_type": "display_data",
          "data": {
            "image/png": "[encoded data removed]",
            "text/plain": [
              "<Figure size 576x288 with 1 Axes>"
            ]
          },
          "metadata": {
            "tags": [],
            "needs_background": "light"
          }
        }
      ]
    },
    {
      "cell_type": "code",
      "metadata": {
        "colab": {
          "base_uri": "https://localhost:8080/",
          "height": 280
        },
        "id": "onHMYyST8Q8m",
        "outputId": "e1a9d50a-cd8d-47d3-9dc7-eb317190e11f"
      },
      "source": [
        "df3 = scaler.inverse_transform(df3).tolist()\n",
        "plt.plot(df3)"
      ],
      "execution_count": null,
      "outputs": [
        {
          "output_type": "execute_result",
          "data": {
            "text/plain": [
              "[<matplotlib.lines.Line2D at 0x7fe0bbdf9f10>]"
            ]
          },
          "metadata": {
            "tags": []
          },
          "execution_count": 80
        },
        {
          "output_type": "display_data",
          "data": {
            "image/png": "[encoded data removed]",
            "text/plain": [
              "<Figure size 576x288 with 1 Axes>"
            ]
          },
          "metadata": {
            "tags": [],
            "needs_background": "light"
          }
        }
      ]
    },
    {
      "cell_type": "markdown",
      "metadata": {
        "id": "CxrUe5VDTEhJ"
      },
      "source": [
        "### Comparing predictions with real values of first 30 days of 2020"
      ]
    },
    {
      "cell_type": "code",
      "metadata": {
        "colab": {
          "base_uri": "https://localhost:8080/"
        },
        "id": "MUu1Lx9B8z-E",
        "outputId": "1a02bedc-ec33-4e7c-d84a-135fc8600282"
      },
      "source": [
        "!gdown https://drive.google.com/uc?id=1zUshPQmyAP7dfOgunrlFRAYNHRYq4mza"
      ],
      "execution_count": null,
      "outputs": [
        {
          "output_type": "stream",
          "text": [
            "Downloading...\n",
            "From: https://drive.google.com/uc?id=1zUshPQmyAP7dfOgunrlFRAYNHRYq4mza\n",
            "To: /content/INFY_2020.csv\n",
            "\r  0% 0.00/13.0k [00:00<?, ?B/s]\r100% 13.0k/13.0k [00:00<00:00, 20.9MB/s]\n"
          ],
          "name": "stdout"
        }
      ]
    },
    {
      "cell_type": "code",
      "metadata": {
        "colab": {
          "base_uri": "https://localhost:8080/",
          "height": 223
        },
        "id": "lTstbBLy8f9B",
        "outputId": "8db2fa5c-ea94-490a-9532-dd1f407071c8"
      },
      "source": [
        "df4 = pd.read_csv('INFY_2020.csv', index_col='Date', parse_dates=True)\n",
        "df4.head()"
      ],
      "execution_count": null,
      "outputs": [
        {
          "output_type": "execute_result",
          "data": {
            "text/html": [
              "<div>\n",
              "<style scoped>\n",
              "    .dataframe tbody tr th:only-of-type {\n",
              "        vertical-align: middle;\n",
              "    }\n",
              "\n",
              "    .dataframe tbody tr th {\n",
              "        vertical-align: top;\n",
              "    }\n",
              "\n",
              "    .dataframe thead th {\n",
              "        text-align: right;\n",
              "    }\n",
              "</style>\n",
              "<table border=\"1\" class=\"dataframe\">\n",
              "  <thead>\n",
              "    <tr style=\"text-align: right;\">\n",
              "      <th></th>\n",
              "      <th>Open</th>\n",
              "      <th>High</th>\n",
              "      <th>Low</th>\n",
              "      <th>Close</th>\n",
              "      <th>Adj Close</th>\n",
              "      <th>Volume</th>\n",
              "    </tr>\n",
              "    <tr>\n",
              "      <th>Date</th>\n",
              "      <th></th>\n",
              "      <th></th>\n",
              "      <th></th>\n",
              "      <th></th>\n",
              "      <th></th>\n",
              "      <th></th>\n",
              "    </tr>\n",
              "  </thead>\n",
              "  <tbody>\n",
              "    <tr>\n",
              "      <th>2020-02-01</th>\n",
              "      <td>10.30</td>\n",
              "      <td>10.34</td>\n",
              "      <td>10.23</td>\n",
              "      <td>10.29</td>\n",
              "      <td>10.039379</td>\n",
              "      <td>5688000</td>\n",
              "    </tr>\n",
              "    <tr>\n",
              "      <th>2020-03-01</th>\n",
              "      <td>10.29</td>\n",
              "      <td>10.35</td>\n",
              "      <td>10.26</td>\n",
              "      <td>10.31</td>\n",
              "      <td>10.058892</td>\n",
              "      <td>6992200</td>\n",
              "    </tr>\n",
              "    <tr>\n",
              "      <th>2020-06-01</th>\n",
              "      <td>10.22</td>\n",
              "      <td>10.25</td>\n",
              "      <td>10.17</td>\n",
              "      <td>10.21</td>\n",
              "      <td>9.961328</td>\n",
              "      <td>10068900</td>\n",
              "    </tr>\n",
              "    <tr>\n",
              "      <th>2020-07-01</th>\n",
              "      <td>10.12</td>\n",
              "      <td>10.17</td>\n",
              "      <td>10.10</td>\n",
              "      <td>10.10</td>\n",
              "      <td>9.854008</td>\n",
              "      <td>10589100</td>\n",
              "    </tr>\n",
              "    <tr>\n",
              "      <th>2020-08-01</th>\n",
              "      <td>10.00</td>\n",
              "      <td>10.12</td>\n",
              "      <td>9.99</td>\n",
              "      <td>10.09</td>\n",
              "      <td>9.844251</td>\n",
              "      <td>13440400</td>\n",
              "    </tr>\n",
              "  </tbody>\n",
              "</table>\n",
              "</div>"
            ],
            "text/plain": [
              "             Open   High    Low  Close  Adj Close    Volume\n",
              "Date                                                       \n",
              "2020-02-01  10.30  10.34  10.23  10.29  10.039379   5688000\n",
              "2020-03-01  10.29  10.35  10.26  10.31  10.058892   6992200\n",
              "2020-06-01  10.22  10.25  10.17  10.21   9.961328  10068900\n",
              "2020-07-01  10.12  10.17  10.10  10.10   9.854008  10589100\n",
              "2020-08-01  10.00  10.12   9.99  10.09   9.844251  13440400"
            ]
          },
          "metadata": {
            "tags": []
          },
          "execution_count": 82
        }
      ]
    },
    {
      "cell_type": "code",
      "metadata": {
        "colab": {
          "base_uri": "https://localhost:8080/"
        },
        "id": "2Uc5vodF9THa",
        "outputId": "ebab1633-5594-4903-e81a-afc0cfa29c91"
      },
      "source": [
        "df4['Close'][0:30]"
      ],
      "execution_count": null,
      "outputs": [
        {
          "output_type": "execute_result",
          "data": {
            "text/plain": [
              "Date\n",
              "2020-02-01    10.29\n",
              "2020-03-01    10.31\n",
              "2020-06-01    10.21\n",
              "2020-07-01    10.10\n",
              "2020-08-01    10.09\n",
              "2020-09-01    10.48\n",
              "2020-10-01    10.65\n",
              "2020-01-13    10.88\n",
              "2020-01-14    10.86\n",
              "2020-01-15    10.85\n",
              "2020-01-16    10.85\n",
              "2020-01-17    10.88\n",
              "2020-01-21    10.85\n",
              "2020-01-22    11.04\n",
              "2020-01-23    11.06\n",
              "2020-01-24    11.03\n",
              "2020-01-27    10.99\n",
              "2020-01-28    11.10\n",
              "2020-01-29    11.06\n",
              "2020-01-30    11.06\n",
              "2020-01-31    10.96\n",
              "2020-03-02    10.94\n",
              "2020-04-02    11.10\n",
              "2020-05-02    11.04\n",
              "2020-06-02    10.96\n",
              "2020-07-02    10.85\n",
              "2020-10-02    10.92\n",
              "2020-11-02    10.95\n",
              "2020-12-02    11.22\n",
              "2020-02-13    11.10\n",
              "Name: Close, dtype: float64"
            ]
          },
          "metadata": {
            "tags": []
          },
          "execution_count": 83
        }
      ]
    },
    {
      "cell_type": "code",
      "metadata": {
        "colab": {
          "base_uri": "https://localhost:8080/",
          "height": 393
        },
        "id": "f0OeChtu9aG3",
        "outputId": "d80973f9-23a2-46f5-fca8-94bb0d4987e7"
      },
      "source": [
        "df4['Close'][0:30].plot(figsize=(12,6))"
      ],
      "execution_count": null,
      "outputs": [
        {
          "output_type": "execute_result",
          "data": {
            "text/plain": [
              "<matplotlib.axes._subplots.AxesSubplot at 0x7fe0bd76f510>"
            ]
          },
          "metadata": {
            "tags": []
          },
          "execution_count": 84
        },
        {
          "output_type": "display_data",
          "data": {
            "image/png": "[encoded data removed]",
            "text/plain": [
              "<Figure size 864x432 with 1 Axes>"
            ]
          },
          "metadata": {
            "tags": [],
            "needs_background": "light"
          }
        }
      ]
    },
    {
      "cell_type": "code",
      "metadata": {
        "colab": {
          "base_uri": "https://localhost:8080/"
        },
        "id": "ILiqSeCO92nt",
        "outputId": "327e8bcd-4ae3-418b-d88b-dd3c2b41df95"
      },
      "source": [
        "df3[-30:]"
      ],
      "execution_count": null,
      "outputs": [
        {
          "output_type": "execute_result",
          "data": {
            "text/plain": [
              "[[10.162379690490724],\n",
              " [10.178668677337647],\n",
              " [10.194823242492676],\n",
              " [10.211203986755372],\n",
              " [10.22748712918091],\n",
              " [10.243250702545167],\n",
              " [10.258205992431641],\n",
              " [10.272196952789308],\n",
              " [10.285200790374757],\n",
              " [10.297285300476075],\n",
              " [10.308586658111574],\n",
              " [10.319269091522218],\n",
              " [10.32949507562256],\n",
              " [10.339404292083742],\n",
              " [10.34910427825928],\n",
              " [10.358670427185059],\n",
              " [10.368141896484376],\n",
              " [10.377536219421389],\n",
              " [10.38685164266968],\n",
              " [10.396070632965088],\n",
              " [10.405177410369875],\n",
              " [10.414149766082765],\n",
              " [10.422971335723878],\n",
              " [10.431628092681885],\n",
              " [10.440113023651124],\n",
              " [10.448419699768067],\n",
              " [10.456551627685547],\n",
              " [10.464508222961427],\n",
              " [10.472293576690674],\n",
              " [10.479914117736818]]"
            ]
          },
          "metadata": {
            "tags": []
          },
          "execution_count": 85
        }
      ]
    },
    {
      "cell_type": "code",
      "metadata": {
        "colab": {
          "base_uri": "https://localhost:8080/",
          "height": 280
        },
        "id": "9xYIoxGQ-Pj2",
        "outputId": "70ec0c7b-b034-48dd-985c-38efbb8b12d1"
      },
      "source": [
        "plt.plot(df3[-30:])"
      ],
      "execution_count": null,
      "outputs": [
        {
          "output_type": "execute_result",
          "data": {
            "text/plain": [
              "[<matplotlib.lines.Line2D at 0x7fe0bbee3390>]"
            ]
          },
          "metadata": {
            "tags": []
          },
          "execution_count": 86
        },
        {
          "output_type": "display_data",
          "data": {
            "image/png": "[encoded data removed]",
            "text/plain": [
              "<Figure size 576x288 with 1 Axes>"
            ]
          },
          "metadata": {
            "tags": [],
            "needs_background": "light"
          }
        }
      ]
    }
  ]
}